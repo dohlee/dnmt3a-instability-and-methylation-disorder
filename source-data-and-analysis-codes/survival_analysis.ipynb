{
 "cells": [
  {
   "cell_type": "code",
   "execution_count": 1,
   "id": "amino-daniel",
   "metadata": {},
   "outputs": [],
   "source": [
    "%run imports.ipynb"
   ]
  },
  {
   "cell_type": "code",
   "execution_count": 2,
   "id": "gross-dancing",
   "metadata": {},
   "outputs": [],
   "source": [
    "import pandas as pd\n",
    "import numpy as np\n",
    "import scipy as sp\n",
    "import sklearn\n",
    "import matplotlib.pyplot as plt\n",
    "import seaborn as sns"
   ]
  },
  {
   "cell_type": "code",
   "execution_count": 3,
   "id": "refined-broad",
   "metadata": {},
   "outputs": [],
   "source": [
    "import matplotlib as mpl\n",
    "mpl.rcParams['figure.dpi'] = 150\n",
    "plt.rc('font', family='FreeSans', size=7)"
   ]
  },
  {
   "cell_type": "code",
   "execution_count": 7,
   "id": "occupied-register",
   "metadata": {},
   "outputs": [],
   "source": [
    "stability_data = pd.read_csv('source_data/stability_scores.csv')\n",
    "instable_positions = set(stability_data[stability_data['stability_ratio_normalized_to_WT'] < 0.75]['aa_position'].values)\n",
    "\n",
    "def is_ins(pos):\n",
    "    return pos in instable_positions"
   ]
  },
  {
   "cell_type": "code",
   "execution_count": 9,
   "id": "native-participation",
   "metadata": {},
   "outputs": [],
   "source": [
    "import re\n",
    "\n",
    "def classify_DNMT3A_mutation(hgvsp):\n",
    "    if pd.isnull(hgvsp) or hgvsp == 'No data obtained':\n",
    "        return 'WT'\n",
    "    \n",
    "#     if hgvsp == 'L773fs (L773-e18+5)' or hgvsp == 'R792H/R803fs(e21+2)' or hgvsp == 'R729Q/D618fs(e15+2)' or hgvsp == 'G590fs/ 1.5Mb deletion':\n",
    "    if hgvsp == 'R792H/R803fs(e21+2)' or hgvsp == 'R729Q/D618fs(e15+2)' or hgvsp == 'A741V/E477*' or hgvsp == 'K829R/K468R':\n",
    "        return 'Other'\n",
    "    elif hgvsp == 'L773fs (L773-e18+5)':\n",
    "        return 'INS'\n",
    "    \n",
    "    if re.search('([0-9]+)', hgvsp) is None:\n",
    "        return 'WT'\n",
    "\n",
    "    pos = int(re.search('([0-9]+)', hgvsp).group(0))\n",
    "    \n",
    "    if 'fs' in hgvsp or '*' in hgvsp:\n",
    "        return 'INS'\n",
    "\n",
    "    else:\n",
    "        if re.search('([0-9]+)', hgvsp) is None:\n",
    "            return 'WT'\n",
    "        \n",
    "        pos = int(re.search('([0-9]+)', hgvsp).group(0))\n",
    "\n",
    "        if pos == 882:\n",
    "            return 'R882'\n",
    "        elif is_ins(pos):\n",
    "            return 'INS'\n",
    "        else:\n",
    "            return 'Other'"
   ]
  },
  {
   "cell_type": "markdown",
   "id": "existing-prague",
   "metadata": {},
   "source": [
    "## Timothy 2010"
   ]
  },
  {
   "cell_type": "code",
   "execution_count": 10,
   "id": "completed-sessions",
   "metadata": {},
   "outputs": [],
   "source": [
    "timothy2010 = pd.read_csv('../note2/results/CLINICAL-FINAL/timothy2010_clinical.csv')\n",
    "\n",
    "columns = ['patient_id', 'age', 'gender', 'race', 'fab', 'cytogenetics', 'mll_status', 'percent_bm_blasts', 'pb_wbc_presentation', 'pb_blast', 'deceased', \n",
    "           'efs_months', 'os_months', 'DNMT3A', 'DNMT3A_consequence', 'FLT3_ITD', 'FLT3_other', 'IDH1', 'IDH2', 'NPM1']\n",
    "\n",
    "timothy2010.columns = columns\n",
    "timothy2010.head(3)\n",
    "\n",
    "timothy2010['cohort'] = 'Timothy2010'\n",
    "\n",
    "timothy2010['DNMT3A_status'] = timothy2010.DNMT3A.apply(classify_DNMT3A_mutation)\n",
    "\n",
    "timothy2010 = timothy2010[['cohort', 'patient_id', 'age', 'gender', 'fab', 'cytogenetics', 'os_months', 'deceased', 'DNMT3A_status']]\n",
    "\n",
    "timothy2010['deceased'] = timothy2010.deceased == 'Dead'\n",
    "timothy2010['normal_cytogenetics'] = timothy2010.cytogenetics == 'normal'"
   ]
  },
  {
   "cell_type": "code",
   "execution_count": 11,
   "id": "remarkable-paragraph",
   "metadata": {},
   "outputs": [
    {
     "data": {
      "text/plain": [
       "WT       220\n",
       "R882      37\n",
       "INS       18\n",
       "Other      7\n",
       "Name: DNMT3A_status, dtype: int64"
      ]
     },
     "execution_count": 11,
     "metadata": {},
     "output_type": "execute_result"
    }
   ],
   "source": [
    "timothy2010.DNMT3A_status.value_counts()"
   ]
  },
  {
   "cell_type": "markdown",
   "id": "active-asset",
   "metadata": {},
   "source": [
    "## BEATAML"
   ]
  },
  {
   "cell_type": "code",
   "execution_count": 12,
   "id": "younger-webmaster",
   "metadata": {},
   "outputs": [
    {
     "data": {
      "text/plain": [
       "306"
      ]
     },
     "execution_count": 12,
     "metadata": {},
     "output_type": "execute_result"
    }
   ],
   "source": [
    "beataml = pd.read_csv('/data/project/SNUH_DNMT3A/note2/results/CLINICAL-FINAL/aml_ohsu_2018/data_clinical_patient.txt', sep='\\t', skiprows=4)\n",
    "beataml_sample = pd.read_csv('/data/project/SNUH_DNMT3A/note2/results/CLINICAL-FINAL/aml_ohsu_2018/data_clinical_sample.txt', sep='\\t', skiprows=4)\n",
    "\n",
    "# leukemia_samples = set(beataml_sample[beataml_sample.CANCER_TYPE == 'Leukemia'].SAMPLE_ID.unique())\n",
    "leukemia_patients = set(beataml_sample[beataml_sample.CANCER_TYPE == 'Leukemia'].PATIENT_ID.unique())\n",
    "denovo_patients = set(beataml_sample[(beataml_sample.SAMPLE_TIMEPOINT == 'Denovo') | (beataml_sample.SAMPLE_TIMEPOINT == 'Relapse')].PATIENT_ID.unique())\n",
    "# denovo_patients = set(beataml_sample[(beataml_sample.SAMPLE_TIMEPOINT == 'Denovo')].PATIENT_ID.unique())\n",
    "\n",
    "denovo_leukemia_patients = leukemia_patients & denovo_patients\n",
    "# beataml = beataml[beataml.PATIENT_ID.isin(leukemia_patients)]\n",
    "beataml = beataml[beataml.PATIENT_ID.isin(denovo_leukemia_patients)]\n",
    "\n",
    "sample2patient = {r.SAMPLE_ID:r.PATIENT_ID for r in beataml_sample.to_records()}\n",
    "patient2fab = {r.PATIENT_ID:r.FAB for r in beataml_sample.to_records()}\n",
    "patient2cytogenetics = {r.PATIENT_ID:r.CYTOGENETICS_OTHER for r in beataml_sample.to_records()}\n",
    "\n",
    "# beataml = beataml[beataml.CAUSE_OF_DEATH_SOURCE.notnull()]\n",
    "\n",
    "beataml['cohort'] = 'BEATAML'\n",
    "beataml['fab'] = beataml.PATIENT_ID.map(patient2fab)\n",
    "beataml['cytogenetics'] = beataml.PATIENT_ID.map(patient2cytogenetics)\n",
    "\n",
    "len(beataml)"
   ]
  },
  {
   "cell_type": "code",
   "execution_count": 14,
   "id": "widespread-warner",
   "metadata": {},
   "outputs": [],
   "source": [
    "from collections import defaultdict\n",
    "patient2dnmt3aclass = defaultdict(lambda: 'WT')\n",
    "patient2dnmt3a_mutation = {}\n",
    "\n",
    "for patient in beataml.PATIENT_ID.unique():\n",
    "    annotated_mutation = beataml_sample[beataml_sample.PATIENT_ID == patient]['DNMT3A_MUTATION'].values[0]\n",
    "    patient2dnmt3a_mutation[patient] = annotated_mutation\n",
    "    \n",
    "    if pd.isnull(annotated_mutation) or annotated_mutation == 'Negative':\n",
    "        patient2dnmt3aclass[patient] = 'WT'\n",
    "    elif 'R882' in annotated_mutation or 'r882' in annotated_mutation:\n",
    "        patient2dnmt3aclass[patient] = 'R882'\n",
    "    elif annotated_mutation == 'p.P777S; MAF 90%':\n",
    "        patient2dnmt3aclass[patient] = 'INS'\n",
    "    elif annotated_mutation == 'c.2635_2651delAACATGAGCCGCTTGGC; p.N879Efs*36         c.2656C>T; pQ886*    MAF 43%, 36%':\n",
    "        patient2dnmt3aclass[patient] = 'Other'\n",
    "    elif annotated_mutation in {\n",
    "        'p.R326P; MAF 50%',\n",
    "        'F609fs*3; MAF 42%',\n",
    "        'W297*; MAF 44%',\n",
    "        'p.S307fs; MAF 45.6%',\n",
    "        ' p.Trp297* (NM_175629.2); MAF 82.1%',\n",
    "        'p.E283*; MAF 30%',\n",
    "        'p.Gln231fs; MAF 33.2%',\n",
    "        'F290fs*24; MAF 40%',\n",
    "        'p.Arg326Cys; MAF 44.5%',\n",
    "    }:\n",
    "        patient2dnmt3aclass[patient] = 'INS'\n",
    "    elif '*' in annotated_mutation or 'fs' in annotated_mutation:\n",
    "        patient2dnmt3aclass[patient] = 'INS'\n",
    "    elif annotated_mutation in {\n",
    "        'p.P777L; MAF 50%',\n",
    "        'p.R736H; MAF 45%',\n",
    "        'p.S714C; MAF 35%',\n",
    "    }:\n",
    "        patient2dnmt3aclass[patient] = 'INS'\n",
    "    else:\n",
    "        patient2dnmt3aclass[patient] = 'Other'"
   ]
  },
  {
   "cell_type": "code",
   "execution_count": 15,
   "id": "intimate-montana",
   "metadata": {},
   "outputs": [],
   "source": [
    "beataml['DNMT3A_status'] = beataml.PATIENT_ID.map(patient2dnmt3aclass)\n",
    "beataml['DNMT3A_mutation'] = beataml.PATIENT_ID.map(patient2dnmt3a_mutation)\n",
    "\n",
    "beataml = beataml[['cohort', 'PATIENT_ID', 'AGE_AT_DIAGNOSIS', 'SEX', 'fab', 'cytogenetics', 'OS_MONTHS', 'OS_STATUS', 'DNMT3A_status', 'DNMT3A_mutation']]\n",
    "beataml.columns = ['cohort', 'patient_id', 'age', 'gender', 'fab', 'cytogenetics', 'os_months', 'deceased', 'DNMT3A_status', 'DNMT3A_mutation']\n",
    "\n",
    "beataml['deceased'] = beataml.deceased == '1:DECEASED'\n",
    "beataml['normal_cytogenetics'] = beataml.cytogenetics == 'Normal'"
   ]
  },
  {
   "cell_type": "markdown",
   "id": "accessory-borough",
   "metadata": {},
   "source": [
    "## TCGA-LAML"
   ]
  },
  {
   "cell_type": "code",
   "execution_count": 16,
   "id": "amended-czech",
   "metadata": {},
   "outputs": [
    {
     "data": {
      "text/html": [
       "<div>\n",
       "<style scoped>\n",
       "    .dataframe tbody tr th:only-of-type {\n",
       "        vertical-align: middle;\n",
       "    }\n",
       "\n",
       "    .dataframe tbody tr th {\n",
       "        vertical-align: top;\n",
       "    }\n",
       "\n",
       "    .dataframe thead th {\n",
       "        text-align: right;\n",
       "    }\n",
       "</style>\n",
       "<table border=\"1\" class=\"dataframe\">\n",
       "  <thead>\n",
       "    <tr style=\"text-align: right;\">\n",
       "      <th></th>\n",
       "      <th>PATIENT_ID</th>\n",
       "      <th>SEX</th>\n",
       "      <th>RACE</th>\n",
       "      <th>FAB</th>\n",
       "      <th>AGE</th>\n",
       "      <th>BM_BLAST_PERCENTAGE</th>\n",
       "      <th>WBC</th>\n",
       "      <th>PB_BLAST_PERCENTAGE</th>\n",
       "      <th>AML_IN_SKIN_PERCENTAGE</th>\n",
       "      <th>CYTOGENETICS</th>\n",
       "      <th>CYTOGENETIC_CODE_OTHER</th>\n",
       "      <th>RISK_CYTO</th>\n",
       "      <th>HISTOLOGICAL_SUBTYPE</th>\n",
       "      <th>RISK_MOLECULAR</th>\n",
       "      <th>DFS_MONTHS</th>\n",
       "      <th>DFS_STATUS</th>\n",
       "      <th>INDUCTION</th>\n",
       "      <th>TRANSPLANT_TYPE</th>\n",
       "      <th>DARK_ZONE_STAT</th>\n",
       "      <th>OS_MONTHS</th>\n",
       "      <th>OS_STATUS</th>\n",
       "    </tr>\n",
       "  </thead>\n",
       "  <tbody>\n",
       "    <tr>\n",
       "      <th>0</th>\n",
       "      <td>TCGA-AB-2803</td>\n",
       "      <td>Female</td>\n",
       "      <td>WHITE</td>\n",
       "      <td>M3</td>\n",
       "      <td>61</td>\n",
       "      <td>44</td>\n",
       "      <td>1.0</td>\n",
       "      <td>NaN</td>\n",
       "      <td>n.d.</td>\n",
       "      <td>46,XX,t(15;17)(q22:q21)[15]</td>\n",
       "      <td>PML-RARA</td>\n",
       "      <td>Good</td>\n",
       "      <td>PML-RARA</td>\n",
       "      <td>Good</td>\n",
       "      <td>24.1</td>\n",
       "      <td>1:Recurred/Progressed</td>\n",
       "      <td>7+3+ATRA</td>\n",
       "      <td>0</td>\n",
       "      <td>0</td>\n",
       "      <td>25.7</td>\n",
       "      <td>1:DECEASED</td>\n",
       "    </tr>\n",
       "    <tr>\n",
       "      <th>1</th>\n",
       "      <td>TCGA-AB-2804</td>\n",
       "      <td>Male</td>\n",
       "      <td>WHITE</td>\n",
       "      <td>M3</td>\n",
       "      <td>30</td>\n",
       "      <td>82</td>\n",
       "      <td>5.7</td>\n",
       "      <td>NaN</td>\n",
       "      <td>n.d.</td>\n",
       "      <td>46, XY[25]</td>\n",
       "      <td>Normal Karyotype</td>\n",
       "      <td>Intermediate</td>\n",
       "      <td>PML-RARA</td>\n",
       "      <td>Good</td>\n",
       "      <td>57.2</td>\n",
       "      <td>1:Recurred/Progressed</td>\n",
       "      <td>7+3+ATRA</td>\n",
       "      <td>Auto, sib Allo</td>\n",
       "      <td>CR 2, CR 3</td>\n",
       "      <td>95.3</td>\n",
       "      <td>0:LIVING</td>\n",
       "    </tr>\n",
       "    <tr>\n",
       "      <th>2</th>\n",
       "      <td>TCGA-AB-2806</td>\n",
       "      <td>Male</td>\n",
       "      <td>WHITE</td>\n",
       "      <td>M1</td>\n",
       "      <td>46</td>\n",
       "      <td>90</td>\n",
       "      <td>29.4</td>\n",
       "      <td>81.0</td>\n",
       "      <td>n.d.</td>\n",
       "      <td>45,X,-Y, t(8;7;21)(q22;p15;q22[22]/46,XY[3]</td>\n",
       "      <td>RUNX1-RUNX1T1</td>\n",
       "      <td>Good</td>\n",
       "      <td>RUNX1-RUNX1T1</td>\n",
       "      <td>Good</td>\n",
       "      <td>16.1</td>\n",
       "      <td>1:Recurred/Progressed</td>\n",
       "      <td>7+3+3+PSC</td>\n",
       "      <td>MUD</td>\n",
       "      <td>CR 2</td>\n",
       "      <td>30.6</td>\n",
       "      <td>1:DECEASED</td>\n",
       "    </tr>\n",
       "  </tbody>\n",
       "</table>\n",
       "</div>"
      ],
      "text/plain": [
       "     PATIENT_ID     SEX   RACE FAB  AGE  BM_BLAST_PERCENTAGE   WBC  \\\n",
       "0  TCGA-AB-2803  Female  WHITE  M3   61                   44   1.0   \n",
       "1  TCGA-AB-2804    Male  WHITE  M3   30                   82   5.7   \n",
       "2  TCGA-AB-2806    Male  WHITE  M1   46                   90  29.4   \n",
       "\n",
       "   PB_BLAST_PERCENTAGE AML_IN_SKIN_PERCENTAGE  \\\n",
       "0                  NaN                   n.d.   \n",
       "1                  NaN                   n.d.   \n",
       "2                 81.0                   n.d.   \n",
       "\n",
       "                                  CYTOGENETICS CYTOGENETIC_CODE_OTHER  \\\n",
       "0                  46,XX,t(15;17)(q22:q21)[15]               PML-RARA   \n",
       "1                                   46, XY[25]       Normal Karyotype   \n",
       "2  45,X,-Y, t(8;7;21)(q22;p15;q22[22]/46,XY[3]          RUNX1-RUNX1T1   \n",
       "\n",
       "      RISK_CYTO HISTOLOGICAL_SUBTYPE RISK_MOLECULAR  DFS_MONTHS  \\\n",
       "0          Good             PML-RARA           Good        24.1   \n",
       "1  Intermediate             PML-RARA           Good        57.2   \n",
       "2          Good        RUNX1-RUNX1T1           Good        16.1   \n",
       "\n",
       "              DFS_STATUS  INDUCTION TRANSPLANT_TYPE DARK_ZONE_STAT  OS_MONTHS  \\\n",
       "0  1:Recurred/Progressed   7+3+ATRA               0              0       25.7   \n",
       "1  1:Recurred/Progressed   7+3+ATRA  Auto, sib Allo     CR 2, CR 3       95.3   \n",
       "2  1:Recurred/Progressed  7+3+3+PSC             MUD           CR 2       30.6   \n",
       "\n",
       "    OS_STATUS  \n",
       "0  1:DECEASED  \n",
       "1    0:LIVING  \n",
       "2  1:DECEASED  "
      ]
     },
     "execution_count": 16,
     "metadata": {},
     "output_type": "execute_result"
    }
   ],
   "source": [
    "tcga_patient = pd.read_csv('/data/project/SNUH_DNMT3A/note2/results/CLINICAL-FINAL/laml_tcga_pub/data_clinical_patient.txt', sep='\\t', skiprows=4)\n",
    "tcga_sample = pd.read_csv('/data/project/SNUH_DNMT3A/note2/results/CLINICAL-FINAL/laml_tcga_pub/data_clinical_sample.txt', sep='\\t', skiprows=4)\n",
    "tcga_mutations = pd.read_csv('/data/project/SNUH_DNMT3A/note2/results/CLINICAL-FINAL/laml_tcga_pub/data_mutations_extended.txt', sep='\\t')\n",
    "\n",
    "tcga_patient.head(3)"
   ]
  },
  {
   "cell_type": "code",
   "execution_count": 18,
   "id": "freelance-aerospace",
   "metadata": {},
   "outputs": [],
   "source": [
    "meta = pd.read_excel('source_data/variant_calls.xlsx', sheet_name='TCGA-LAML')\n",
    "tcga_barcode2status = {r.Name:r['status'] for r in meta.to_records()}"
   ]
  },
  {
   "cell_type": "code",
   "execution_count": 19,
   "id": "protected-silly",
   "metadata": {},
   "outputs": [],
   "source": [
    "tcga_patient['DNMT3A_status'] = tcga_patient.PATIENT_ID.map(tcga_barcode2status)"
   ]
  },
  {
   "cell_type": "code",
   "execution_count": 20,
   "id": "connected-alpha",
   "metadata": {},
   "outputs": [],
   "source": [
    "tcga_patient['cohort'] = 'TCGA-LAML'\n",
    "tcga = tcga_patient[['cohort', 'PATIENT_ID', 'AGE', 'SEX', 'FAB', 'CYTOGENETIC_CODE_OTHER', 'OS_MONTHS', 'OS_STATUS', 'DNMT3A_status']].copy()\n",
    "\n",
    "tcga.columns = ['cohort', 'patient_id', 'age', 'gender', 'fab', 'cytogenetics', 'os_months', 'deceased', 'DNMT3A_status']\n",
    "tcga['deceased'] = tcga.deceased == '1:DECEASED'\n",
    "tcga['normal_cytogenetics'] = tcga.cytogenetics == 'Normal Karyotype'"
   ]
  },
  {
   "cell_type": "markdown",
   "id": "convertible-programmer",
   "metadata": {},
   "source": [
    "## Overall"
   ]
  },
  {
   "cell_type": "code",
   "execution_count": 21,
   "id": "existing-ghost",
   "metadata": {},
   "outputs": [
    {
     "data": {
      "text/plain": [
       "(282, 306, 200)"
      ]
     },
     "execution_count": 21,
     "metadata": {},
     "output_type": "execute_result"
    }
   ],
   "source": [
    "data = pd.concat([timothy2010, beataml, tcga])\n",
    "\n",
    "len(timothy2010), len(beataml), len(tcga)"
   ]
  },
  {
   "cell_type": "code",
   "execution_count": 22,
   "id": "combined-roller",
   "metadata": {},
   "outputs": [],
   "source": [
    "import lifelines\n",
    "from matplotlib.lines import Line2D"
   ]
  },
  {
   "cell_type": "code",
   "execution_count": 29,
   "id": "civilian-romance",
   "metadata": {},
   "outputs": [],
   "source": [
    "data_notnull = data[(data.deceased.notnull()) & (data.os_months.notnull())]\n",
    "data_notnull = data_notnull[data_notnull.age >= 20]\n",
    "data_notnull = data_notnull[data_notnull.fab != 'M3']"
   ]
  },
  {
   "cell_type": "code",
   "execution_count": 30,
   "id": "freelance-robertson",
   "metadata": {},
   "outputs": [
    {
     "data": {
      "text/plain": [
       "WT       520\n",
       "R882      85\n",
       "INS       41\n",
       "Other     22\n",
       "Name: DNMT3A_status, dtype: int64"
      ]
     },
     "execution_count": 30,
     "metadata": {},
     "output_type": "execute_result"
    }
   ],
   "source": [
    "data_notnull.DNMT3A_status.value_counts()"
   ]
  },
  {
   "cell_type": "code",
   "execution_count": 33,
   "id": "decent-wrestling",
   "metadata": {},
   "outputs": [],
   "source": [
    "data_notnull.to_csv('source_data/survival.csv', index=False)"
   ]
  },
  {
   "cell_type": "code",
   "execution_count": 66,
   "id": "dense-split",
   "metadata": {},
   "outputs": [
    {
     "name": "stdout",
     "output_type": "stream",
     "text": [
      "There are 668 patients in this survival analysis.\n",
      "INS vs Other log-rank p: 0.45173435340582546\n"
     ]
    },
    {
     "name": "stderr",
     "output_type": "stream",
     "text": [
      "/data/project/dohoon/miniconda3/envs/dnmt3a/lib/python3.7/site-packages/lifelines/plotting.py:169: UserWarning: This figure includes Axes that are not compatible with tight_layout, so results might be incorrect.\n",
      "  plt.tight_layout()\n"
     ]
    },
    {
     "data": {
      "image/png": "[encoded data removed]",
      "text/plain": [
       "<Figure size 345x345 with 3 Axes>"
      ]
     },
     "metadata": {
      "needs_background": "light"
     },
     "output_type": "display_data"
    }
   ],
   "source": [
    "import matplotlib.gridspec as gridspec\n",
    "\n",
    "fig = plt.figure(figsize=(2.3, 2.3))\n",
    "\n",
    "configs = [\n",
    "    {'fab': False, 'cyto': False, 'title': 'Entire pooled cohort'},\n",
    "    {'fab': True, 'cyto': False, 'title': 'Non-M3'},\n",
    "    {'fab': False, 'cyto': True, 'title': 'CN-AML'},\n",
    "    {'fab': True, 'cyto': True, 'title': 'Non-M3 CN-AML'},\n",
    "]\n",
    "\n",
    "ax = fig.add_subplot(111)\n",
    "\n",
    "print(f'There are {len(data_notnull)} patients in this survival analysis.')\n",
    "\n",
    "wt_mask = (data_notnull.DNMT3A_status == 'WT')\n",
    "r882_mask = (data_notnull.DNMT3A_status == 'R882')\n",
    "other_mask = (data_notnull.DNMT3A_status == 'Other')\n",
    "ins_mask = (data_notnull.DNMT3A_status == 'INS')\n",
    "\n",
    "labels = []\n",
    "kmf_dict = {}\n",
    "\n",
    "for label, color, mask in zip(['WT', 'Other', 'R882', 'INS'], ['C1', 'skyblue', 'C0', '#990000'], [wt_mask, other_mask, r882_mask, ins_mask]):\n",
    "    E = (data_notnull[mask].deceased)\n",
    "    T = (data_notnull[mask].os_months)\n",
    "\n",
    "    kmf = lifelines.KaplanMeierFitter()\n",
    "    kmf.fit(T, E, label=label)\n",
    "    kmf.plot_survival_function(ax=ax, show_censors=True, censor_styles={'ms': 5}, c=color, lw=1.33, ci_show=False)\n",
    "    \n",
    "    kmf_dict[label] = kmf\n",
    "\n",
    "    if label == 'WT':\n",
    "        labels.append(f'{label} (n={mask.sum()})')\n",
    "    else:\n",
    "        cox = lifelines.CoxPHFitter()\n",
    "\n",
    "        tmp = data_notnull.copy()\n",
    "        tmp['mut_status'] = mask\n",
    "        tmp = tmp[mask | wt_mask]\n",
    "\n",
    "        p = lifelines.statistics.logrank_test(\n",
    "            durations_A = data_notnull[wt_mask].os_months,\n",
    "            durations_B = data_notnull[mask].os_months,\n",
    "            event_observed_A = (data_notnull[wt_mask].deceased),\n",
    "            event_observed_B = (data_notnull[mask].deceased),\n",
    "        ).summary.p.values[0]\n",
    "        \n",
    "        labels.append(f'{label} (n={mask.sum()}, vs WT p={p:.3g})')\n",
    "        \n",
    "p = lifelines.statistics.logrank_test(\n",
    "    durations_A = data_notnull[ins_mask].os_months,\n",
    "    durations_B = data_notnull[other_mask].os_months,\n",
    "    event_observed_A = (data_notnull[ins_mask].deceased),\n",
    "    event_observed_B = (data_notnull[other_mask].deceased),\n",
    ").summary.p.values[0]\n",
    "print(f'INS vs Other log-rank p: {p}')\n",
    "\n",
    "\n",
    "handles = [\n",
    "    Line2D([0], [0], color='C1', linewidth=2),\n",
    "    Line2D([0], [0], color='skyblue', linewidth=2),\n",
    "    Line2D([0], [0], color='C0', linewidth=2),\n",
    "    Line2D([0], [0], color='#990000', linewidth=2),\n",
    "]\n",
    "ax.legend(handles, labels, frameon=False, fontsize=6)\n",
    "\n",
    "ax.set_xlabel('Months')\n",
    "ax.set_ylabel('Survival probability')\n",
    "ax.set_xticks(range(0, int(data_notnull.os_months.max()), 20))\n",
    "ax.set_xlim([-1, int(data_notnull.os_months.max()) + 1])\n",
    "ax.set_ylim([-0.025, 1.025])\n",
    "\n",
    "from lifelines.plotting import add_at_risk_counts\n",
    "\n",
    "ax = fig.add_axes((0.23, 0.3, 0.69, 0.8))\n",
    "ax.set_xticks(range(0, int(data_notnull.os_months.max()), 20))\n",
    "ax.axis('off')\n",
    "ax2 = add_at_risk_counts(kmf_dict['WT'], kmf_dict['R882'], kmf_dict['Other'], kmf_dict['INS'], ax=ax)\n",
    "\n",
    "save_figures('source_data_figures/survival/km_plot')"
   ]
  },
  {
   "cell_type": "code",
   "execution_count": 61,
   "id": "hidden-labor",
   "metadata": {},
   "outputs": [],
   "source": [
    "gender_binary_map = {\n",
    "    'M': 0,\n",
    "    'F': 1,\n",
    "    'Male': 0,\n",
    "    'Female': 1,\n",
    "}\n",
    "\n",
    "data_notnull = pd.read_csv('source_data/survival.csv')\n",
    "data_notnull['gender_binary'] = data_notnull.gender.map(gender_binary_map)"
   ]
  },
  {
   "cell_type": "code",
   "execution_count": 68,
   "id": "smart-aside",
   "metadata": {},
   "outputs": [
    {
     "data": {
      "text/plain": [
       "<lifelines.CoxPHFitter: fitted with 668 observations, 271 censored>"
      ]
     },
     "execution_count": 68,
     "metadata": {},
     "output_type": "execute_result"
    }
   ],
   "source": [
    "t = data_notnull.copy()\n",
    "\n",
    "cols = pd.get_dummies(data_notnull.DNMT3A_status).columns\n",
    "t[cols] = pd.get_dummies(data_notnull.DNMT3A_status)\n",
    "\n",
    "# t[['M0', 'M1', 'M2', 'M4', 'M4eo', 'M5', 'M5a', 'M5b', 'M6', 'M7', 'NOS', 'nc']] = pd.get_dummies(data_notnull.fab)\n",
    "t['fab_m3'] = t.fab == 'M3'\n",
    "\n",
    "t = t[~t.fab_m3]\n",
    "t = t[t.age >= 20]\n",
    "t['age_bin'] = (t.age > 60).astype(int)\n",
    "t = t[['Other', 'R882', 'INS', 'age_bin', 'gender_binary', 'os_months', 'deceased']].dropna()\n",
    "\n",
    "cox = lifelines.CoxPHFitter()\n",
    "\n",
    "cox.fit(df=t.reset_index(drop=True), duration_col='os_months', event_col='deceased')"
   ]
  },
  {
   "cell_type": "code",
   "execution_count": 69,
   "id": "renewable-litigation",
   "metadata": {},
   "outputs": [
    {
     "name": "stdout",
     "output_type": "stream",
     "text": [
      "<lifelines.CoxPHFitter: fitted with 668 observations, 271 censored>\n",
      "      duration col = 'os_months'\n",
      "         event col = 'deceased'\n",
      "number of subjects = 668\n",
      "  number of events = 397\n",
      "    log-likelihood = -2275.47\n",
      "  time fit was run = 2022-11-11 00:09:26 UTC\n",
      "\n",
      "---\n",
      "               coef  exp(coef)  se(coef)     z      p  -log2(p)  lower 0.95  upper 0.95\n",
      "Other         -0.14       0.87      0.30 -0.48   0.63      0.66       -0.73        0.44\n",
      "R882           0.47       1.59      0.15  3.20 <0.005      9.53        0.18        0.75\n",
      "INS            0.61       1.85      0.19  3.27 <0.005      9.86        0.25        0.98\n",
      "age_bin        1.01       2.74      0.11  9.60 <0.005     70.07        0.80        1.21\n",
      "gender_binary  0.01       1.01      0.10  0.14   0.89      0.17       -0.19        0.22\n",
      "---\n",
      "Concordance = 0.65\n",
      "Log-likelihood ratio test = 101.46 on 5 df, -log2(p)=65.06\n"
     ]
    }
   ],
   "source": [
    "cox.print_summary()"
   ]
  },
  {
   "cell_type": "code",
   "execution_count": 70,
   "id": "straight-research",
   "metadata": {},
   "outputs": [
    {
     "data": {
      "image/png": "[encoded data removed]",
      "text/plain": [
       "<Figure size 300x150 with 1 Axes>"
      ]
     },
     "metadata": {
      "needs_background": "light"
     },
     "output_type": "display_data"
    }
   ],
   "source": [
    "res = cox.summary.loc[['INS', 'R882', 'Other', 'gender_binary', 'age_bin']]\n",
    "\n",
    "res['lower 0.95'] = np.exp(res['lower 0.95'])\n",
    "res['upper 0.95'] = np.exp(res['upper 0.95'])\n",
    "\n",
    "fig = plt.figure(figsize=(2, 1))\n",
    "ax = fig.add_subplot(111)\n",
    "\n",
    "for i, r in enumerate(res.to_records()):\n",
    "    if i == 0:\n",
    "        ax.plot([r['lower 0.95'], r['upper 0.95']], [i, i], c='0.7', label='95% CI')\n",
    "    else:\n",
    "        ax.plot([r['lower 0.95'], r['upper 0.95']], [i, i], c='0.7')\n",
    "    ax.scatter(r['exp(coef)'], i, marker='D', c='C3', s=10, zorder=10)\n",
    "    \n",
    "    annotation_x = 3.6\n",
    "    ax.annotate(f'HR={r[\"exp(coef)\"]:.2f} ({r[\"lower 0.95\"]:.2f}, {r[\"upper 0.95\"]:.2f}), p={r[\"p\"]:.2g}', (annotation_x, i), (annotation_x, i),\n",
    "                    annotation_clip=False, ha='left', va='center', fontsize=6)\n",
    "\n",
    "ax.legend(frameon=False, bbox_to_anchor=(1.04, 1.25), loc='upper right', fontsize=6)    \n",
    "\n",
    "ax.axhspan(0.5, 1.5, fc='k', alpha=0.11)\n",
    "ax.axhspan(2.5, 3.5, fc='k', alpha=0.11)\n",
    "\n",
    "ax.set_xlabel('Hazard ratio')\n",
    "ax.set_yticks([0, 1, 2, 3, 4])\n",
    "ax.set_yticklabels(['INS', 'R882', 'Other', 'Gender (Female)', 'Age (>60)'])\n",
    "\n",
    "ax.axvline(1.0, ls='--', lw=1, c='k')    \n",
    "ax.set_ylim([-0.5, 4.5])\n",
    "# ax.set_xscale('log')\n",
    "ax.invert_yaxis()\n",
    "\n",
    "save_figures('source_data_figures/survival/cox_plot')"
   ]
  }
 ],
 "metadata": {
  "kernelspec": {
   "display_name": "analysis",
   "language": "python",
   "name": "dnmt3a"
  },
  "language_info": {
   "codemirror_mode": {
    "name": "ipython",
    "version": 3
   },
   "file_extension": ".py",
   "mimetype": "text/x-python",
   "name": "python",
   "nbconvert_exporter": "python",
   "pygments_lexer": "ipython3",
   "version": "3.7.6"
  }
 },
 "nbformat": 4,
 "nbformat_minor": 5
}
