{
 "cells": [
  {
   "cell_type": "code",
   "execution_count": 1,
   "id": "ranking-lover",
   "metadata": {},
   "outputs": [],
   "source": [
    "%run imports.ipynb"
   ]
  },
  {
   "cell_type": "code",
   "execution_count": 39,
   "id": "biological-swaziland",
   "metadata": {},
   "outputs": [
    {
     "data": {
      "text/html": [
       "<div>\n",
       "<style scoped>\n",
       "    .dataframe tbody tr th:only-of-type {\n",
       "        vertical-align: middle;\n",
       "    }\n",
       "\n",
       "    .dataframe tbody tr th {\n",
       "        vertical-align: top;\n",
       "    }\n",
       "\n",
       "    .dataframe thead th {\n",
       "        text-align: right;\n",
       "    }\n",
       "</style>\n",
       "<table border=\"1\" class=\"dataframe\">\n",
       "  <thead>\n",
       "    <tr style=\"text-align: right;\">\n",
       "      <th></th>\n",
       "      <th>id</th>\n",
       "      <th>Gender</th>\n",
       "      <th>Age</th>\n",
       "      <th>Chr</th>\n",
       "      <th>Pos</th>\n",
       "      <th>Ref</th>\n",
       "      <th>Alt</th>\n",
       "      <th>Gene</th>\n",
       "      <th>Refseq</th>\n",
       "      <th>ExonIndex</th>\n",
       "      <th>Effect</th>\n",
       "      <th>AA</th>\n",
       "      <th>CDS</th>\n",
       "      <th>Targeted</th>\n",
       "      <th>CosmicAll</th>\n",
       "      <th>CosmicTumor</th>\n",
       "      <th>CommVar</th>\n",
       "      <th>dbSNP</th>\n",
       "      <th>TotReadCnt</th>\n",
       "      <th>TotAltCnt</th>\n",
       "      <th>TotRefCnt</th>\n",
       "      <th>TotVaf</th>\n",
       "      <th>KRAF</th>\n",
       "      <th>KRAF2</th>\n",
       "      <th>KRAF3</th>\n",
       "      <th>CST</th>\n",
       "      <th>LVF</th>\n",
       "      <th>BStrand</th>\n",
       "      <th>FILTER1</th>\n",
       "      <th>FILTER2</th>\n",
       "      <th>isSNV</th>\n",
       "    </tr>\n",
       "  </thead>\n",
       "  <tbody>\n",
       "    <tr>\n",
       "      <th>0</th>\n",
       "      <td>9</td>\n",
       "      <td>F</td>\n",
       "      <td>74</td>\n",
       "      <td>chr2</td>\n",
       "      <td>25463589</td>\n",
       "      <td>C</td>\n",
       "      <td>T</td>\n",
       "      <td>DNMT3A</td>\n",
       "      <td>NM_022552.4</td>\n",
       "      <td>18</td>\n",
       "      <td>STOP_GAINED</td>\n",
       "      <td>p.Trp698*</td>\n",
       "      <td>c.2093G&gt;A</td>\n",
       "      <td>True</td>\n",
       "      <td>NaN</td>\n",
       "      <td>NaN</td>\n",
       "      <td>NaN</td>\n",
       "      <td>.</td>\n",
       "      <td>1524</td>\n",
       "      <td>47</td>\n",
       "      <td>1477</td>\n",
       "      <td>3.1</td>\n",
       "      <td>NaN</td>\n",
       "      <td>NaN</td>\n",
       "      <td>NaN</td>\n",
       "      <td>NaN</td>\n",
       "      <td>NaN</td>\n",
       "      <td>True</td>\n",
       "      <td>True</td>\n",
       "      <td>True</td>\n",
       "      <td>False</td>\n",
       "    </tr>\n",
       "    <tr>\n",
       "      <th>1</th>\n",
       "      <td>10</td>\n",
       "      <td>F</td>\n",
       "      <td>67</td>\n",
       "      <td>chr2</td>\n",
       "      <td>25457155</td>\n",
       "      <td>C</td>\n",
       "      <td>T</td>\n",
       "      <td>DNMT3A</td>\n",
       "      <td>NM_022552.4</td>\n",
       "      <td>23</td>\n",
       "      <td>NON_SYNONYMOUS_CODING</td>\n",
       "      <td>p.Cys911Tyr</td>\n",
       "      <td>c.2732G&gt;A</td>\n",
       "      <td>True</td>\n",
       "      <td>NaN</td>\n",
       "      <td>NaN</td>\n",
       "      <td>NaN</td>\n",
       "      <td>.</td>\n",
       "      <td>1704</td>\n",
       "      <td>18</td>\n",
       "      <td>1686</td>\n",
       "      <td>1.1</td>\n",
       "      <td>NaN</td>\n",
       "      <td>NaN</td>\n",
       "      <td>NaN</td>\n",
       "      <td>NaN</td>\n",
       "      <td>NaN</td>\n",
       "      <td>True</td>\n",
       "      <td>True</td>\n",
       "      <td>True</td>\n",
       "      <td>False</td>\n",
       "    </tr>\n",
       "    <tr>\n",
       "      <th>2</th>\n",
       "      <td>12</td>\n",
       "      <td>F</td>\n",
       "      <td>58</td>\n",
       "      <td>chr2</td>\n",
       "      <td>25463265</td>\n",
       "      <td>G</td>\n",
       "      <td>C</td>\n",
       "      <td>DNMT3A</td>\n",
       "      <td>NM_022552.4</td>\n",
       "      <td>19</td>\n",
       "      <td>NON_SYNONYMOUS_CODING</td>\n",
       "      <td>p.Pro743Arg</td>\n",
       "      <td>c.2228C&gt;G</td>\n",
       "      <td>True</td>\n",
       "      <td>NaN</td>\n",
       "      <td>NaN</td>\n",
       "      <td>NaN</td>\n",
       "      <td>.</td>\n",
       "      <td>1377</td>\n",
       "      <td>32</td>\n",
       "      <td>1345</td>\n",
       "      <td>2.3</td>\n",
       "      <td>NaN</td>\n",
       "      <td>NaN</td>\n",
       "      <td>NaN</td>\n",
       "      <td>NaN</td>\n",
       "      <td>NaN</td>\n",
       "      <td>True</td>\n",
       "      <td>True</td>\n",
       "      <td>True</td>\n",
       "      <td>True</td>\n",
       "    </tr>\n",
       "  </tbody>\n",
       "</table>\n",
       "</div>"
      ],
      "text/plain": [
       "   id Gender  Age   Chr       Pos Ref Alt    Gene       Refseq  ExonIndex  \\\n",
       "0   9      F   74  chr2  25463589   C   T  DNMT3A  NM_022552.4         18   \n",
       "1  10      F   67  chr2  25457155   C   T  DNMT3A  NM_022552.4         23   \n",
       "2  12      F   58  chr2  25463265   G   C  DNMT3A  NM_022552.4         19   \n",
       "\n",
       "                  Effect           AA        CDS  Targeted CosmicAll  \\\n",
       "0            STOP_GAINED    p.Trp698*  c.2093G>A      True       NaN   \n",
       "1  NON_SYNONYMOUS_CODING  p.Cys911Tyr  c.2732G>A      True       NaN   \n",
       "2  NON_SYNONYMOUS_CODING  p.Pro743Arg  c.2228C>G      True       NaN   \n",
       "\n",
       "  CosmicTumor  CommVar dbSNP  TotReadCnt  TotAltCnt  TotRefCnt  TotVaf  KRAF  \\\n",
       "0         NaN      NaN     .        1524         47       1477     3.1   NaN   \n",
       "1         NaN      NaN     .        1704         18       1686     1.1   NaN   \n",
       "2         NaN      NaN     .        1377         32       1345     2.3   NaN   \n",
       "\n",
       "   KRAF2  KRAF3  CST  LVF  BStrand  FILTER1  FILTER2  isSNV  \n",
       "0    NaN    NaN  NaN  NaN     True     True     True  False  \n",
       "1    NaN    NaN  NaN  NaN     True     True     True  False  \n",
       "2    NaN    NaN  NaN  NaN     True     True     True   True  "
      ]
     },
     "execution_count": 39,
     "metadata": {},
     "output_type": "execute_result"
    }
   ],
   "source": [
    "dnmt3a = pd.read_excel('/data/project/SNUH_DNMT3A/data/gangnam_DNMT3A.xlsx', sheet_name='CHIP').rename({'연구번호': 'id'}, axis=1)\n",
    "\n",
    "dnmt3a = dnmt3a[dnmt3a['id'] != 3].reset_index(drop=True)\n",
    "dnmt3a.head(3)"
   ]
  },
  {
   "cell_type": "code",
   "execution_count": 38,
   "id": "gorgeous-screen",
   "metadata": {},
   "outputs": [],
   "source": [
    "# dnmt3a.to_csv('source_data/chip_dnmt3a.csv', index=False)"
   ]
  },
  {
   "cell_type": "code",
   "execution_count": 40,
   "id": "comfortable-north",
   "metadata": {},
   "outputs": [],
   "source": [
    "dnmt3a = pd.read_csv('source_data/chip_dnmt3a.csv')"
   ]
  },
  {
   "cell_type": "code",
   "execution_count": 41,
   "id": "foreign-startup",
   "metadata": {},
   "outputs": [],
   "source": [
    "stability_data = pd.read_excel('../note2/results/INSTABILITY/huang_stability.xlsx')\n",
    "instable_positions = set(stability_data[stability_data['Stability ratio (Normalized to DNMT3AWT)'] < 0.75]['order'].values)\n",
    "\n",
    "def is_ins(pos):\n",
    "    return pos in instable_positions\n",
    "    \n",
    "def classify_dnmt3a_mutation(r):\n",
    "    if r.Effect in ['STOP_GAINED', 'FRAME_SHIFT']:\n",
    "        return 'INS'\n",
    "    elif r.pos == 882:\n",
    "        return 'R882'\n",
    "    elif is_ins(r.pos) and r.Effect == 'NON_SYNONYMOUS_CODING':\n",
    "        return 'INS'\n",
    "    else:\n",
    "        return 'Other'"
   ]
  },
  {
   "cell_type": "code",
   "execution_count": 110,
   "id": "spread-violation",
   "metadata": {},
   "outputs": [
    {
     "data": {
      "text/html": [
       "<div>\n",
       "<style scoped>\n",
       "    .dataframe tbody tr th:only-of-type {\n",
       "        vertical-align: middle;\n",
       "    }\n",
       "\n",
       "    .dataframe tbody tr th {\n",
       "        vertical-align: top;\n",
       "    }\n",
       "\n",
       "    .dataframe thead th {\n",
       "        text-align: right;\n",
       "    }\n",
       "</style>\n",
       "<table border=\"1\" class=\"dataframe\">\n",
       "  <thead>\n",
       "    <tr style=\"text-align: right;\">\n",
       "      <th></th>\n",
       "      <th>Unnamed: 0</th>\n",
       "      <th>order</th>\n",
       "      <th>Stability ratio (Normalized to DNMT3AWT)</th>\n",
       "    </tr>\n",
       "  </thead>\n",
       "  <tbody>\n",
       "    <tr>\n",
       "      <th>186</th>\n",
       "      <td>186</td>\n",
       "      <td>771</td>\n",
       "      <td>0.527003</td>\n",
       "    </tr>\n",
       "  </tbody>\n",
       "</table>\n",
       "</div>"
      ],
      "text/plain": [
       "     Unnamed: 0  order  Stability ratio (Normalized to DNMT3AWT)\n",
       "186         186    771                                  0.527003"
      ]
     },
     "execution_count": 110,
     "metadata": {},
     "output_type": "execute_result"
    }
   ],
   "source": [
    "stability_data[stability_data['order'] == 771]"
   ]
  },
  {
   "cell_type": "code",
   "execution_count": 42,
   "id": "eight-soviet",
   "metadata": {},
   "outputs": [],
   "source": [
    "dnmt3a['pos'] = dnmt3a['AA'].str.extract('p.[A-Z][a-z]+([0-9]+)[A-Z][a-z]+').astype(float)\n",
    "dnmt3a['class'] = dnmt3a.apply(classify_dnmt3a_mutation, axis=1)"
   ]
  },
  {
   "cell_type": "code",
   "execution_count": 43,
   "id": "governing-smart",
   "metadata": {},
   "outputs": [],
   "source": [
    "# Get DNMT3A amino acid sequence.\n",
    "out = !curl -s https://rest.uniprot.org/uniprotkb/Q9Y6K1.fasta\n",
    "seq = ''.join(out[1:])"
   ]
  },
  {
   "cell_type": "markdown",
   "id": "responsible-circus",
   "metadata": {},
   "source": [
    "### Proportion of CHIP"
   ]
  },
  {
   "cell_type": "code",
   "execution_count": 181,
   "id": "flexible-socket",
   "metadata": {},
   "outputs": [
    {
     "data": {
      "text/plain": [
       "(40646, 52)"
      ]
     },
     "execution_count": 181,
     "metadata": {},
     "output_type": "execute_result"
    }
   ],
   "source": [
    "clin_info_full = pd.read_excel('/data/project/SNUH_DNMT3A/data/gangnam_DNMT3A_additional.xlsx')\n",
    "clin_info_full.shape"
   ]
  },
  {
   "cell_type": "code",
   "execution_count": 183,
   "id": "lightweight-athletics",
   "metadata": {},
   "outputs": [
    {
     "data": {
      "text/plain": [
       "4573"
      ]
     },
     "execution_count": 183,
     "metadata": {},
     "output_type": "execute_result"
    }
   ],
   "source": [
    "clin_info_full.ID.nunique()"
   ]
  },
  {
   "cell_type": "code",
   "execution_count": 189,
   "id": "quantitative-midwest",
   "metadata": {},
   "outputs": [
    {
     "data": {
      "text/plain": [
       "True"
      ]
     },
     "execution_count": 189,
     "metadata": {},
     "output_type": "execute_result"
    }
   ],
   "source": [
    "dnmt3a.id.isin(clin_info_full.ORD_SEQ).all()"
   ]
  },
  {
   "cell_type": "code",
   "execution_count": 193,
   "id": "prescribed-macedonia",
   "metadata": {},
   "outputs": [
    {
     "data": {
      "text/plain": [
       "(4040, 533)"
      ]
     },
     "execution_count": 193,
     "metadata": {},
     "output_type": "execute_result"
    }
   ],
   "source": [
    "clin_info_full.ID.nunique() - dnmt3a.id.nunique(), dnmt3a.id.nunique()"
   ]
  },
  {
   "cell_type": "code",
   "execution_count": 206,
   "id": "revised-torture",
   "metadata": {},
   "outputs": [
    {
     "data": {
      "image/png": "[encoded data removed]",
      "text/plain": [
       "<Figure size 300x300 with 1 Axes>"
      ]
     },
     "metadata": {},
     "output_type": "display_data"
    }
   ],
   "source": [
    "fig = plt.figure(figsize=(2, 2))\n",
    "ax = fig.add_subplot(111)\n",
    "\n",
    "wedges, texts, autotexts = ax.pie(\n",
    "    [4040, 533],\n",
    "    labels=['non-CHIP\\n(n=4040)', 'CHIP\\n(n=533; DNMT3A VAF >1%)'],\n",
    "    colors=['0.7', '#990000'],\n",
    "    autopct='%1.1f%%',\n",
    "    startangle=-20,\n",
    "    counterclock=False,\n",
    "    labeldistance=1.15,\n",
    "    wedgeprops={'linewidth': 0.75, 'edgecolor': 'k'},\n",
    "    explode=[0.05, 0],\n",
    ")\n",
    "\n",
    "save_figures('source_data_figures/chip_analysis/chip_proportion')"
   ]
  },
  {
   "cell_type": "markdown",
   "id": "renewable-milton",
   "metadata": {},
   "source": [
    "### Number of patients in each class"
   ]
  },
  {
   "cell_type": "code",
   "execution_count": 147,
   "id": "ideal-tobago",
   "metadata": {},
   "outputs": [],
   "source": [
    "dnmt3a['class'] = pd.Categorical(dnmt3a['class'], categories=['R882', 'INS', 'Other'])"
   ]
  },
  {
   "cell_type": "code",
   "execution_count": 146,
   "id": "employed-bowling",
   "metadata": {},
   "outputs": [
    {
     "data": {
      "text/plain": [
       "class\n",
       "INS      314\n",
       "Other    175\n",
       "R882      44\n",
       "dtype: int64"
      ]
     },
     "execution_count": 146,
     "metadata": {},
     "output_type": "execute_result"
    }
   ],
   "source": [
    "dnmt3a.sort_values('class').groupby('id').agg({'class': 'first'}).value_counts()"
   ]
  },
  {
   "cell_type": "code",
   "execution_count": 159,
   "id": "statewide-relaxation",
   "metadata": {},
   "outputs": [
    {
     "data": {
      "text/plain": [
       "class\n",
       "INS      0.589118\n",
       "Other    0.328330\n",
       "R882     0.082552\n",
       "dtype: float64"
      ]
     },
     "execution_count": 159,
     "metadata": {},
     "output_type": "execute_result"
    }
   ],
   "source": [
    "dnmt3a.sort_values('class').groupby('id').agg({'class': 'first'}).value_counts(normalize=True)"
   ]
  },
  {
   "cell_type": "code",
   "execution_count": 208,
   "id": "unknown-injury",
   "metadata": {},
   "outputs": [
    {
     "data": {
      "image/png": "[encoded data removed]",
      "text/plain": [
       "<Figure size 225x225 with 1 Axes>"
      ]
     },
     "metadata": {},
     "output_type": "display_data"
    }
   ],
   "source": [
    "fig = plt.figure(figsize=(1.5, 1.5))\n",
    "ax = fig.add_subplot(111)\n",
    "\n",
    "wedges, texts, autotexts = ax.pie(\n",
    "    [314, 175, 44],\n",
    "    labels=['INS\\n(n=314)', 'Other\\n(n=175)', 'R882\\n(n=44)'],\n",
    "    colors=['#990000', 'skyblue', 'C0'],\n",
    "    autopct='%1.1f%%',\n",
    "    startangle=90,\n",
    "    counterclock=False,\n",
    "    labeldistance=1.15,\n",
    "    wedgeprops={'linewidth': 0.75, 'edgecolor': 'k'},\n",
    "    textprops={'fontsize': 6},\n",
    "    explode=[0.05, 0, 0],\n",
    ")\n",
    "\n",
    "save_figures('source_data_figures/chip_analysis/chip_dnmt3a_subclass_distribution')"
   ]
  },
  {
   "cell_type": "markdown",
   "id": "regional-consistency",
   "metadata": {},
   "source": [
    "### Variant-wise statistics"
   ]
  },
  {
   "cell_type": "code",
   "execution_count": 209,
   "id": "vietnamese-kinase",
   "metadata": {},
   "outputs": [
    {
     "data": {
      "text/plain": [
       "INS      354\n",
       "Other    219\n",
       "R882      44\n",
       "Name: class, dtype: int64"
      ]
     },
     "execution_count": 209,
     "metadata": {},
     "output_type": "execute_result"
    }
   ],
   "source": [
    "dnmt3a['class'].value_counts()"
   ]
  },
  {
   "cell_type": "code",
   "execution_count": 210,
   "id": "favorite-protection",
   "metadata": {},
   "outputs": [
    {
     "data": {
      "image/png": "[encoded data removed]",
      "text/plain": [
       "<Figure size 225x225 with 1 Axes>"
      ]
     },
     "metadata": {},
     "output_type": "display_data"
    }
   ],
   "source": [
    "fig = plt.figure(figsize=(1.5, 1.5))\n",
    "ax = fig.add_subplot(111)\n",
    "\n",
    "wedges, texts, autotexts = ax.pie(\n",
    "    [354, 219, 44],\n",
    "    labels=['INS\\n(n=354)', 'Other\\n(n=219)', 'R882\\n(n=44)'],\n",
    "    colors=['#990000', 'skyblue', 'C0'],\n",
    "    autopct='%1.1f%%',\n",
    "    startangle=90,\n",
    "    counterclock=False,\n",
    "    labeldistance=1.15,\n",
    "    wedgeprops={'linewidth': 0.75, 'edgecolor': 'k'},\n",
    "    textprops={'fontsize': 6},\n",
    "    explode=[0.05, 0, 0],\n",
    ")\n",
    "\n",
    "save_figures('source_data_figures/chip_analysis/chip_dnmt3a_variant_distribution')"
   ]
  },
  {
   "cell_type": "code",
   "execution_count": 100,
   "id": "exterior-messaging",
   "metadata": {},
   "outputs": [
    {
     "data": {
      "text/plain": [
       "True"
      ]
     },
     "execution_count": 100,
     "metadata": {},
     "output_type": "execute_result"
    }
   ],
   "source": [
    "is_ins(777)"
   ]
  },
  {
   "cell_type": "code",
   "execution_count": 45,
   "id": "vocal-mission",
   "metadata": {},
   "outputs": [
    {
     "data": {
      "image/png": "[encoded data removed]",
      "text/plain": [
       "<Figure size 900x187.5 with 1 Axes>"
      ]
     },
     "metadata": {
      "needs_background": "light"
     },
     "output_type": "display_data"
    }
   ],
   "source": [
    "import matplotlib.patches as patches\n",
    "\n",
    "fig = plt.figure(figsize=(6, 1.25))\n",
    "ax = fig.add_subplot(111)\n",
    "ax.grid(axis='y', alpha=0.33)\n",
    "\n",
    "t = dnmt3a[(dnmt3a.pos != 334) & (dnmt3a.Effect == 'NON_SYNONYMOUS_CODING')].pos.value_counts()\n",
    "\n",
    "xs = t.index.values\n",
    "ys = t.values\n",
    "\n",
    "for x, y in zip(t.index.values, t.values):\n",
    "    ax.plot([x, x], [0, y], lw=0.75, c='C3' if is_ins(x) else 'k', zorder=-1)\n",
    "        \n",
    "for x, y in zip(t.index.values, t.values):\n",
    "    if is_ins(x):\n",
    "        ax.scatter([x], [y], c='C3', s=150, edgecolors='w', lw=0.75)\n",
    "        \n",
    "        # Annotate 688, 729, 735, 736, 777.\n",
    "        if x in [736, 735, 777]:\n",
    "            ax.annotate(f'{seq[int(x) - 1]}{int(x)}', (x, y), (x + 20, y + 2), color='k', arrowprops={'arrowstyle': '->', 'lw': 0.75, 'color': 'k'}, va='center', ha='left')\n",
    "        if x in [729, 688]:\n",
    "            ax.annotate(f'{seq[int(x) - 1]}{int(x)}', (x, y), (x - 60, y + 2), color='k', arrowprops={'arrowstyle': '->', 'lw': 0.75, 'color': 'k'}, va='center', ha='center')\n",
    "    else:\n",
    "        ax.scatter([x], [y], c='k', s=150, edgecolors='w', lw=0.75)\n",
    "        \n",
    "ax.annotate(f'R882 (n={t.loc[882]})', (882, 11.5), (882 - 30, 11.5), color='k', arrowprops={'arrowstyle': '->', 'lw': 0.75, 'color': 'k'}, va='center', ha='right')\n",
    "\n",
    "domain_height = 2\n",
    "\n",
    "rect = patches.Rectangle((292, -domain_height), 350 - 292, domain_height, linewidth=0.75, edgecolor='none', facecolor='0.8')\n",
    "ax.add_patch(rect)\n",
    "ax.text((292 + 350) // 2, -domain_height / 1.9, 'PWWP', ha='center', va='center')\n",
    "\n",
    "rect = patches.Rectangle((482, -domain_height), 614 - 482, domain_height, linewidth=0.75, edgecolor='none', facecolor='0.8')\n",
    "ax.add_patch(rect)\n",
    "ax.text((482 + 614) // 2, -domain_height / 1.9, 'ADD', ha='center', va='center')\n",
    "\n",
    "rect = patches.Rectangle((634, -domain_height), 912 - 634, domain_height, linewidth=0.75, edgecolor='none', facecolor='0.8')\n",
    "ax.add_patch(rect)\n",
    "ax.text((634 + 912) // 2, -domain_height / 1.9, 'MTase', ha='center', va='center')\n",
    "\n",
    "ax.plot([390, 390], [13, 14], lw=1, c='C3')\n",
    "ax.scatter(390, 14, c='C3')\n",
    "ax.text(400, 13.5, 'Destabilizing postions', va='center')\n",
    "\n",
    "ax.plot([390, 390], [10.5, 11.5], lw=1, c='k')\n",
    "ax.scatter(390, 11.5, c='k')\n",
    "ax.text(400, 11, 'Non-destabilizing postions', va='center')\n",
    "\n",
    "ax.axhline(0, lw=0.75, c='k')\n",
    "\n",
    "ax.set_yticks(np.arange(3, 16, 3))\n",
    "ax.set_xlim([240, 912])\n",
    "ax.set_ylim(-domain_height, 15)\n",
    "\n",
    "for d in ['top', 'right']:\n",
    "    ax.spines[d].set_visible(False)\n",
    "    \n",
    "ax.set_xlabel('Amino acid position')\n",
    "ax.set_ylabel('Frequency')\n",
    "\n",
    "save_figures('source_data_figures/chip_analysis/mutation_distribution_gangnam')"
   ]
  },
  {
   "cell_type": "code",
   "execution_count": 58,
   "id": "thousand-archives",
   "metadata": {},
   "outputs": [
    {
     "data": {
      "text/plain": [
       "MannwhitneyuResult(statistic=3933.5, pvalue=0.02680240459507789)"
      ]
     },
     "execution_count": 58,
     "metadata": {},
     "output_type": "execute_result"
    }
   ],
   "source": [
    "stats.mannwhitneyu(\n",
    "    d[d['class'] == 'Other'].VAF,\n",
    "    d[d['class'] == 'R882'].VAF,\n",
    ")"
   ]
  },
  {
   "cell_type": "code",
   "execution_count": 134,
   "id": "apart-raleigh",
   "metadata": {},
   "outputs": [
    {
     "data": {
      "text/plain": [
       "INS      354\n",
       "Other    219\n",
       "R882      44\n",
       "Name: class, dtype: int64"
      ]
     },
     "execution_count": 134,
     "metadata": {},
     "output_type": "execute_result"
    }
   ],
   "source": [
    "dnmt3a['class'].value_counts()"
   ]
  },
  {
   "cell_type": "code",
   "execution_count": 211,
   "id": "important-junior",
   "metadata": {},
   "outputs": [
    {
     "name": "stdout",
     "output_type": "stream",
     "text": [
      "INS vs Other p= 5.990478720020085e-05\n",
      "INS vs R882 p= 0.44825199310010694\n",
      "R882 vs Other p= 0.02680240459507789\n"
     ]
    },
    {
     "data": {
      "image/png": "[encoded data removed]",
      "text/plain": [
       "<Figure size 180x300 with 1 Axes>"
      ]
     },
     "metadata": {
      "needs_background": "light"
     },
     "output_type": "display_data"
    }
   ],
   "source": [
    "box_kws = {\n",
    "    'order': ['Other', 'INS', 'R882'],\n",
    "    'palette': ['skyblue', '#990000', 'C0'],\n",
    "    'saturation': 0.8,\n",
    "    'flierprops': {'marker': '.', 'markersize': 2}\n",
    "}\n",
    "\n",
    "d = dnmt3a.copy()\n",
    "d['VAF'] = d.TotVaf / 100\n",
    "\n",
    "fig = plt.figure(figsize=(1.2, 2))\n",
    "ax = fig.add_subplot(111)\n",
    "\n",
    "sns.boxplot(data=d, x='class', y='VAF', **box_kws)\n",
    "\n",
    "ymax = d.VAF.max()\n",
    "dy = 5e-2\n",
    "\n",
    "ax.plot([0, 1], [ymax + dy, ymax + dy], c='k')\n",
    "ax.plot([1, 2], [ymax + dy * 2, ymax + dy * 2], c='k')\n",
    "ax.plot([0, 2], [ymax + dy * 4.5, ymax + dy * 4.5], c='k')\n",
    "\n",
    "# INS vs Other\n",
    "stat, p = stats.mannwhitneyu(\n",
    "    d[d['class'] == 'Other'].VAF,\n",
    "    d[d['class'] == 'INS'].VAF,\n",
    ")\n",
    "print('INS vs Other p=', p)\n",
    "ax.text(0.4, ymax + dy, f'p={p:.2g}', ha='center', va='bottom', fontsize=6)\n",
    "\n",
    "# INS vs R882\n",
    "stat, p = stats.mannwhitneyu(\n",
    "    d[d['class'] == 'R882'].VAF,\n",
    "    d[d['class'] == 'INS'].VAF,\n",
    ")\n",
    "print('INS vs R882 p=', p)\n",
    "ax.text(1.6, ymax + dy * 2, f'p={p:.2g}', ha='center', va='bottom', fontsize=6)\n",
    "\n",
    "# R882 vs Other\n",
    "stat, p = stats.mannwhitneyu(\n",
    "    d[d['class'] == 'Other'].VAF,\n",
    "    d[d['class'] == 'R882'].VAF,\n",
    ")\n",
    "print('R882 vs Other p=', p)\n",
    "ax.text(1, ymax + dy * 4.5, f'p={p:.2g}', ha='center', va='bottom', fontsize=6)\n",
    "\n",
    "ax.set_xlabel('')\n",
    "ax.set_ylabel('Variant allele frequency')\n",
    "ax.set_yscale('log')\n",
    "\n",
    "ax.set_ylim([ax.get_ylim()[0], ax.get_ylim()[1] * 1.1])\n",
    "\n",
    "ax.set_xticklabels([\n",
    "    f'Other\\nn={len(d[d[\"class\"] == \"Other\"])}',\n",
    "    f'INS\\nn={len(d[d[\"class\"] == \"INS\"])}',\n",
    "    f'R882\\nn={len(d[d[\"class\"] == \"R882\"])}',\n",
    "])\n",
    "\n",
    "save_figures('source_data_figures/chip_analysis/vaf_box')"
   ]
  },
  {
   "cell_type": "markdown",
   "id": "outer-diving",
   "metadata": {},
   "source": [
    "### Mutation rate 구하기\n",
    "\n",
    "chr2:25,450,743-25,565,459 (hg19)"
   ]
  },
  {
   "cell_type": "code",
   "execution_count": 65,
   "id": "magnetic-principal",
   "metadata": {},
   "outputs": [],
   "source": [
    "mutation_rate = pd.read_excel('../note2/results/INSTABILITY-FITNESS/site_specific_mutation_rate.xlsx')"
   ]
  },
  {
   "cell_type": "code",
   "execution_count": 67,
   "id": "asian-rochester",
   "metadata": {},
   "outputs": [],
   "source": [
    "trinuc2mutrate = mutation_rate.groupby('site_from').sum('site_specific_mutation_rate')['site_specific_mutation_rate'].to_dict()"
   ]
  },
  {
   "cell_type": "code",
   "execution_count": 68,
   "id": "complex-providence",
   "metadata": {},
   "outputs": [],
   "source": [
    "hg19 = SeqIO.to_dict(SeqIO.parse('/data/project/dohoon/reference/hg19/hg19.fa', 'fasta'))"
   ]
  },
  {
   "cell_type": "code",
   "execution_count": 69,
   "id": "pointed-television",
   "metadata": {},
   "outputs": [],
   "source": [
    "get_base = lambda pos: hg19['chr2'][pos - 1].upper()\n",
    "\n",
    "ref_trinuc, alt_trinuc = [], []\n",
    "for r in dnmt3a.to_records():\n",
    "    ref_trinuc.append(hg19['chr2'][int(r.Pos - 2)] + r.Ref + hg19['chr2'][int(r.Pos)])\n",
    "    alt_trinuc.append(hg19['chr2'][int(r.Pos - 2)] + r.Alt + hg19['chr2'][int(r.Pos)])\n",
    "    \n",
    "dnmt3a['ref_trinuc'] = ref_trinuc\n",
    "dnmt3a['alt_trinuc'] = alt_trinuc"
   ]
  },
  {
   "cell_type": "code",
   "execution_count": 70,
   "id": "alternate-checkout",
   "metadata": {},
   "outputs": [],
   "source": [
    "dnmt3a_merged = dnmt3a.merge(mutation_rate, left_on=['ref_trinuc', 'alt_trinuc'], right_on=['site_from', 'site_to'])"
   ]
  },
  {
   "cell_type": "code",
   "execution_count": 71,
   "id": "funny-engine",
   "metadata": {},
   "outputs": [
    {
     "data": {
      "text/plain": [
       "4.924900000000001e-07"
      ]
     },
     "execution_count": 71,
     "metadata": {},
     "output_type": "execute_result"
    }
   ],
   "source": [
    "mu_ins = dnmt3a_merged[dnmt3a_merged['class'] == 'INS'].drop_duplicates(['Pos', 'Ref', 'Alt']).site_specific_mutation_rate.sum() * 1e-9\n",
    "mu_ins"
   ]
  },
  {
   "cell_type": "code",
   "execution_count": 72,
   "id": "apart-merchandise",
   "metadata": {},
   "outputs": [
    {
     "data": {
      "text/plain": [
       "2.4799e-07"
      ]
     },
     "execution_count": 72,
     "metadata": {},
     "output_type": "execute_result"
    }
   ],
   "source": [
    "mu_other = dnmt3a_merged[(dnmt3a_merged['class'] == 'Other') & (dnmt3a_merged['Effect'] == 'NON_SYNONYMOUS_CODING') & (dnmt3a_merged.pos != 334)].drop_duplicates(['Pos', 'Ref', 'Alt']).site_specific_mutation_rate.sum() * 1e-9\n",
    "mu_other"
   ]
  },
  {
   "cell_type": "code",
   "execution_count": 73,
   "id": "temporal-horse",
   "metadata": {},
   "outputs": [
    {
     "data": {
      "text/plain": [
       "3.5419999999999996e-08"
      ]
     },
     "execution_count": 73,
     "metadata": {},
     "output_type": "execute_result"
    }
   ],
   "source": [
    "mu_R882 = dnmt3a_merged[dnmt3a_merged['class'] == 'R882'].drop_duplicates(['Pos', 'Ref', 'Alt']).site_specific_mutation_rate.sum() * 1e-9\n",
    "mu_R882"
   ]
  },
  {
   "cell_type": "markdown",
   "id": "received-palestinian",
   "metadata": {},
   "source": [
    "### Cohort size, age distribution"
   ]
  },
  {
   "cell_type": "code",
   "execution_count": 74,
   "id": "removable-deployment",
   "metadata": {},
   "outputs": [
    {
     "data": {
      "text/plain": [
       "(40646, 52)"
      ]
     },
     "execution_count": 74,
     "metadata": {},
     "output_type": "execute_result"
    }
   ],
   "source": [
    "clin_info_additional = pd.read_excel('/data/project/SNUH_DNMT3A/data/gangnam_DNMT3A_additional.xlsx')\n",
    "clin_info_additional.shape"
   ]
  },
  {
   "cell_type": "code",
   "execution_count": 75,
   "id": "democratic-language",
   "metadata": {},
   "outputs": [
    {
     "data": {
      "text/plain": [
       "(52.2890881259567, 8.444919907467687)"
      ]
     },
     "execution_count": 75,
     "metadata": {},
     "output_type": "execute_result"
    }
   ],
   "source": [
    "clin_info_additional.drop_duplicates('ORD_SEQ')['연령'].mean(), clin_info_additional.drop_duplicates('ORD_SEQ')['연령'].std()"
   ]
  },
  {
   "cell_type": "code",
   "execution_count": 76,
   "id": "several-third",
   "metadata": {},
   "outputs": [
    {
     "data": {
      "text/plain": [
       "(34, 87)"
      ]
     },
     "execution_count": 76,
     "metadata": {},
     "output_type": "execute_result"
    }
   ],
   "source": [
    "clin_info_additional.drop_duplicates('ORD_SEQ')['연령'].min(), clin_info_additional.drop_duplicates('ORD_SEQ')['연령'].max()"
   ]
  },
  {
   "cell_type": "code",
   "execution_count": 78,
   "id": "exotic-hepatitis",
   "metadata": {},
   "outputs": [
    {
     "data": {
      "text/plain": [
       "4573"
      ]
     },
     "execution_count": 78,
     "metadata": {},
     "output_type": "execute_result"
    }
   ],
   "source": [
    "clin_info_additional.ORD_SEQ.nunique()"
   ]
  },
  {
   "cell_type": "code",
   "execution_count": 79,
   "id": "interpreted-zimbabwe",
   "metadata": {},
   "outputs": [],
   "source": [
    "dnmt3a['ref_base'] = dnmt3a.Pos.map(get_base)"
   ]
  },
  {
   "cell_type": "code",
   "execution_count": 80,
   "id": "decimal-consumption",
   "metadata": {},
   "outputs": [],
   "source": [
    "import math\n",
    "\n",
    "# DNMT3A R882H mutation rate\n",
    "R882H_mu = 1.88229e-08\n",
    "mu = 8.47e-06\n",
    "\n",
    "# Histogram parameters\n",
    "binmethod = 'doane'\n",
    "\n",
    "# Total participants in the study\n",
    "study_total = 4573\n",
    "\n",
    "def error_bars(hist, normed_value, widths):\n",
    "    \n",
    "    errors={}\n",
    "    n=0\n",
    "    for i in list(hist):\n",
    "        normalised_hist = i/(normed_value*widths)\n",
    "        log_hist = np.log(normalised_hist)\n",
    "        sqrt_hist = math.sqrt(i)\n",
    "        if sqrt_hist == 1:\n",
    "            upper_error = 1\n",
    "            lower_error = 0.9\n",
    "        if sqrt_hist !=1:\n",
    "            upper_error = sqrt_hist\n",
    "            lower_error = sqrt_hist\n",
    "        normalised_upper_error = upper_error/(normed_value*widths)\n",
    "        normalised_lower_error = lower_error/(normed_value*widths)\n",
    "        errors[n]=(normalised_hist[0], normalised_upper_error[0], normalised_lower_error[0])\n",
    "        n = n+1\n",
    "\n",
    "    errors_corrected ={}\n",
    "    for k, v in errors.items():\n",
    "        binheight = v[0]\n",
    "        log_binheight = np.log(v[0])\n",
    "        upper_error = v[1]\n",
    "        lower_error = v[2]\n",
    "        log_upper_error = (np.log(upper_error+binheight))-log_binheight\n",
    "        log_lower_error = log_binheight-(np.log(binheight-lower_error))\n",
    "        errors_corrected[k] = (log_binheight, log_upper_error, log_lower_error)\n",
    "\n",
    "    lower_err=[]\n",
    "    upper_err=[]\n",
    "    for k, v in errors_corrected.items():\n",
    "        lower_error = v[2]\n",
    "        upper_error = v[1]\n",
    "        lower_err.append(lower_error)\n",
    "        upper_err.append(upper_error)\n",
    "\n",
    "    err = [tuple(lower_err),tuple(upper_err)]\n",
    "    \n",
    "    return err\n",
    "\n",
    "def normalised_VAF_normalised_densities_list(trimmed_VAF_list, study_total, mu, binmethod):\n",
    "    y1 = []\n",
    "    for i in trimmed_VAF_list:\n",
    "        VAFs = float(i)\n",
    "        y = np.log(VAFs)\n",
    "        y1.append(y)\n",
    "        \n",
    "    normed_value = study_total * 2 * mu\n",
    "    hist, bins = np.histogram(y1, bins=binmethod, range=(min(y1), max(y1)))\n",
    "    widths = np.diff(bins)\n",
    "    bin_centres = (bins[:-1] + bins[1:])/2\n",
    "    hist = np.array(hist, dtype=float)\n",
    "    normalised_hist = hist / (normed_value * widths)\n",
    "    log_hist_for_plot = np.log(normalised_hist)\n",
    "\n",
    "    errors = error_bars(hist, normed_value, widths)\n",
    "    \n",
    "    VAF_densities=[]\n",
    "    lower_error = []\n",
    "    upper_error = []\n",
    "    for i in errors[0]:\n",
    "        lower_error.append(i)\n",
    "    for i in errors[1]:\n",
    "        upper_error.append(i)\n",
    "    VAF_densities_zip = zip(bin_centres, log_hist_for_plot, lower_error, upper_error)\n",
    "    for a, b, c, d in VAF_densities_zip:\n",
    "        VAF_densities.append((a, b, c, d))\n",
    "        \n",
    "    return VAF_densities  "
   ]
  },
  {
   "cell_type": "code",
   "execution_count": 81,
   "id": "peaceful-martin",
   "metadata": {},
   "outputs": [
    {
     "data": {
      "text/html": [
       "<div>\n",
       "<style scoped>\n",
       "    .dataframe tbody tr th:only-of-type {\n",
       "        vertical-align: middle;\n",
       "    }\n",
       "\n",
       "    .dataframe tbody tr th {\n",
       "        vertical-align: top;\n",
       "    }\n",
       "\n",
       "    .dataframe thead th {\n",
       "        text-align: right;\n",
       "    }\n",
       "</style>\n",
       "<table border=\"1\" class=\"dataframe\">\n",
       "  <thead>\n",
       "    <tr style=\"text-align: right;\">\n",
       "      <th></th>\n",
       "      <th>AA</th>\n",
       "      <th>TotVaf</th>\n",
       "    </tr>\n",
       "  </thead>\n",
       "  <tbody>\n",
       "    <tr>\n",
       "      <th>53</th>\n",
       "      <td>p.Arg882Cys</td>\n",
       "      <td>2.4</td>\n",
       "    </tr>\n",
       "    <tr>\n",
       "      <th>472</th>\n",
       "      <td>p.Arg882Cys</td>\n",
       "      <td>2.4</td>\n",
       "    </tr>\n",
       "    <tr>\n",
       "      <th>461</th>\n",
       "      <td>p.Arg882Cys</td>\n",
       "      <td>2.5</td>\n",
       "    </tr>\n",
       "    <tr>\n",
       "      <th>231</th>\n",
       "      <td>p.Arg882His</td>\n",
       "      <td>2.5</td>\n",
       "    </tr>\n",
       "    <tr>\n",
       "      <th>368</th>\n",
       "      <td>p.Arg882His</td>\n",
       "      <td>2.6</td>\n",
       "    </tr>\n",
       "    <tr>\n",
       "      <th>349</th>\n",
       "      <td>p.Arg882Cys</td>\n",
       "      <td>2.7</td>\n",
       "    </tr>\n",
       "    <tr>\n",
       "      <th>390</th>\n",
       "      <td>p.Arg882His</td>\n",
       "      <td>2.8</td>\n",
       "    </tr>\n",
       "    <tr>\n",
       "      <th>36</th>\n",
       "      <td>p.Arg882His</td>\n",
       "      <td>3.1</td>\n",
       "    </tr>\n",
       "    <tr>\n",
       "      <th>263</th>\n",
       "      <td>p.Arg882His</td>\n",
       "      <td>3.3</td>\n",
       "    </tr>\n",
       "    <tr>\n",
       "      <th>239</th>\n",
       "      <td>p.Arg882His</td>\n",
       "      <td>3.3</td>\n",
       "    </tr>\n",
       "    <tr>\n",
       "      <th>444</th>\n",
       "      <td>p.Arg882His</td>\n",
       "      <td>3.3</td>\n",
       "    </tr>\n",
       "    <tr>\n",
       "      <th>459</th>\n",
       "      <td>p.Arg882Cys</td>\n",
       "      <td>3.6</td>\n",
       "    </tr>\n",
       "    <tr>\n",
       "      <th>504</th>\n",
       "      <td>p.Arg882His</td>\n",
       "      <td>3.7</td>\n",
       "    </tr>\n",
       "    <tr>\n",
       "      <th>51</th>\n",
       "      <td>p.Arg882Cys</td>\n",
       "      <td>4.1</td>\n",
       "    </tr>\n",
       "    <tr>\n",
       "      <th>375</th>\n",
       "      <td>p.Arg882Gly</td>\n",
       "      <td>5.4</td>\n",
       "    </tr>\n",
       "    <tr>\n",
       "      <th>45</th>\n",
       "      <td>p.Arg882His</td>\n",
       "      <td>5.4</td>\n",
       "    </tr>\n",
       "    <tr>\n",
       "      <th>479</th>\n",
       "      <td>p.Arg882Cys</td>\n",
       "      <td>8.0</td>\n",
       "    </tr>\n",
       "    <tr>\n",
       "      <th>432</th>\n",
       "      <td>p.Arg882His</td>\n",
       "      <td>12.0</td>\n",
       "    </tr>\n",
       "    <tr>\n",
       "      <th>495</th>\n",
       "      <td>p.Arg882Cys</td>\n",
       "      <td>13.9</td>\n",
       "    </tr>\n",
       "    <tr>\n",
       "      <th>369</th>\n",
       "      <td>p.Arg882His</td>\n",
       "      <td>16.0</td>\n",
       "    </tr>\n",
       "  </tbody>\n",
       "</table>\n",
       "</div>"
      ],
      "text/plain": [
       "              AA  TotVaf\n",
       "53   p.Arg882Cys     2.4\n",
       "472  p.Arg882Cys     2.4\n",
       "461  p.Arg882Cys     2.5\n",
       "231  p.Arg882His     2.5\n",
       "368  p.Arg882His     2.6\n",
       "349  p.Arg882Cys     2.7\n",
       "390  p.Arg882His     2.8\n",
       "36   p.Arg882His     3.1\n",
       "263  p.Arg882His     3.3\n",
       "239  p.Arg882His     3.3\n",
       "444  p.Arg882His     3.3\n",
       "459  p.Arg882Cys     3.6\n",
       "504  p.Arg882His     3.7\n",
       "51   p.Arg882Cys     4.1\n",
       "375  p.Arg882Gly     5.4\n",
       "45   p.Arg882His     5.4\n",
       "479  p.Arg882Cys     8.0\n",
       "432  p.Arg882His    12.0\n",
       "495  p.Arg882Cys    13.9\n",
       "369  p.Arg882His    16.0"
      ]
     },
     "execution_count": 81,
     "metadata": {},
     "output_type": "execute_result"
    }
   ],
   "source": [
    "dnmt3a[(dnmt3a['class'] == 'R882') & (dnmt3a['Effect'] == 'NON_SYNONYMOUS_CODING') & (dnmt3a_merged.pos != 334)].sort_values('TotVaf')[['AA', 'TotVaf']].tail(20)"
   ]
  },
  {
   "cell_type": "code",
   "execution_count": 82,
   "id": "rotary-distance",
   "metadata": {},
   "outputs": [],
   "source": [
    "import warnings\n",
    "warnings.filterwarnings('ignore')\n",
    "\n",
    "R882H_densities = normalised_VAF_normalised_densities_list(dnmt3a[dnmt3a.AA == 'p.Arg882His'].TotVaf.values / 100, study_total, R882H_mu, binmethod)\n",
    "R882H_densities = [x for x in R882H_densities if np.isfinite(x[1])]\n",
    "\n",
    "INS_densities = normalised_VAF_normalised_densities_list(dnmt3a[dnmt3a['class'] == 'INS'].TotVaf.values / 100, study_total, mu_ins, binmethod)\n",
    "INS_densities = [x for x in INS_densities if np.isfinite(x[1])]\n",
    "\n",
    "other_densities = normalised_VAF_normalised_densities_list(dnmt3a[(dnmt3a['class'] == 'Other') & (dnmt3a['Effect'] == 'NON_SYNONYMOUS_CODING') & (dnmt3a_merged.pos != 334)].TotVaf.values / 100, study_total, mu_other, binmethod)\n",
    "other_densities = [x for x in other_densities if np.isfinite(x[1])]\n",
    "\n",
    "R882_densities = normalised_VAF_normalised_densities_list(dnmt3a[dnmt3a['class'] == 'R882'].TotVaf.values / 100, study_total, mu_R882, binmethod)\n",
    "R882_densities = [x for x in R882_densities if np.isfinite(x[1])]"
   ]
  },
  {
   "cell_type": "code",
   "execution_count": 83,
   "id": "fancy-pride",
   "metadata": {},
   "outputs": [],
   "source": [
    "#MLE function for range of ages\n",
    "#l=ln(f)\n",
    "\n",
    "def logProbtheory_ages(l, params): #= predicted density (i.e. normalised by 2 x mu)\n",
    "    \"Natural log of the probability of observing a variant within a specific binwidth if able to sequence perfectly\"\n",
    "    total_density=0.0\n",
    "    N = 1e5\n",
    "    s = params[0]\n",
    "    sigma = 8.444919907467687\n",
    "    mean = 52.2890881259567\n",
    "\n",
    "    total_density=integrate.quad(lambda t: (N/(1-2*np.exp(l))*np.exp(-((np.exp(l))/(((np.exp(s*t)-1)/(2*N*s))*(1-2*np.exp(l))))))*\\\n",
    "                                 ((1/((2*np.pi*(sigma)**2)**0.5))*(np.exp(-(t-mean)**2/(2*(sigma**2))))), mean-2*sigma, mean+2*sigma)\n",
    "    return np.log(total_density[0])\n",
    "\n",
    "def logProbDataGivenModel_ages(params, data):\n",
    "    \"This returns the natural log likelihood of the entire data, in specified binwidths, for a given theta and phi\"\n",
    "    total_square_distance = 0\n",
    "    ages = np.linspace(34, 87, 87-34+1)\n",
    "    \n",
    "    for age in ages:\n",
    "        for datapoint in data:\n",
    "            \n",
    "            if np.exp(datapoint[0])<0.5:\n",
    "                logfreq = datapoint[0]\n",
    "                predicted_log_density = logProbtheory_ages(logfreq, params)\n",
    "                \n",
    "                square_distance = ((datapoint[1] - predicted_log_density)**2)\n",
    "                total_square_distance = total_square_distance + square_distance\n",
    "    return total_square_distance   "
   ]
  },
  {
   "cell_type": "code",
   "execution_count": 89,
   "id": "latter-disposal",
   "metadata": {},
   "outputs": [
    {
     "data": {
      "text/plain": [
       " final_simplex: (array([[0.15353711],\n",
       "       [0.15351172]]), array([138.06148077, 138.06150234]))\n",
       "           fun: 138.06148076593493\n",
       "       message: 'Optimization terminated successfully.'\n",
       "          nfev: 22\n",
       "           nit: 11\n",
       "        status: 0\n",
       "       success: True\n",
       "             x: array([0.15353711])"
      ]
     },
     "execution_count": 89,
     "metadata": {},
     "output_type": "execute_result"
    }
   ],
   "source": [
    "import scipy\n",
    "from scipy import integrate\n",
    " \n",
    "initial_guess = [0.13]\n",
    "\n",
    "scipy.optimize.minimize(logProbDataGivenModel_ages, initial_guess, args=(R882H_densities,), method='Nelder-Mead')  "
   ]
  },
  {
   "cell_type": "code",
   "execution_count": 90,
   "id": "wicked-performer",
   "metadata": {},
   "outputs": [],
   "source": [
    "def logProbtheory_ages_nonsyn_exp_power(l, params): #= predicted density (i.e. normalised by 2 x mu)\n",
    "    \"Natural log of the probability of observing a variant within a specific binwidth if able to sequence perfectly\"\n",
    "    total_density=0.0\n",
    "\n",
    "#     N, s, sigma = [2.77368259e+05, 1.13187834e-01, 2.61729603e+01]\n",
    "    N, s, sigma = 1e5, 0.15353711, 8.444919907467687\n",
    "    mean = 52.2890881259567\n",
    "    \n",
    "#     N = 1e5\n",
    "#     sigma = 8.736075979542486\n",
    "    s_peak = 0.0\n",
    "    b = params[0]\n",
    "    d = params[1]\n",
    "    s_max=params[2]\n",
    "\n",
    "    dt = 0.1\n",
    "\n",
    "    weight_s= lambda s: np.exp(-((abs(s-s_peak))/d)**b)\n",
    "    normalization=integrate.quad(weight_s, 0.0, s_max)\n",
    "    normalized_rho_s= lambda s: (1.0/normalization[0])*np.exp(-((abs(s-s_peak))/d)**b)\n",
    "    \n",
    "    rho=lambda t,s: (normalized_rho_s(s))*(N/(1-2*np.exp(l))*np.exp(-((np.exp(l))/(((np.exp(s*t)-1)/(2*N*s))*(1-2*np.exp(l))))))*((1/((2*np.pi*(sigma)**2)**0.5))*(np.exp(-(t-mean)**2/(2*(sigma**2)))))\n",
    "\n",
    "    total_density=integrate.dblquad(rho, 0.0, s_max, lambda s: mean-2*sigma, lambda s: mean+2*sigma)\n",
    "\n",
    "    return np.log(total_density[0])\n",
    "\n",
    "def logProbDataGivenModel_ages_nonsyn_exp_power(params, data): \n",
    "    \"This returns the natural log likelihood of the entire data, in specified binwidths, for a given theta and phi\"\n",
    "    total_square_distance = 0\n",
    "    for datapoint in data:\n",
    "        if np.exp(datapoint[0])<0.5:\n",
    "            logfreq = datapoint[0]\n",
    "            predicted_log_density = logProbtheory_ages_nonsyn_exp_power(logfreq, params)\n",
    "            square_distance = ((datapoint[1] - predicted_log_density)**2)\n",
    "            total_square_distance = total_square_distance + square_distance\n",
    "\n",
    "    return total_square_distance   "
   ]
  },
  {
   "cell_type": "code",
   "execution_count": null,
   "id": "imposed-special",
   "metadata": {},
   "outputs": [],
   "source": [
    "initial_guess=[0.8, 0.014, 0.25] #initial guess for [b, d, s_max]\n",
    "\n",
    "ins_res = scipy.optimize.minimize(\n",
    "    logProbDataGivenModel_ages_nonsyn_exp_power, initial_guess, args=(INS_densities,), method='Nelder-Mead',\n",
    "    options={'maxiter': 1000, 'maxfev': 1000}\n",
    ")\n",
    "print('ins fitting done!')\n",
    "\n",
    "other_res = scipy.optimize.minimize(\n",
    "    logProbDataGivenModel_ages_nonsyn_exp_power, initial_guess, args=(other_densities,), method='Nelder-Mead',\n",
    "    options={'maxiter': 1000, 'maxfev': 1000}\n",
    ")\n",
    "print('other fitting done!')\n",
    "\n",
    "r882_res = scipy.optimize.minimize(\n",
    "    logProbDataGivenModel_ages_nonsyn_exp_power, initial_guess, args=(R882_densities,), method='Nelder-Mead',\n",
    "    options={'maxiter': 1000, 'maxfev': 1000}\n",
    ")\n",
    "print('R882 fitting done!')"
   ]
  },
  {
   "cell_type": "code",
   "execution_count": 95,
   "id": "interested-minute",
   "metadata": {},
   "outputs": [],
   "source": [
    "N, s, sigma = 1e5, 0.15353711, 8.444919907467687\n",
    "x = np.linspace(-10, -0.7, 500)\n",
    "\n",
    "R882H_y = [np.exp(logProbtheory_ages(l, [s])) for l in x]\n",
    "\n",
    "R882_y = [np.exp(logProbtheory_ages_nonsyn_exp_power(l, r882_res.x)) for l in x]\n",
    "INS_y = [np.exp(logProbtheory_ages_nonsyn_exp_power(l, ins_res.x)) for l in x]\n",
    "other_y = [np.exp(logProbtheory_ages_nonsyn_exp_power(l, other_res.x)) for l in x]"
   ]
  },
  {
   "cell_type": "code",
   "execution_count": null,
   "id": "brutal-premises",
   "metadata": {},
   "outputs": [],
   "source": [
    "fig = plt.figure(figsize=(3 * 0.8, 2 * 0.8))\n",
    "ax = fig.add_subplot(111)\n",
    "\n",
    "line_kws = {\n",
    "    'lw': 0.75,\n",
    "    'zorder': -10,\n",
    "}\n",
    "ax.plot(np.exp(x), R882_y, **line_kws)\n",
    "ax.plot(np.exp(x), INS_y, c='C3', **line_kws)\n",
    "ax.plot(np.exp(x), other_y, c='skyblue', **line_kws)\n",
    "\n",
    "ax.set_xscale('log')\n",
    "ax.set_yscale('log')\n",
    "\n",
    "ax.set_xlim([1e-4, 0.7])\n",
    "ax.set_ylim([1, 5e5])\n",
    "\n",
    "\n",
    "errorbar_kws = {\n",
    "    'capsize': 0.75,\n",
    "    'elinewidth': 0.375,\n",
    "#     'capthick': 0.2,\n",
    "    'markersize': 2,\n",
    "    'markeredgewidth': 0.75,\n",
    "}\n",
    "ax.errorbar(\n",
    "    [np.exp(x[0]) for x in R882H_densities],\n",
    "    [np.exp(x[1]) for x in R882H_densities],\n",
    "    yerr=[[np.exp(x[1]) - np.exp(x[1] - x[2]) for x in R882H_densities], [np.exp(x[1] + x[3]) - np.exp(x[1]) for x in R882H_densities]],\n",
    "    c='C0',\n",
    "    fmt='o',\n",
    "    zorder=0,\n",
    "    label='R882H',\n",
    "    **errorbar_kws,\n",
    ")\n",
    "\n",
    "ax.errorbar(\n",
    "    [np.exp(x[0]) for x in other_densities],\n",
    "    [np.exp(x[1]) for x in other_densities],\n",
    "    yerr=[[np.exp(x[1]) - np.exp(x[1] - x[2]) for x in other_densities], [np.exp(x[1] + x[3]) - np.exp(x[1]) for x in other_densities]],\n",
    "    c='skyblue',\n",
    "    fmt='s',\n",
    "    zorder=1,\n",
    "    label='Other',\n",
    "    **errorbar_kws,\n",
    ")\n",
    "\n",
    "\n",
    "ax.errorbar(\n",
    "    [np.exp(x[0]) for x in INS_densities],\n",
    "    [np.exp(x[1]) for x in INS_densities],\n",
    "    yerr=[[np.exp(x[1]) - np.exp(x[1] - x[2]) for x in INS_densities], [np.exp(x[1] + x[3]) - np.exp(x[1]) for x in INS_densities]],\n",
    "    c='#990000',\n",
    "    fmt='^',\n",
    "    zorder=2,\n",
    "    label='INS',\n",
    "    **errorbar_kws,\n",
    ")\n",
    "\n",
    "ax.set_xticks([1e-4, 1e-3, 1e-2, 1e-1, 0.5], minor=False)\n",
    "ax.set_xticklabels([0.01, 0.1, 1, 10, 50])\n",
    "\n",
    "handles = [\n",
    "    mpl.lines.Line2D([0], [0], marker = 'o', color = 'C0', lw=0, label='R882H'),\n",
    "    mpl.lines.Line2D([0], [0], marker = '^', color = '#990000', lw=0, label='INS'),\n",
    "    mpl.lines.Line2D([0], [0], marker = 's', color = 'Skyblue', lw=0, label='Other'),\n",
    "]\n",
    "ax.legend(handles=handles, frameon=False, markerscale=0.75, fontsize=6, handletextpad=0)\n",
    "\n",
    "ax.set_xlabel('Variant allele frequency (%)')\n",
    "ax.set_ylabel('Relative density of variants')\n",
    "\n",
    "save_figures('source_data_figures/chip_analysis/fitness')"
   ]
  }
 ],
 "metadata": {
  "kernelspec": {
   "display_name": "analysis",
   "language": "python",
   "name": "dnmt3a"
  },
  "language_info": {
   "codemirror_mode": {
    "name": "ipython",
    "version": 3
   },
   "file_extension": ".py",
   "mimetype": "text/x-python",
   "name": "python",
   "nbconvert_exporter": "python",
   "pygments_lexer": "ipython3",
   "version": "3.7.6"
  }
 },
 "nbformat": 4,
 "nbformat_minor": 5
}
