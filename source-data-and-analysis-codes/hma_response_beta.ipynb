{
 "cells": [
  {
   "cell_type": "code",
   "execution_count": 1,
   "id": "invisible-thirty",
   "metadata": {},
   "outputs": [],
   "source": [
    "%run imports.ipynb"
   ]
  },
  {
   "cell_type": "code",
   "execution_count": 5,
   "id": "painted-intention",
   "metadata": {},
   "outputs": [
    {
     "name": "stderr",
     "output_type": "stream",
     "text": [
      "/data/project/dohoon/miniconda3/envs/dnmt3a/lib/python3.7/site-packages/ipykernel_launcher.py:7: FutureWarning: The default value of regex will change from True to False in a future version. In addition, single character regular expressions will*not* be treated as literal strings when regex=True.\n",
      "  import sys\n"
     ]
    }
   ],
   "source": [
    "cell_line_info = pd.read_csv('../note2/results/CCLE/sample_info.csv')\n",
    "aml_cell_line_info = cell_line_info[(cell_line_info.primary_disease == 'Leukemia') & (cell_line_info.Subtype.str.contains('AML'))]\n",
    "\n",
    "sra_run_table = pd.read_csv('../note2/results/CCLE/SraRunTable_SRP186687.txt')\n",
    "sra_run_table = sra_run_table[sra_run_table['Assay Type'] == 'Bisulfite-Seq']\n",
    "\n",
    "sra_run_table['Cell_Line'] = sra_run_table.Cell_Line.str.upper().str.replace('-', '').str.replace(' ', '').str.replace('.', '').str.replace('/' ,'')"
   ]
  },
  {
   "cell_type": "code",
   "execution_count": 7,
   "id": "published-treasurer",
   "metadata": {},
   "outputs": [],
   "source": [
    "cellline_name2depmap_id = {r['stripped_cell_line_name']: r['DepMap_ID'] for r in aml_cell_line_info.to_records()}"
   ]
  },
  {
   "cell_type": "code",
   "execution_count": 8,
   "id": "lucky-interview",
   "metadata": {},
   "outputs": [],
   "source": [
    "run2cellline = {r.Run:r.Cell_Line for r in sra_run_table.to_records()}"
   ]
  },
  {
   "cell_type": "code",
   "execution_count": 9,
   "id": "naval-norfolk",
   "metadata": {},
   "outputs": [
    {
     "data": {
      "text/plain": [
       "(54, 26)"
      ]
     },
     "execution_count": 9,
     "metadata": {},
     "output_type": "execute_result"
    }
   ],
   "source": [
    "aml_cell_line_info.shape"
   ]
  },
  {
   "cell_type": "code",
   "execution_count": 12,
   "id": "electronic-tribute",
   "metadata": {},
   "outputs": [],
   "source": [
    "aml_rrbs_run_table = sra_run_table[sra_run_table.Cell_Line.isin(aml_cell_line_info.stripped_cell_line_name)]"
   ]
  },
  {
   "cell_type": "code",
   "execution_count": 14,
   "id": "unnecessary-biography",
   "metadata": {},
   "outputs": [
    {
     "data": {
      "text/plain": [
       "34"
      ]
     },
     "execution_count": 14,
     "metadata": {},
     "output_type": "execute_result"
    }
   ],
   "source": [
    "runs = aml_rrbs_run_table.Run.values\n",
    "len(runs)"
   ]
  },
  {
   "cell_type": "code",
   "execution_count": 15,
   "id": "divine-tribe",
   "metadata": {},
   "outputs": [
    {
     "data": {
      "text/plain": [
       "34"
      ]
     },
     "execution_count": 15,
     "metadata": {},
     "output_type": "execute_result"
    }
   ],
   "source": [
    "methyldackel_fps = [f'/data2/project/SNUH_DNMT3A/pipelines/CCLE-RRBS/result/03_methyldackel/{run}_CpG.bedGraph' for run in runs]\n",
    "len(methyldackel_fps)"
   ]
  },
  {
   "cell_type": "code",
   "execution_count": 26,
   "id": "juvenile-former",
   "metadata": {},
   "outputs": [
    {
     "ename": "NameError",
     "evalue": "name 'pair_fp' is not defined",
     "output_type": "error",
     "traceback": [
      "\u001b[0;31m---------------------------------------------------------------------------\u001b[0m",
      "\u001b[0;31mNameError\u001b[0m                                 Traceback (most recent call last)",
      "\u001b[0;32m<ipython-input-26-6f6b88843175>\u001b[0m in \u001b[0;36m<module>\u001b[0;34m\u001b[0m\n\u001b[0;32m----> 1\u001b[0;31m \u001b[0mpair_fp\u001b[0m\u001b[0;34m\u001b[0m\u001b[0;34m\u001b[0m\u001b[0m\n\u001b[0m",
      "\u001b[0;31mNameError\u001b[0m: name 'pair_fp' is not defined"
     ]
    }
   ],
   "source": [
    "pair_fp = f'/data3/project/SNUH_DNMT3A/pipelines/METHEOR/result/CCLE-RRBS/'"
   ]
  },
  {
   "cell_type": "markdown",
   "id": "infinite-museum",
   "metadata": {},
   "source": [
    "### Genomewide"
   ]
  },
  {
   "cell_type": "code",
   "execution_count": 19,
   "id": "forced-devil",
   "metadata": {},
   "outputs": [
    {
     "name": "stderr",
     "output_type": "stream",
     "text": [
      "100%|██████████| 34/34 [04:04<00:00,  7.21s/it]\n"
     ]
    }
   ],
   "source": [
    "beta_summary = defaultdict(list)\n",
    "\n",
    "for run in tqdm(runs):\n",
    "    concordance_fp = f'/data2/project/SNUH_DNMT3A/pipelines/CCLE-RRBS/result/05_concordance_full/{run}_concordance.csv'\n",
    "    methyldackel_fp = f'../note2/results/CCLE-FINAL/filtered_bedgraphs/{run}_CpG.filtered.bedGraph'\n",
    "    \n",
    "    concordance_df = pd.read_csv(concordance_fp)\n",
    "    \n",
    "    # Maintain a set of CpGs that participated in computing concordances.\n",
    "    cpg_set = set()\n",
    "    for pair in concordance_df.to_records():\n",
    "        cpg_set.add(f'{pair.chrom}:{pair.pos1}')\n",
    "        cpg_set.add(f'{pair.chrom}:{pair.pos2}')\n",
    "    \n",
    "    bedgraph = read_bedgraph(methyldackel_fp)\n",
    "    bedgraph['cpg_id'] = bedgraph['chrom'] + ':' + bedgraph['start'].astype(str)\n",
    "    \n",
    "    bedgraph = bedgraph[bedgraph.cpg_id.isin(cpg_set)]\n",
    "    \n",
    "    beta_summary['run'].append(run)\n",
    "    beta_summary['beta'].append(bedgraph.beta.mean())\n",
    "    \n",
    "beta_summary = pd.DataFrame(beta_summary)"
   ]
  },
  {
   "cell_type": "code",
   "execution_count": 22,
   "id": "weekly-stockholm",
   "metadata": {},
   "outputs": [],
   "source": [
    "beta_summary['cell_line'] = beta_summary.run.map(run2cellline)\n",
    "beta_summary['depmap_id'] = beta_summary.cell_line.map(cellline_name2depmap_id)"
   ]
  },
  {
   "cell_type": "markdown",
   "id": "marked-arkansas",
   "metadata": {},
   "source": [
    "### Bivalent domain"
   ]
  },
  {
   "cell_type": "code",
   "execution_count": 27,
   "id": "painful-craps",
   "metadata": {},
   "outputs": [
    {
     "name": "stderr",
     "output_type": "stream",
     "text": [
      "100%|██████████| 34/34 [00:57<00:00,  1.70s/it]\n"
     ]
    }
   ],
   "source": [
    "beta_summary = defaultdict(list)\n",
    "\n",
    "for run in tqdm(runs):\n",
    "    concordance_fp = f'/data2/project/SNUH_DNMT3A/pipelines/CCLE-RRBS/result/05_concordance_full/{run}_concordance.csv'\n",
    "    methyldackel_fp = f'/data2/project/SNUH_DNMT3A/pipelines/CCLE-RRBS/result/03_methyldackel_bivalent_domain/{run}_CpG.filtered.bedGraph'\n",
    "    \n",
    "    concordance_df = pd.read_csv(concordance_fp)\n",
    "    \n",
    "    # Maintain a set of CpGs that participated in computing concordances.\n",
    "    cpg_set = set()\n",
    "    for pair in concordance_df.to_records():\n",
    "        cpg_set.add(f'{pair.chrom}:{pair.pos1}')\n",
    "        cpg_set.add(f'{pair.chrom}:{pair.pos2}')\n",
    "    \n",
    "    bedgraph = read_bedgraph(methyldackel_fp)\n",
    "    bedgraph['cpg_id'] = bedgraph['chrom'] + ':' + bedgraph['start'].astype(str)\n",
    "    \n",
    "    bedgraph = bedgraph[bedgraph.cpg_id.isin(cpg_set)]\n",
    "    \n",
    "    beta_summary['run'].append(run)\n",
    "    beta_summary['beta'].append(bedgraph.beta.mean())\n",
    "    \n",
    "beta_summary = pd.DataFrame(beta_summary)"
   ]
  },
  {
   "cell_type": "code",
   "execution_count": 30,
   "id": "bored-survival",
   "metadata": {},
   "outputs": [],
   "source": [
    "beta_summary['cell_line'] = beta_summary.run.map(run2cellline)\n",
    "beta_summary['depmap_id'] = beta_summary.cell_line.map(cellline_name2depmap_id)"
   ]
  },
  {
   "cell_type": "code",
   "execution_count": 31,
   "id": "maritime-graduation",
   "metadata": {},
   "outputs": [],
   "source": [
    "beta_summary.to_csv('source_data/ccle_bivalent_domain_beta_summary.csv', index=False)"
   ]
  },
  {
   "cell_type": "code",
   "execution_count": 35,
   "id": "suspended-glenn",
   "metadata": {},
   "outputs": [],
   "source": [
    "ctrp_per_cpd_avg = pd.read_csv('../note2/results/CCLE/v20.meta.per_assay_plate.txt', sep='\\t')\n",
    "\n",
    "ctrp_cell_lines = pd.read_csv('../note2/results/CCLE/v20.meta.per_cell_line.txt', sep='\\t')\n",
    "ctrp_compounds = pd.read_csv('../note2/results/CCLE/v20.meta.per_compound.txt', sep='\\t')\n",
    "ctrp_experiments = pd.read_csv('../note2/results/CCLE/v20.meta.per_experiment.txt', sep='\\t')\n",
    "\n",
    "master_ccl_id2ccl_name = {r.master_ccl_id:r.ccl_name for r in ctrp_cell_lines.to_records()}\n",
    "master_cpd_id2cpd_name = {r.master_cpd_id:r.cpd_name for r in ctrp_compounds.to_records()}\n",
    "\n",
    "ctrp_curves = pd.read_csv('../note2/results/CCLE/v20.data.curves_post_qc.txt', sep='\\t').merge(ctrp_experiments, on='experiment_id')\n",
    "ctrp_curves['ccl_name'] = ctrp_curves.master_ccl_id.map(master_ccl_id2ccl_name)\n",
    "ctrp_curves['cpd_name'] = ctrp_curves.master_cpd_id.map(master_cpd_id2cpd_name)"
   ]
  },
  {
   "cell_type": "code",
   "execution_count": 38,
   "id": "variable-affair",
   "metadata": {},
   "outputs": [],
   "source": [
    "ccl_names = set(ctrp_curves.ccl_name.str.upper())\n",
    "m3_ccl_names = aml_cell_line_info[(aml_cell_line_info.lineage_sub_subtype == 'M3') | (aml_cell_line_info.lineage_sub_subtype.isnull())].stripped_cell_line_name.values\n",
    "\n",
    "ctrp_ccl_names = [ccl.upper() for ccl in beta_summary.cell_line.unique() if pd.notnull(ccl) and (ccl.replace('-', '') in ccl_names) and (ccl.replace('-', '') not in m3_ccl_names)]"
   ]
  },
  {
   "cell_type": "code",
   "execution_count": 39,
   "id": "basic-shareware",
   "metadata": {},
   "outputs": [],
   "source": [
    "d = beta_summary.groupby('cell_line').agg({'beta': 'mean'}).reset_index()\n",
    "\n",
    "ctrp_beta_map = {r.cell_line.replace('-', ''):r.beta for r in d.to_records() if pd.notnull(r.cell_line)}\n",
    "ctrp_curves['beta'] = ctrp_curves.ccl_name.map(ctrp_beta_map)\n",
    "\n",
    "ctrp_curves_aml_beta = ctrp_curves[ctrp_curves.ccl_name.isin(ctrp_ccl_names)].copy()"
   ]
  },
  {
   "cell_type": "code",
   "execution_count": 42,
   "id": "excited-implement",
   "metadata": {},
   "outputs": [
    {
     "data": {
      "image/png": "[encoded data removed]",
      "text/plain": [
       "<Figure size 180x180 with 1 Axes>"
      ]
     },
     "metadata": {
      "needs_background": "light"
     },
     "output_type": "display_data"
    },
    {
     "data": {
      "text/plain": [
       "<Figure size 225x225 with 0 Axes>"
      ]
     },
     "metadata": {},
     "output_type": "display_data"
    },
    {
     "data": {
      "image/png": "[encoded data removed]",
      "text/plain": [
       "<Figure size 180x180 with 1 Axes>"
      ]
     },
     "metadata": {
      "needs_background": "light"
     },
     "output_type": "display_data"
    },
    {
     "data": {
      "text/plain": [
       "<Figure size 225x225 with 0 Axes>"
      ]
     },
     "metadata": {},
     "output_type": "display_data"
    },
    {
     "data": {
      "image/png": "[encoded data removed]",
      "text/plain": [
       "<Figure size 180x180 with 1 Axes>"
      ]
     },
     "metadata": {
      "needs_background": "light"
     },
     "output_type": "display_data"
    },
    {
     "data": {
      "text/plain": [
       "<Figure size 225x225 with 0 Axes>"
      ]
     },
     "metadata": {},
     "output_type": "display_data"
    },
    {
     "data": {
      "image/png": "[encoded data removed]",
      "text/plain": [
       "<Figure size 180x180 with 1 Axes>"
      ]
     },
     "metadata": {
      "needs_background": "light"
     },
     "output_type": "display_data"
    },
    {
     "data": {
      "text/plain": [
       "<Figure size 225x225 with 0 Axes>"
      ]
     },
     "metadata": {},
     "output_type": "display_data"
    },
    {
     "data": {
      "image/png": "[encoded data removed]",
      "text/plain": [
       "<Figure size 180x180 with 1 Axes>"
      ]
     },
     "metadata": {
      "needs_background": "light"
     },
     "output_type": "display_data"
    },
    {
     "data": {
      "text/plain": [
       "<Figure size 225x225 with 0 Axes>"
      ]
     },
     "metadata": {},
     "output_type": "display_data"
    },
    {
     "data": {
      "image/png": "[encoded data removed]",
      "text/plain": [
       "<Figure size 180x180 with 1 Axes>"
      ]
     },
     "metadata": {
      "needs_background": "light"
     },
     "output_type": "display_data"
    },
    {
     "data": {
      "text/plain": [
       "<Figure size 225x225 with 0 Axes>"
      ]
     },
     "metadata": {},
     "output_type": "display_data"
    }
   ],
   "source": [
    "from scipy.stats import linregress\n",
    "\n",
    "drugs = ['RG-108', 'decitabine', 'decitabine:navitoclax (2:1 mol/mol)', 'decitabine:carboplatin (1:1 mol/mol)', 'selumetinib:decitabine (4:1 mol/mol)', \n",
    "                          'azacitidine']\n",
    "\n",
    "drugs_short = ['RG108', 'decitabine', 'decitabine_navitoclax_2_1', 'decitabine_carboplatin_1_1', 'selumetinib_decitabine_4_1', 'azacitidine']\n",
    "drugs_title = [\n",
    "    'RG-108',\n",
    "    'Decitabine',\n",
    "    'Decitabine+Navitoclax\\n(2:1 mol/mol)',\n",
    "    'Decitabine+Carboplatin\\n(1:1 mol/mol)',\n",
    "    'Selumetinib+Decitabine\\n(4:1 mol/mol)',\n",
    "    'Azacitidine',\n",
    "]\n",
    "\n",
    "for i, (drug, drug_short, drug_title) in enumerate(zip(drugs, drugs_short, drugs_title)):\n",
    "    fig = plt.figure(figsize=(1.2, 1.2))\n",
    "\n",
    "    ax = fig.add_subplot(111)\n",
    "\n",
    "    d = ctrp_curves_aml_beta[ctrp_curves_aml_beta.cpd_name == drug].drop_duplicates('ccl_name')\n",
    "    sns.regplot(x=d['beta'], y=d['area_under_curve'], scatter_kws={'s': 3, 'color': '0.4'}, line_kws={'lw': 1, 'ls': '--', 'color': 'k'}, ax=ax)\n",
    "    \n",
    "    ax.set_xlim([d.beta.min() - 1e-2, d.beta.max() + 1e-2])\n",
    "    ax.set_ylim([-0.5, 18])\n",
    "\n",
    "    result = linregress(d['beta'], d['area_under_curve'])\n",
    "    ax.text(0.05, 0.05, f'p={result.pvalue:.2g}\\nr={result.rvalue:.2g}', ha='left', va='bottom', transform=ax.transAxes)\n",
    "\n",
    "    ax.set_xlabel('Average methylation level\\n(Bivalent domain)')\n",
    "    ax.set_ylabel('AUDRC')\n",
    "    \n",
    "    ax.set_title(drug_title, fontsize=7)\n",
    "    \n",
    "    save_figures(f'source_data_figures/hma_response_beta/bivalent_domain_beta.{drug_short}')\n",
    "\n",
    "    plt.show()\n",
    "    plt.clf()"
   ]
  },
  {
   "cell_type": "code",
   "execution_count": 29,
   "id": "atmospheric-graph",
   "metadata": {},
   "outputs": [
    {
     "data": {
      "text/html": [
       "<div>\n",
       "<style scoped>\n",
       "    .dataframe tbody tr th:only-of-type {\n",
       "        vertical-align: middle;\n",
       "    }\n",
       "\n",
       "    .dataframe tbody tr th {\n",
       "        vertical-align: top;\n",
       "    }\n",
       "\n",
       "    .dataframe thead th {\n",
       "        text-align: right;\n",
       "    }\n",
       "</style>\n",
       "<table border=\"1\" class=\"dataframe\">\n",
       "  <thead>\n",
       "    <tr style=\"text-align: right;\">\n",
       "      <th></th>\n",
       "      <th>run</th>\n",
       "      <th>beta</th>\n",
       "    </tr>\n",
       "  </thead>\n",
       "  <tbody>\n",
       "    <tr>\n",
       "      <th>0</th>\n",
       "      <td>SRR8633223</td>\n",
       "      <td>0.322212</td>\n",
       "    </tr>\n",
       "    <tr>\n",
       "      <th>1</th>\n",
       "      <td>SRR8633235</td>\n",
       "      <td>0.211678</td>\n",
       "    </tr>\n",
       "    <tr>\n",
       "      <th>2</th>\n",
       "      <td>SRR8633289</td>\n",
       "      <td>0.651328</td>\n",
       "    </tr>\n",
       "    <tr>\n",
       "      <th>3</th>\n",
       "      <td>SRR8633442</td>\n",
       "      <td>0.590878</td>\n",
       "    </tr>\n",
       "    <tr>\n",
       "      <th>4</th>\n",
       "      <td>SRR8633517</td>\n",
       "      <td>0.377001</td>\n",
       "    </tr>\n",
       "    <tr>\n",
       "      <th>5</th>\n",
       "      <td>SRR8633548</td>\n",
       "      <td>0.391251</td>\n",
       "    </tr>\n",
       "    <tr>\n",
       "      <th>6</th>\n",
       "      <td>SRR8633588</td>\n",
       "      <td>0.178001</td>\n",
       "    </tr>\n",
       "    <tr>\n",
       "      <th>7</th>\n",
       "      <td>SRR8633592</td>\n",
       "      <td>0.212716</td>\n",
       "    </tr>\n",
       "    <tr>\n",
       "      <th>8</th>\n",
       "      <td>SRR8633609</td>\n",
       "      <td>0.261398</td>\n",
       "    </tr>\n",
       "    <tr>\n",
       "      <th>9</th>\n",
       "      <td>SRR8633676</td>\n",
       "      <td>0.168552</td>\n",
       "    </tr>\n",
       "    <tr>\n",
       "      <th>10</th>\n",
       "      <td>SRR8633700</td>\n",
       "      <td>0.362015</td>\n",
       "    </tr>\n",
       "    <tr>\n",
       "      <th>11</th>\n",
       "      <td>SRR8633706</td>\n",
       "      <td>0.177828</td>\n",
       "    </tr>\n",
       "    <tr>\n",
       "      <th>12</th>\n",
       "      <td>SRR8633876</td>\n",
       "      <td>0.122641</td>\n",
       "    </tr>\n",
       "    <tr>\n",
       "      <th>13</th>\n",
       "      <td>SRR8633931</td>\n",
       "      <td>0.142387</td>\n",
       "    </tr>\n",
       "    <tr>\n",
       "      <th>14</th>\n",
       "      <td>SRR8633936</td>\n",
       "      <td>0.351850</td>\n",
       "    </tr>\n",
       "    <tr>\n",
       "      <th>15</th>\n",
       "      <td>SRR8634031</td>\n",
       "      <td>0.158701</td>\n",
       "    </tr>\n",
       "    <tr>\n",
       "      <th>16</th>\n",
       "      <td>SRR8634110</td>\n",
       "      <td>0.396356</td>\n",
       "    </tr>\n",
       "    <tr>\n",
       "      <th>17</th>\n",
       "      <td>SRR8634120</td>\n",
       "      <td>0.206792</td>\n",
       "    </tr>\n",
       "    <tr>\n",
       "      <th>18</th>\n",
       "      <td>SRR8634121</td>\n",
       "      <td>0.153640</td>\n",
       "    </tr>\n",
       "    <tr>\n",
       "      <th>19</th>\n",
       "      <td>SRR8633251</td>\n",
       "      <td>0.104314</td>\n",
       "    </tr>\n",
       "    <tr>\n",
       "      <th>20</th>\n",
       "      <td>SRR8633422</td>\n",
       "      <td>0.419016</td>\n",
       "    </tr>\n",
       "    <tr>\n",
       "      <th>21</th>\n",
       "      <td>SRR8633470</td>\n",
       "      <td>0.273990</td>\n",
       "    </tr>\n",
       "    <tr>\n",
       "      <th>22</th>\n",
       "      <td>SRR8633501</td>\n",
       "      <td>0.234140</td>\n",
       "    </tr>\n",
       "    <tr>\n",
       "      <th>23</th>\n",
       "      <td>SRR8633523</td>\n",
       "      <td>0.386102</td>\n",
       "    </tr>\n",
       "    <tr>\n",
       "      <th>24</th>\n",
       "      <td>SRR8633736</td>\n",
       "      <td>0.497668</td>\n",
       "    </tr>\n",
       "    <tr>\n",
       "      <th>25</th>\n",
       "      <td>SRR8633868</td>\n",
       "      <td>0.155526</td>\n",
       "    </tr>\n",
       "    <tr>\n",
       "      <th>26</th>\n",
       "      <td>SRR8633937</td>\n",
       "      <td>0.373347</td>\n",
       "    </tr>\n",
       "    <tr>\n",
       "      <th>27</th>\n",
       "      <td>SRR8633472</td>\n",
       "      <td>0.474329</td>\n",
       "    </tr>\n",
       "    <tr>\n",
       "      <th>28</th>\n",
       "      <td>SRR8633653</td>\n",
       "      <td>0.345277</td>\n",
       "    </tr>\n",
       "    <tr>\n",
       "      <th>29</th>\n",
       "      <td>SRR8633784</td>\n",
       "      <td>0.275119</td>\n",
       "    </tr>\n",
       "    <tr>\n",
       "      <th>30</th>\n",
       "      <td>SRR8633869</td>\n",
       "      <td>0.188390</td>\n",
       "    </tr>\n",
       "    <tr>\n",
       "      <th>31</th>\n",
       "      <td>SRR8633912</td>\n",
       "      <td>0.746444</td>\n",
       "    </tr>\n",
       "    <tr>\n",
       "      <th>32</th>\n",
       "      <td>SRR8634040</td>\n",
       "      <td>0.252342</td>\n",
       "    </tr>\n",
       "    <tr>\n",
       "      <th>33</th>\n",
       "      <td>SRR8633774</td>\n",
       "      <td>0.478515</td>\n",
       "    </tr>\n",
       "  </tbody>\n",
       "</table>\n",
       "</div>"
      ],
      "text/plain": [
       "           run      beta\n",
       "0   SRR8633223  0.322212\n",
       "1   SRR8633235  0.211678\n",
       "2   SRR8633289  0.651328\n",
       "3   SRR8633442  0.590878\n",
       "4   SRR8633517  0.377001\n",
       "5   SRR8633548  0.391251\n",
       "6   SRR8633588  0.178001\n",
       "7   SRR8633592  0.212716\n",
       "8   SRR8633609  0.261398\n",
       "9   SRR8633676  0.168552\n",
       "10  SRR8633700  0.362015\n",
       "11  SRR8633706  0.177828\n",
       "12  SRR8633876  0.122641\n",
       "13  SRR8633931  0.142387\n",
       "14  SRR8633936  0.351850\n",
       "15  SRR8634031  0.158701\n",
       "16  SRR8634110  0.396356\n",
       "17  SRR8634120  0.206792\n",
       "18  SRR8634121  0.153640\n",
       "19  SRR8633251  0.104314\n",
       "20  SRR8633422  0.419016\n",
       "21  SRR8633470  0.273990\n",
       "22  SRR8633501  0.234140\n",
       "23  SRR8633523  0.386102\n",
       "24  SRR8633736  0.497668\n",
       "25  SRR8633868  0.155526\n",
       "26  SRR8633937  0.373347\n",
       "27  SRR8633472  0.474329\n",
       "28  SRR8633653  0.345277\n",
       "29  SRR8633784  0.275119\n",
       "30  SRR8633869  0.188390\n",
       "31  SRR8633912  0.746444\n",
       "32  SRR8634040  0.252342\n",
       "33  SRR8633774  0.478515"
      ]
     },
     "execution_count": 29,
     "metadata": {},
     "output_type": "execute_result"
    }
   ],
   "source": [
    "beta_summary"
   ]
  },
  {
   "cell_type": "code",
   "execution_count": null,
   "id": "talented-highland",
   "metadata": {},
   "outputs": [],
   "source": []
  }
 ],
 "metadata": {
  "kernelspec": {
   "display_name": "analysis",
   "language": "python",
   "name": "dnmt3a"
  },
  "language_info": {
   "codemirror_mode": {
    "name": "ipython",
    "version": 3
   },
   "file_extension": ".py",
   "mimetype": "text/x-python",
   "name": "python",
   "nbconvert_exporter": "python",
   "pygments_lexer": "ipython3",
   "version": "3.7.6"
  }
 },
 "nbformat": 4,
 "nbformat_minor": 5
}
