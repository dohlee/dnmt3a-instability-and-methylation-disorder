{
 "cells": [
  {
   "cell_type": "code",
   "execution_count": 1,
   "id": "collective-cowboy",
   "metadata": {},
   "outputs": [],
   "source": [
    "%run imports.ipynb"
   ]
  },
  {
   "cell_type": "code",
   "execution_count": 2,
   "id": "hidden-booth",
   "metadata": {},
   "outputs": [],
   "source": [
    "data_orig = pd.read_excel('data/huang_etal_data.xlsx')"
   ]
  },
  {
   "cell_type": "code",
   "execution_count": 3,
   "id": "relative-haven",
   "metadata": {},
   "outputs": [],
   "source": [
    "ratio_col = 'Stability ratio (Normalized to DNMT3AWT)'\n",
    "\n",
    "data_grouped = data_orig.groupby('order').agg({\n",
    "    ratio_col: 'mean'\n",
    "}).reset_index().rename({'order': 'aa_position', 'Stability ratio (Normalized to DNMT3AWT)': 'stability_ratio_normalized_to_WT'}, axis=1)\n",
    "\n",
    "ratio_col = 'stability_ratio_normalized_to_WT'"
   ]
  },
  {
   "cell_type": "code",
   "execution_count": 6,
   "id": "reserved-amendment",
   "metadata": {},
   "outputs": [],
   "source": [
    "data_grouped.to_csv('source_data/stability_scores.csv', index=False)"
   ]
  },
  {
   "cell_type": "code",
   "execution_count": 7,
   "id": "lovely-nevada",
   "metadata": {},
   "outputs": [
    {
     "data": {
      "image/png": "[encoded data removed]",
      "text/plain": [
       "<Figure size 300x225 with 1 Axes>"
      ]
     },
     "metadata": {
      "needs_background": "light"
     },
     "output_type": "display_data"
    }
   ],
   "source": [
    "data_grouped = pd.read_csv('source_data/stability_scores.csv')\n",
    "\n",
    "fig = plt.figure(figsize=(2, 1.5))\n",
    "ax = fig.add_subplot(111)\n",
    "\n",
    "ax.hist(data_grouped[ratio_col], bins=31, histtype='stepfilled')\n",
    "\n",
    "ax.text(0.3, 1.03, f'Destabilizng\\n(n={(data_grouped[ratio_col] < 0.75).sum()})', ha='center', va='bottom', transform=ax.transAxes)\n",
    "ax.text(0.8, 1.03, f'Non-destabilizing\\n(n={(data_grouped[ratio_col] >= 0.75).sum()})', ha='center', va='bottom', transform=ax.transAxes)\n",
    "\n",
    "ax.axvline(0.75, ls='--', lw=1, c='k')\n",
    "\n",
    "ax.set_xticks([0.25, 0.5, 0.75, 1.0])\n",
    "ax.set_xticklabels([0.25, 0.5, 0.75, 1.0])\n",
    "\n",
    "ax.set_xlabel('DNMT3A stability score')\n",
    "ax.set_ylabel('Frequency')\n",
    "\n",
    "save_figures('source_data_figures/stability_score/stability_ratio_distribution')"
   ]
  }
 ],
 "metadata": {
  "kernelspec": {
   "display_name": "analysis",
   "language": "python",
   "name": "dnmt3a"
  },
  "language_info": {
   "codemirror_mode": {
    "name": "ipython",
    "version": 3
   },
   "file_extension": ".py",
   "mimetype": "text/x-python",
   "name": "python",
   "nbconvert_exporter": "python",
   "pygments_lexer": "ipython3",
   "version": "3.7.6"
  }
 },
 "nbformat": 4,
 "nbformat_minor": 5
}
