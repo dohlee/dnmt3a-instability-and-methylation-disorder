{
 "cells": [
  {
   "cell_type": "code",
   "execution_count": 1,
   "metadata": {},
   "outputs": [
    {
     "ename": "ModuleNotFoundError",
     "evalue": "No module named 'gseapy'",
     "output_type": "error",
     "traceback": [
      "\u001b[0;31m---------------------------------------------------------------------------\u001b[0m",
      "\u001b[0;31mModuleNotFoundError\u001b[0m                       Traceback (most recent call last)",
      "\u001b[0;32m<ipython-input-1-b0bafdda6870>\u001b[0m in \u001b[0;36m<module>\u001b[0;34m\u001b[0m\n\u001b[1;32m     12\u001b[0m \u001b[0;32mimport\u001b[0m \u001b[0mitertools\u001b[0m\u001b[0;34m\u001b[0m\u001b[0;34m\u001b[0m\u001b[0m\n\u001b[1;32m     13\u001b[0m \u001b[0;31m# import pysam\u001b[0m\u001b[0;34m\u001b[0m\u001b[0;34m\u001b[0m\u001b[0;34m\u001b[0m\u001b[0m\n\u001b[0;32m---> 14\u001b[0;31m \u001b[0;32mimport\u001b[0m \u001b[0mgseapy\u001b[0m \u001b[0;32mas\u001b[0m \u001b[0mgp\u001b[0m\u001b[0;34m\u001b[0m\u001b[0;34m\u001b[0m\u001b[0m\n\u001b[0m\u001b[1;32m     15\u001b[0m \u001b[0;32mfrom\u001b[0m \u001b[0mpathlib\u001b[0m \u001b[0;32mimport\u001b[0m \u001b[0mPath\u001b[0m\u001b[0;34m\u001b[0m\u001b[0;34m\u001b[0m\u001b[0m\n\u001b[1;32m     16\u001b[0m \u001b[0;32mfrom\u001b[0m \u001b[0mtqdm\u001b[0m\u001b[0;34m.\u001b[0m\u001b[0mauto\u001b[0m \u001b[0;32mimport\u001b[0m \u001b[0mtqdm\u001b[0m\u001b[0;34m\u001b[0m\u001b[0;34m\u001b[0m\u001b[0m\n",
      "\u001b[0;31mModuleNotFoundError\u001b[0m: No module named 'gseapy'"
     ]
    }
   ],
   "source": [
    "import pandas as pd\n",
    "import numpy as np\n",
    "import scipy as sp\n",
    "import sklearn\n",
    "import matplotlib.pyplot as plt\n",
    "import seaborn as sns\n",
    "import sys\n",
    "import os\n",
    "import glob\n",
    "import itertools\n",
    "\n",
    "import gseapy as gp\n",
    "import matplotlib as mpl\n",
    "\n",
    "from pathlib import Path\n",
    "from tqdm import tqdm\n",
    "from collections import Counter, defaultdict, namedtuple\n",
    "\n",
    "mpl.rcParams['figure.dpi'] = 150\n",
    "plt.rc('font', family='FreeSans', size=7)\n",
    "plt.rc('figure', figsize=(1.5, 1.5))\n",
    "plt.rc('lines', linewidth=0.75)\n",
    "\n",
    "pd.set_option(\"display.max_columns\", None)\n",
    "\n",
    "import scipy.stats as stats\n",
    "\n",
    "# %matplotlib inline\n",
    "# %load_ext autoreload\n",
    "# %autoreload 2"
   ]
  },
  {
   "cell_type": "code",
   "execution_count": 2,
   "metadata": {},
   "outputs": [],
   "source": [
    "def save_figures(f, exts=['png', 'pdf']):\n",
    "    for ext in exts:\n",
    "        plt.savefig(f + f'.{ext}', dpi=300, bbox_inches='tight', transparent=True)"
   ]
  },
  {
   "cell_type": "code",
   "execution_count": 2,
   "metadata": {},
   "outputs": [],
   "source": [
    "def read_bedgraph(fp):\n",
    "    tmp = pd.read_csv(fp, names=['chrom', 'start', 'end', 'beta', 'm', 'u'], skiprows=1, sep='\\t')\n",
    "    tmp['beta'] = tmp['m'] / (tmp['m'] + tmp['u'])\n",
    "    tmp['depth'] = tmp['m'] + tmp['u']\n",
    "    return tmp"
   ]
  },
  {
   "cell_type": "code",
   "execution_count": null,
   "metadata": {},
   "outputs": [],
   "source": [
    "BASE_DIR = Path('/data/project/SNUH_DNMT3A')"
   ]
  },
  {
   "cell_type": "code",
   "execution_count": null,
   "metadata": {},
   "outputs": [],
   "source": [
    "file_ids = [\n",
    "    '5196',\n",
    "    '5763',\n",
    "    '6407',\n",
    "    '5253',\n",
    "    '6076',\n",
    "    'BM_5553',\n",
    "    '5696_Pellet_Clotted',\n",
    "    'BC_4794',\n",
    "    'BM_5323',\n",
    "    'BM_5347',\n",
    "    'i2_TN1903D0741',\n",
    "    '5174_WB',\n",
    "    'BM_5996',\n",
    "    'BM_5576',\n",
    "    'bc5160',\n",
    "    '6002',\n",
    "    '4939',\n",
    "    'BC_6446',\n",
    "    '5053',\n",
    "    '5997',\n",
    "]\n",
    "sample_ids = [\n",
    "    '5196',\n",
    "    '5763',\n",
    "    '6407',\n",
    "    '5253',\n",
    "    '6076',\n",
    "    '5553',\n",
    "    '5696',\n",
    "    '4794',\n",
    "    '5323',\n",
    "    '5347',\n",
    "    '5070',\n",
    "    '5174',\n",
    "    '5996',\n",
    "    '5576',\n",
    "    '5160',\n",
    "    '6002',\n",
    "    '4939',\n",
    "    '6446',\n",
    "    '5053',\n",
    "    '5997',\n",
    "]\n",
    "id_mapping = dict(zip(file_ids, sample_ids))"
   ]
  },
  {
   "cell_type": "code",
   "execution_count": null,
   "metadata": {},
   "outputs": [],
   "source": [
    "mutation = pd.read_excel('/data/project/SNUH_DNMT3A/manifest/SNUH_DNMT3A_status.xlsx')\n",
    "mutation['sample_id'] = mutation.sample_id.astype(str)"
   ]
  },
  {
   "cell_type": "code",
   "execution_count": null,
   "metadata": {},
   "outputs": [],
   "source": [
    "mutation_mapping = dict(zip(mutation.sample_id, mutation.DNMT3A_status))"
   ]
  }
 ],
 "metadata": {
  "kernelspec": {
   "display_name": "Python 3",
   "language": "python",
   "name": "python3"
  },
  "language_info": {
   "codemirror_mode": {
    "name": "ipython",
    "version": 3
   },
   "file_extension": ".py",
   "mimetype": "text/x-python",
   "name": "python",
   "nbconvert_exporter": "python",
   "pygments_lexer": "ipython3",
   "version": "3.7.3"
  },
  "toc": {
   "base_numbering": 1,
   "nav_menu": {},
   "number_sections": true,
   "sideBar": true,
   "skip_h1_title": false,
   "title_cell": "Table of Contents",
   "title_sidebar": "Contents",
   "toc_cell": false,
   "toc_position": {},
   "toc_section_display": true,
   "toc_window_display": false
  }
 },
 "nbformat": 4,
 "nbformat_minor": 4
}
