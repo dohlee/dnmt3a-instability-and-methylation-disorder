{
 "cells": [
  {
   "cell_type": "code",
   "execution_count": 2,
   "id": "mechanical-switzerland",
   "metadata": {},
   "outputs": [],
   "source": [
    "%run imports.ipynb"
   ]
  },
  {
   "cell_type": "code",
   "execution_count": 3,
   "id": "juvenile-booth",
   "metadata": {},
   "outputs": [],
   "source": [
    "from biopandas.pdb import PandasPdb"
   ]
  },
  {
   "cell_type": "code",
   "execution_count": 89,
   "id": "hydraulic-secretary",
   "metadata": {},
   "outputs": [],
   "source": [
    "pdb = PandasPdb().read_pdb('source_data/AF-Q9Y6K1-F1-model_v3.pdb')"
   ]
  },
  {
   "cell_type": "code",
   "execution_count": 32,
   "id": "blocked-utilization",
   "metadata": {},
   "outputs": [],
   "source": [
    "stability_scores = pd.read_csv('source_data/stability_scores.csv')"
   ]
  },
  {
   "cell_type": "code",
   "execution_count": 33,
   "id": "prescription-semester",
   "metadata": {},
   "outputs": [
    {
     "data": {
      "text/html": [
       "<div>\n",
       "<style scoped>\n",
       "    .dataframe tbody tr th:only-of-type {\n",
       "        vertical-align: middle;\n",
       "    }\n",
       "\n",
       "    .dataframe tbody tr th {\n",
       "        vertical-align: top;\n",
       "    }\n",
       "\n",
       "    .dataframe thead th {\n",
       "        text-align: right;\n",
       "    }\n",
       "</style>\n",
       "<table border=\"1\" class=\"dataframe\">\n",
       "  <thead>\n",
       "    <tr style=\"text-align: right;\">\n",
       "      <th></th>\n",
       "      <th>aa_position</th>\n",
       "      <th>stability_ratio_normalized_to_WT</th>\n",
       "    </tr>\n",
       "  </thead>\n",
       "  <tbody>\n",
       "    <tr>\n",
       "      <th>0</th>\n",
       "      <td>12</td>\n",
       "      <td>0.855598</td>\n",
       "    </tr>\n",
       "    <tr>\n",
       "      <th>1</th>\n",
       "      <td>30</td>\n",
       "      <td>0.836011</td>\n",
       "    </tr>\n",
       "    <tr>\n",
       "      <th>2</th>\n",
       "      <td>90</td>\n",
       "      <td>1.084197</td>\n",
       "    </tr>\n",
       "    <tr>\n",
       "      <th>3</th>\n",
       "      <td>181</td>\n",
       "      <td>1.044739</td>\n",
       "    </tr>\n",
       "    <tr>\n",
       "      <th>4</th>\n",
       "      <td>183</td>\n",
       "      <td>1.060101</td>\n",
       "    </tr>\n",
       "    <tr>\n",
       "      <th>...</th>\n",
       "      <td>...</td>\n",
       "      <td>...</td>\n",
       "    </tr>\n",
       "    <tr>\n",
       "      <th>243</th>\n",
       "      <td>907</td>\n",
       "      <td>0.392546</td>\n",
       "    </tr>\n",
       "    <tr>\n",
       "      <th>244</th>\n",
       "      <td>908</td>\n",
       "      <td>0.407881</td>\n",
       "    </tr>\n",
       "    <tr>\n",
       "      <th>245</th>\n",
       "      <td>909</td>\n",
       "      <td>0.327513</td>\n",
       "    </tr>\n",
       "    <tr>\n",
       "      <th>246</th>\n",
       "      <td>910</td>\n",
       "      <td>0.558161</td>\n",
       "    </tr>\n",
       "    <tr>\n",
       "      <th>247</th>\n",
       "      <td>911</td>\n",
       "      <td>0.507534</td>\n",
       "    </tr>\n",
       "  </tbody>\n",
       "</table>\n",
       "<p>248 rows × 2 columns</p>\n",
       "</div>"
      ],
      "text/plain": [
       "     aa_position  stability_ratio_normalized_to_WT\n",
       "0             12                          0.855598\n",
       "1             30                          0.836011\n",
       "2             90                          1.084197\n",
       "3            181                          1.044739\n",
       "4            183                          1.060101\n",
       "..           ...                               ...\n",
       "243          907                          0.392546\n",
       "244          908                          0.407881\n",
       "245          909                          0.327513\n",
       "246          910                          0.558161\n",
       "247          911                          0.507534\n",
       "\n",
       "[248 rows x 2 columns]"
      ]
     },
     "execution_count": 33,
     "metadata": {},
     "output_type": "execute_result"
    }
   ],
   "source": [
    "stability_scores"
   ]
  },
  {
   "cell_type": "code",
   "execution_count": 59,
   "id": "serious-princeton",
   "metadata": {},
   "outputs": [
    {
     "data": {
      "text/plain": [
       "Text(0, 0.5, 'Stability score')"
      ]
     },
     "execution_count": 59,
     "metadata": {},
     "output_type": "execute_result"
    },
    {
     "data": {
      "image/png": "[encoded data removed]",
      "text/plain": [
       "<Figure size 600x150 with 1 Axes>"
      ]
     },
     "metadata": {
      "needs_background": "light"
     },
     "output_type": "display_data"
    }
   ],
   "source": [
    "import matplotlib.patches as patches\n",
    "\n",
    "fig = plt.figure(figsize=(4, 1))\n",
    "ax = fig.add_subplot(111)\n",
    "\n",
    "ax.scatter(\n",
    "    stability_scores['aa_position'],\n",
    "    stability_scores['stability_ratio_normalized_to_WT'],\n",
    "    s=2,\n",
    ")\n",
    "\n",
    "domain_height = 0.2\n",
    "\n",
    "rect = patches.Rectangle((292, -domain_height), 350 - 292, domain_height, linewidth=0.75, edgecolor='none', facecolor='0.8')\n",
    "ax.add_patch(rect)\n",
    "ax.text((292 + 350) // 2, -domain_height / 1.9, 'PWWP', ha='center', va='center', fontsize=6)\n",
    "\n",
    "rect = patches.Rectangle((482, -domain_height), 614 - 482, domain_height, linewidth=0.75, edgecolor='none', facecolor='0.8')\n",
    "ax.add_patch(rect)\n",
    "ax.text((482 + 614) // 2, -domain_height / 1.9, 'ADD', ha='center', va='center', fontsize=6)\n",
    "\n",
    "rect = patches.Rectangle((634, -domain_height), 912 - 634, domain_height, linewidth=0.75, edgecolor='none', facecolor='0.8')\n",
    "ax.add_patch(rect)\n",
    "ax.text((634 + 912) // 2, -domain_height / 1.9, 'MTase', ha='center', va='center', fontsize=6)\n",
    "\n",
    "ax.axhline(0, lw=0.75, c='k')\n",
    "ax.set_xlim([0, 912])\n",
    "ax.set_ylim(-domain_height, 1.2)\n",
    "\n",
    "for d in ['top', 'right']:\n",
    "    ax.spines[d].set_visible(False)\n",
    "    \n",
    "ax.set_xlabel('Amino acid position')\n",
    "ax.set_ylabel('Stability score')"
   ]
  },
  {
   "cell_type": "code",
   "execution_count": 103,
   "id": "theoretical-penetration",
   "metadata": {},
   "outputs": [],
   "source": [
    "pdb = PandasPdb().read_pdb('source_data/AF-Q9Y6K1-F1-model_v3.pdb')\n",
    "af_result = pdb.df['ATOM'].drop_duplicates('residue_number')"
   ]
  },
  {
   "cell_type": "code",
   "execution_count": 104,
   "id": "solved-single",
   "metadata": {},
   "outputs": [
    {
     "data": {
      "text/html": [
       "<div>\n",
       "<style scoped>\n",
       "    .dataframe tbody tr th:only-of-type {\n",
       "        vertical-align: middle;\n",
       "    }\n",
       "\n",
       "    .dataframe tbody tr th {\n",
       "        vertical-align: top;\n",
       "    }\n",
       "\n",
       "    .dataframe thead th {\n",
       "        text-align: right;\n",
       "    }\n",
       "</style>\n",
       "<table border=\"1\" class=\"dataframe\">\n",
       "  <thead>\n",
       "    <tr style=\"text-align: right;\">\n",
       "      <th></th>\n",
       "      <th>record_name</th>\n",
       "      <th>atom_number</th>\n",
       "      <th>blank_1</th>\n",
       "      <th>atom_name</th>\n",
       "      <th>alt_loc</th>\n",
       "      <th>residue_name</th>\n",
       "      <th>blank_2</th>\n",
       "      <th>chain_id</th>\n",
       "      <th>residue_number</th>\n",
       "      <th>insertion</th>\n",
       "      <th>blank_3</th>\n",
       "      <th>x_coord</th>\n",
       "      <th>y_coord</th>\n",
       "      <th>z_coord</th>\n",
       "      <th>occupancy</th>\n",
       "      <th>b_factor</th>\n",
       "      <th>blank_4</th>\n",
       "      <th>segment_id</th>\n",
       "      <th>element_symbol</th>\n",
       "      <th>charge</th>\n",
       "      <th>line_idx</th>\n",
       "    </tr>\n",
       "  </thead>\n",
       "  <tbody>\n",
       "    <tr>\n",
       "      <th>0</th>\n",
       "      <td>ATOM</td>\n",
       "      <td>1</td>\n",
       "      <td></td>\n",
       "      <td>N</td>\n",
       "      <td></td>\n",
       "      <td>MET</td>\n",
       "      <td></td>\n",
       "      <td>A</td>\n",
       "      <td>1</td>\n",
       "      <td></td>\n",
       "      <td></td>\n",
       "      <td>-9.652</td>\n",
       "      <td>15.736</td>\n",
       "      <td>49.513</td>\n",
       "      <td>1.0</td>\n",
       "      <td>37.43</td>\n",
       "      <td></td>\n",
       "      <td></td>\n",
       "      <td>N</td>\n",
       "      <td>NaN</td>\n",
       "      <td>117</td>\n",
       "    </tr>\n",
       "    <tr>\n",
       "      <th>8</th>\n",
       "      <td>ATOM</td>\n",
       "      <td>9</td>\n",
       "      <td></td>\n",
       "      <td>N</td>\n",
       "      <td></td>\n",
       "      <td>PRO</td>\n",
       "      <td></td>\n",
       "      <td>A</td>\n",
       "      <td>2</td>\n",
       "      <td></td>\n",
       "      <td></td>\n",
       "      <td>-12.224</td>\n",
       "      <td>14.809</td>\n",
       "      <td>51.876</td>\n",
       "      <td>1.0</td>\n",
       "      <td>41.24</td>\n",
       "      <td></td>\n",
       "      <td></td>\n",
       "      <td>N</td>\n",
       "      <td>NaN</td>\n",
       "      <td>125</td>\n",
       "    </tr>\n",
       "    <tr>\n",
       "      <th>15</th>\n",
       "      <td>ATOM</td>\n",
       "      <td>16</td>\n",
       "      <td></td>\n",
       "      <td>N</td>\n",
       "      <td></td>\n",
       "      <td>ALA</td>\n",
       "      <td></td>\n",
       "      <td>A</td>\n",
       "      <td>3</td>\n",
       "      <td></td>\n",
       "      <td></td>\n",
       "      <td>-14.198</td>\n",
       "      <td>11.743</td>\n",
       "      <td>52.793</td>\n",
       "      <td>1.0</td>\n",
       "      <td>40.09</td>\n",
       "      <td></td>\n",
       "      <td></td>\n",
       "      <td>N</td>\n",
       "      <td>NaN</td>\n",
       "      <td>132</td>\n",
       "    </tr>\n",
       "  </tbody>\n",
       "</table>\n",
       "</div>"
      ],
      "text/plain": [
       "   record_name  atom_number blank_1 atom_name alt_loc residue_name blank_2  \\\n",
       "0         ATOM            1                 N                  MET           \n",
       "8         ATOM            9                 N                  PRO           \n",
       "15        ATOM           16                 N                  ALA           \n",
       "\n",
       "   chain_id  residue_number insertion blank_3  x_coord  y_coord  z_coord  \\\n",
       "0         A               1                     -9.652   15.736   49.513   \n",
       "8         A               2                    -12.224   14.809   51.876   \n",
       "15        A               3                    -14.198   11.743   52.793   \n",
       "\n",
       "    occupancy  b_factor blank_4 segment_id element_symbol  charge  line_idx  \n",
       "0         1.0     37.43                                 N     NaN       117  \n",
       "8         1.0     41.24                                 N     NaN       125  \n",
       "15        1.0     40.09                                 N     NaN       132  "
      ]
     },
     "execution_count": 104,
     "metadata": {},
     "output_type": "execute_result"
    }
   ],
   "source": [
    "af_result.head(3)"
   ]
  },
  {
   "cell_type": "code",
   "execution_count": 105,
   "id": "appropriate-float",
   "metadata": {},
   "outputs": [],
   "source": [
    "# Get DNMT3A amino acid sequence.\n",
    "out = !curl -s https://rest.uniprot.org/uniprotkb/Q9Y6K1.fasta\n",
    "seq = ''.join(out[1:])"
   ]
  },
  {
   "cell_type": "code",
   "execution_count": 98,
   "id": "established-buffer",
   "metadata": {},
   "outputs": [
    {
     "data": {
      "text/plain": [
       "561"
      ]
     },
     "execution_count": 98,
     "metadata": {},
     "output_type": "execute_result"
    }
   ],
   "source": [
    "seq.index('CVD')"
   ]
  },
  {
   "cell_type": "code",
   "execution_count": 99,
   "id": "caring-scratch",
   "metadata": {},
   "outputs": [
    {
     "name": "stderr",
     "output_type": "stream",
     "text": [
      "/data/project/dohoon/miniconda3/envs/dnmt3a/lib/python3.7/site-packages/ipykernel_launcher.py:1: SettingWithCopyWarning: \n",
      "A value is trying to be set on a copy of a slice from a DataFrame.\n",
      "Try using .loc[row_indexer,col_indexer] = value instead\n",
      "\n",
      "See the caveats in the documentation: https://pandas.pydata.org/pandas-docs/stable/user_guide/indexing.html#returning-a-view-versus-a-copy\n",
      "  \"\"\"Entry point for launching an IPython kernel.\n"
     ]
    }
   ],
   "source": [
    "af_result['absolute_idx'] = range(562, 562 + len(af_result))"
   ]
  },
  {
   "cell_type": "code",
   "execution_count": 107,
   "id": "martial-tenant",
   "metadata": {},
   "outputs": [],
   "source": [
    "af_result = af_result.merge(stability_scores, left_on='residue_number', right_on='aa_position')\n",
    "af_result['is_ins'] = af_result['stability_ratio_normalized_to_WT'] < 0.75\n",
    "\n",
    "af_result[['residue_number', 'b_factor', 'stability_ratio_normalized_to_WT', 'is_ins']].rename({\n",
    "    'b_factor': 'pLDDT',\n",
    "    'is_ins': 'is_destabilizing_mutation',\n",
    "}, axis=1).to_csv('source_data/alphafold2_dnmt3a_stability.csv', index=False)"
   ]
  },
  {
   "cell_type": "code",
   "execution_count": 109,
   "id": "informational-calendar",
   "metadata": {},
   "outputs": [
    {
     "data": {
      "text/html": [
       "<div>\n",
       "<style scoped>\n",
       "    .dataframe tbody tr th:only-of-type {\n",
       "        vertical-align: middle;\n",
       "    }\n",
       "\n",
       "    .dataframe tbody tr th {\n",
       "        vertical-align: top;\n",
       "    }\n",
       "\n",
       "    .dataframe thead th {\n",
       "        text-align: right;\n",
       "    }\n",
       "</style>\n",
       "<table border=\"1\" class=\"dataframe\">\n",
       "  <thead>\n",
       "    <tr style=\"text-align: right;\">\n",
       "      <th></th>\n",
       "      <th>aa_position</th>\n",
       "      <th>stability_ratio_normalized_to_WT</th>\n",
       "    </tr>\n",
       "  </thead>\n",
       "  <tbody>\n",
       "    <tr>\n",
       "      <th>168</th>\n",
       "      <td>736</td>\n",
       "      <td>0.315882</td>\n",
       "    </tr>\n",
       "  </tbody>\n",
       "</table>\n",
       "</div>"
      ],
      "text/plain": [
       "     aa_position  stability_ratio_normalized_to_WT\n",
       "168          736                          0.315882"
      ]
     },
     "execution_count": 109,
     "metadata": {},
     "output_type": "execute_result"
    }
   ],
   "source": [
    "stability_scores[stability_scores.aa_position == 736]"
   ]
  },
  {
   "cell_type": "code",
   "execution_count": 118,
   "id": "brief-identifier",
   "metadata": {},
   "outputs": [
    {
     "data": {
      "text/plain": [
       "'254+290+293+295+297+298+307+308+309+310+312+324+326+328+332+337+339+344+359+365+366+368+369+376+407+410+414+494+497+507+508+511+514+517+537+549+554+562+583+586+623+631+635+636+637+638+639+642+646+647+648+649+650+653+657+659+660+661+662+663+669+676+684+685+686+687+690+691+699+700+701+702+703+704+705+706+707+714+718+729+731+733+734+736+737+741+742+743+747+749+751+752+754+755+768+769+770+771+772+774+777+778+780+793+794+795+796+797+798+799+801+849+865+869+881+901+902+904+905+906+907+908+909+910+911'"
      ]
     },
     "execution_count": 118,
     "metadata": {},
     "output_type": "execute_result"
    }
   ],
   "source": [
    "'+'.join(stability_scores[stability_scores.stability_ratio_normalized_to_WT < 0.75].aa_position.astype(str).values)"
   ]
  },
  {
   "cell_type": "code",
   "execution_count": 119,
   "id": "promising-expression",
   "metadata": {},
   "outputs": [
    {
     "data": {
      "text/plain": [
       "'12+30+90+181+183+192+267+272+281+288+292+299+301+302+304+314+316+318+322+342+352+361+378+379+380+385+400+413+419+424+426+428+431+436+437+438+455+458+474+477+478+484+495+518+525+527+529+531+532+533+543+545+547+548+550+556+563+567+571+572+573+575+579+580+581+596+598+604+627+641+645+665+668+672+675+677+688+695+709+710+716+717+720+728+735+756+758+759+761+781+783+789+792+800+803+804+811+813+814+815+822+825+826+828+829+835+836+838+850+857+860+868+872+873+879+880+882+884+886+893+896+898+899'"
      ]
     },
     "execution_count": 119,
     "metadata": {},
     "output_type": "execute_result"
    }
   ],
   "source": [
    "'+'.join(stability_scores[stability_scores.stability_ratio_normalized_to_WT >= 0.75].aa_position.astype(str).values)"
   ]
  },
  {
   "cell_type": "code",
   "execution_count": 110,
   "id": "celtic-springfield",
   "metadata": {},
   "outputs": [
    {
     "data": {
      "image/png": "[encoded data removed]",
      "text/plain": [
       "<Figure size 150x225 with 1 Axes>"
      ]
     },
     "metadata": {
      "needs_background": "light"
     },
     "output_type": "display_data"
    }
   ],
   "source": [
    "box_kws = {\n",
    "    'flierprops': {'marker': '.', 'markersize': 3},\n",
    "    'palette': ['C7', 'C3'],\n",
    "    'saturation': 1.0,\n",
    "}\n",
    "\n",
    "d = pd.read_csv('source_data/alphafold2_dnmt3a_stability.csv')\n",
    "\n",
    "stat, p = stats.mannwhitneyu(d[d.is_destabilizing_mutation].pLDDT, d[~d.is_destabilizing_mutation].pLDDT, )\n",
    "\n",
    "fig = plt.figure(figsize=(1, 1.5))\n",
    "ax = fig.add_subplot(111)\n",
    "\n",
    "sns.boxplot(data=d, x='is_destabilizing_mutation', y='pLDDT', **box_kws)\n",
    "\n",
    "ax.set_xticklabels(['Non-destabilizing', 'Destabilizing'], rotation=33, ha='right')\n",
    "\n",
    "ax.set_xlabel('')\n",
    "ax.set_ylabel('pLDDT (AlphaFold2)')\n",
    "\n",
    "ax.set_ylim([ax.get_ylim()[0], 113])\n",
    "ax.text(0.5, 106, f'p={p:.3g}', ha='center', fontsize=6)\n",
    "ax.plot([0, 1], [103, 103], c='k', lw=0.75)\n",
    "\n",
    "save_figures('source_data_figures/dnmt3a_alphafold_pLDDT/alphafold2_dnmt3a_stability')"
   ]
  },
  {
   "cell_type": "code",
   "execution_count": 29,
   "id": "elder-priest",
   "metadata": {},
   "outputs": [
    {
     "data": {
      "text/html": [
       "<div>\n",
       "<style scoped>\n",
       "    .dataframe tbody tr th:only-of-type {\n",
       "        vertical-align: middle;\n",
       "    }\n",
       "\n",
       "    .dataframe tbody tr th {\n",
       "        vertical-align: top;\n",
       "    }\n",
       "\n",
       "    .dataframe thead th {\n",
       "        text-align: right;\n",
       "    }\n",
       "</style>\n",
       "<table border=\"1\" class=\"dataframe\">\n",
       "  <thead>\n",
       "    <tr style=\"text-align: right;\">\n",
       "      <th></th>\n",
       "      <th>residue_number</th>\n",
       "      <th>pLDDT</th>\n",
       "      <th>stability_ratio_normalized_to_WT</th>\n",
       "      <th>is_destabilizing_mutation</th>\n",
       "    </tr>\n",
       "  </thead>\n",
       "  <tbody>\n",
       "    <tr>\n",
       "      <th>6</th>\n",
       "      <td>254</td>\n",
       "      <td>28.66</td>\n",
       "      <td>0.481329</td>\n",
       "      <td>True</td>\n",
       "    </tr>\n",
       "    <tr>\n",
       "      <th>62</th>\n",
       "      <td>438</td>\n",
       "      <td>29.63</td>\n",
       "      <td>1.000848</td>\n",
       "      <td>False</td>\n",
       "    </tr>\n",
       "    <tr>\n",
       "      <th>2</th>\n",
       "      <td>90</td>\n",
       "      <td>32.12</td>\n",
       "      <td>1.084197</td>\n",
       "      <td>False</td>\n",
       "    </tr>\n",
       "    <tr>\n",
       "      <th>60</th>\n",
       "      <td>436</td>\n",
       "      <td>32.75</td>\n",
       "      <td>0.969603</td>\n",
       "      <td>False</td>\n",
       "    </tr>\n",
       "    <tr>\n",
       "      <th>61</th>\n",
       "      <td>437</td>\n",
       "      <td>33.63</td>\n",
       "      <td>1.043213</td>\n",
       "      <td>False</td>\n",
       "    </tr>\n",
       "    <tr>\n",
       "      <th>...</th>\n",
       "      <td>...</td>\n",
       "      <td>...</td>\n",
       "      <td>...</td>\n",
       "      <td>...</td>\n",
       "    </tr>\n",
       "    <tr>\n",
       "      <th>113</th>\n",
       "      <td>637</td>\n",
       "      <td>98.66</td>\n",
       "      <td>0.251787</td>\n",
       "      <td>True</td>\n",
       "    </tr>\n",
       "    <tr>\n",
       "      <th>111</th>\n",
       "      <td>635</td>\n",
       "      <td>98.67</td>\n",
       "      <td>0.405980</td>\n",
       "      <td>True</td>\n",
       "    </tr>\n",
       "    <tr>\n",
       "      <th>150</th>\n",
       "      <td>703</td>\n",
       "      <td>98.69</td>\n",
       "      <td>0.481890</td>\n",
       "      <td>True</td>\n",
       "    </tr>\n",
       "    <tr>\n",
       "      <th>152</th>\n",
       "      <td>705</td>\n",
       "      <td>98.77</td>\n",
       "      <td>0.387536</td>\n",
       "      <td>True</td>\n",
       "    </tr>\n",
       "    <tr>\n",
       "      <th>112</th>\n",
       "      <td>636</td>\n",
       "      <td>98.79</td>\n",
       "      <td>0.358220</td>\n",
       "      <td>True</td>\n",
       "    </tr>\n",
       "  </tbody>\n",
       "</table>\n",
       "<p>248 rows × 4 columns</p>\n",
       "</div>"
      ],
      "text/plain": [
       "     residue_number  pLDDT  stability_ratio_normalized_to_WT  \\\n",
       "6               254  28.66                          0.481329   \n",
       "62              438  29.63                          1.000848   \n",
       "2                90  32.12                          1.084197   \n",
       "60              436  32.75                          0.969603   \n",
       "61              437  33.63                          1.043213   \n",
       "..              ...    ...                               ...   \n",
       "113             637  98.66                          0.251787   \n",
       "111             635  98.67                          0.405980   \n",
       "150             703  98.69                          0.481890   \n",
       "152             705  98.77                          0.387536   \n",
       "112             636  98.79                          0.358220   \n",
       "\n",
       "     is_destabilizing_mutation  \n",
       "6                         True  \n",
       "62                       False  \n",
       "2                        False  \n",
       "60                       False  \n",
       "61                       False  \n",
       "..                         ...  \n",
       "113                       True  \n",
       "111                       True  \n",
       "150                       True  \n",
       "152                       True  \n",
       "112                       True  \n",
       "\n",
       "[248 rows x 4 columns]"
      ]
     },
     "execution_count": 29,
     "metadata": {},
     "output_type": "execute_result"
    }
   ],
   "source": [
    "d.sort_values('pLDDT')"
   ]
  },
  {
   "cell_type": "code",
   "execution_count": 59,
   "id": "paperback-drilling",
   "metadata": {},
   "outputs": [],
   "source": [
    "d['log_pLDDT'] = np.log2(d.pLDDT + 1)"
   ]
  }
 ],
 "metadata": {
  "kernelspec": {
   "display_name": "analysis",
   "language": "python",
   "name": "dnmt3a"
  },
  "language_info": {
   "codemirror_mode": {
    "name": "ipython",
    "version": 3
   },
   "file_extension": ".py",
   "mimetype": "text/x-python",
   "name": "python",
   "nbconvert_exporter": "python",
   "pygments_lexer": "ipython3",
   "version": "3.7.6"
  }
 },
 "nbformat": 4,
 "nbformat_minor": 5
}
