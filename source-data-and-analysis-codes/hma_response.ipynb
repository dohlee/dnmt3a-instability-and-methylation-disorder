{
 "cells": [
  {
   "cell_type": "code",
   "execution_count": 1,
   "id": "conscious-microwave",
   "metadata": {},
   "outputs": [],
   "source": [
    "%run imports.ipynb"
   ]
  },
  {
   "cell_type": "code",
   "execution_count": 54,
   "id": "level-combining",
   "metadata": {},
   "outputs": [],
   "source": [
    "from scipy.stats import ttest_ind, linregress, pearsonr\n",
    "from statsmodels.stats import multitest"
   ]
  },
  {
   "cell_type": "code",
   "execution_count": 8,
   "id": "adjustable-compound",
   "metadata": {},
   "outputs": [
    {
     "data": {
      "text/plain": [
       "(1811, 26)"
      ]
     },
     "execution_count": 8,
     "metadata": {},
     "output_type": "execute_result"
    }
   ],
   "source": [
    "cell_line_info = pd.read_csv('../note2/results/CCLE/sample_info.csv')\n",
    "cell_line_info.shape"
   ]
  },
  {
   "cell_type": "code",
   "execution_count": 9,
   "id": "specified-vampire",
   "metadata": {},
   "outputs": [
    {
     "data": {
      "text/plain": [
       "(54, 26)"
      ]
     },
     "execution_count": 9,
     "metadata": {},
     "output_type": "execute_result"
    }
   ],
   "source": [
    "aml_cell_line_info = cell_line_info[(cell_line_info.primary_disease == 'Leukemia') & (cell_line_info.Subtype.str.contains('AML'))]\n",
    "aml_cell_line_info.shape"
   ]
  },
  {
   "cell_type": "code",
   "execution_count": 12,
   "id": "likely-baseball",
   "metadata": {},
   "outputs": [
    {
     "name": "stderr",
     "output_type": "stream",
     "text": [
      "/data/project/dohoon/miniconda3/envs/dnmt3a/lib/python3.7/site-packages/ipykernel_launcher.py:4: FutureWarning: The default value of regex will change from True to False in a future version. In addition, single character regular expressions will*not* be treated as literal strings when regex=True.\n",
      "  after removing the cwd from sys.path.\n"
     ]
    }
   ],
   "source": [
    "sra_run_table = pd.read_csv('../note2/results/CCLE/SraRunTable_SRP186687.txt')\n",
    "sra_run_table = sra_run_table[sra_run_table['Assay Type'] == 'Bisulfite-Seq']\n",
    "\n",
    "sra_run_table['Cell_Line'] = sra_run_table.Cell_Line.str.upper().str.replace('-', '').str.replace(' ', '').str.replace('.', '').str.replace('/' ,'')"
   ]
  },
  {
   "cell_type": "code",
   "execution_count": 13,
   "id": "suspended-resistance",
   "metadata": {},
   "outputs": [],
   "source": [
    "cellline_name2depmap_id = {r['stripped_cell_line_name']: r['DepMap_ID'] for r in aml_cell_line_info.to_records()}"
   ]
  },
  {
   "cell_type": "code",
   "execution_count": 14,
   "id": "stuck-theme",
   "metadata": {},
   "outputs": [],
   "source": [
    "run2cellline = {r.Run:r.Cell_Line for r in sra_run_table.to_records()}"
   ]
  },
  {
   "cell_type": "code",
   "execution_count": 15,
   "id": "married-diving",
   "metadata": {},
   "outputs": [],
   "source": [
    "ctrp_per_cpd_avg = pd.read_csv('../note2/results/CCLE/v20.meta.per_assay_plate.txt', sep='\\t')\n",
    "ctrp_cell_lines = pd.read_csv('../note2/results/CCLE/v20.meta.per_cell_line.txt', sep='\\t')\n",
    "ctrp_compounds = pd.read_csv('../note2/results/CCLE/v20.meta.per_compound.txt', sep='\\t')\n",
    "ctrp_experiments = pd.read_csv('../note2/results/CCLE/v20.meta.per_experiment.txt', sep='\\t')\n",
    "\n",
    "ctrp_curves = pd.read_csv('../note2/results/CCLE/v20.data.curves_post_qc.txt', sep='\\t').merge(ctrp_experiments, on='experiment_id')\n",
    "\n",
    "master_ccl_id2ccl_name = {r.master_ccl_id:r.ccl_name for r in ctrp_cell_lines.to_records()}\n",
    "master_cpd_id2cpd_name = {r.master_cpd_id:r.cpd_name for r in ctrp_compounds.to_records()}\n",
    "\n",
    "ctrp_curves['ccl_name'] = ctrp_curves.master_ccl_id.map(master_ccl_id2ccl_name)\n",
    "ctrp_curves['cpd_name'] = ctrp_curves.master_cpd_id.map(master_cpd_id2cpd_name)"
   ]
  },
  {
   "cell_type": "code",
   "execution_count": 18,
   "id": "dirty-attendance",
   "metadata": {},
   "outputs": [],
   "source": [
    "ccl_names = set(ctrp_curves.ccl_name.str.upper())\n",
    "m3_ccl_names = aml_cell_line_info[(aml_cell_line_info.lineage_sub_subtype == 'M3') | (aml_cell_line_info.lineage_sub_subtype.isnull())].stripped_cell_line_name.values\n",
    "\n",
    "ctrp_ccl_names = [ccl.upper() for ccl in lpmi_summary.cell_line.unique() if pd.notnull(ccl) and (ccl.replace('-', '') in ccl_names) and (ccl.replace('-', '') not in m3_ccl_names)]"
   ]
  },
  {
   "cell_type": "code",
   "execution_count": 46,
   "id": "hollywood-interaction",
   "metadata": {},
   "outputs": [],
   "source": [
    "contexts = ['cgi', 'cpg_shore', 'cpg_shelf', 'promoter', 'methylation_canyon', 'exon', 'genebody', 'sine', 'line', 'ltr', 'bivalent_domain', 'bivalent_promoter', 'nonbivalent_promoter', 'nonbivalent_promoter_bivslop1000', 'all']\n",
    "\n",
    "context_names = [\n",
    "    'CpG island',\n",
    "    'CpG shore',\n",
    "    'CpG shelf',\n",
    "    'Promoter',\n",
    "    'Methylation canyon',\n",
    "    'Exon',\n",
    "    'Gene body',\n",
    "    'SINE',\n",
    "    'LINE',\n",
    "    'LTR',\n",
    "    'Bivalent domain',\n",
    "    'Bivalent promoter',\n",
    "    'Nonbivalent promoter',\n",
    "    'Nonbivalent promoter (1000bp slopped)',\n",
    "    'Genomewide'\n",
    "]"
   ]
  },
  {
   "cell_type": "markdown",
   "id": "ready-narrow",
   "metadata": {},
   "source": [
    "### Save LPMD data"
   ]
  },
  {
   "cell_type": "code",
   "execution_count": 47,
   "id": "animal-tourism",
   "metadata": {},
   "outputs": [
    {
     "name": "stderr",
     "output_type": "stream",
     "text": [
      "100%|██████████| 34/34 [00:00<00:00, 57.08it/s]\n",
      "100%|██████████| 34/34 [00:00<00:00, 57.32it/s]\n",
      "100%|██████████| 34/34 [00:00<00:00, 50.06it/s]\n",
      "100%|██████████| 34/34 [00:00<00:00, 47.88it/s]\n",
      "100%|██████████| 34/34 [00:00<00:00, 65.34it/s]\n",
      "100%|██████████| 34/34 [00:01<00:00, 25.26it/s]\n",
      "100%|██████████| 34/34 [00:00<00:00, 83.74it/s]\n",
      "100%|██████████| 34/34 [00:00<00:00, 80.35it/s]\n",
      "100%|██████████| 34/34 [00:00<00:00, 71.21it/s]\n",
      "100%|██████████| 34/34 [00:00<00:00, 74.99it/s]\n",
      "100%|██████████| 34/34 [00:00<00:00, 114.86it/s]\n",
      "100%|██████████| 34/34 [00:00<00:00, 94.24it/s]\n",
      "100%|██████████| 34/34 [00:00<00:00, 86.40it/s]\n",
      "100%|██████████| 34/34 [00:00<00:00, 103.02it/s]\n",
      "100%|██████████| 34/34 [00:00<00:00, 112.84it/s]\n"
     ]
    }
   ],
   "source": [
    "data = []\n",
    "\n",
    "for context in contexts:\n",
    "    concordance_fps = glob.glob(f'/data2/project/SNUH_DNMT3A/pipelines/DMD-CONTEXT/result/CCLE-RRBS/*.{context}.pairs.csv')\n",
    "\n",
    "    # Make summary table.\n",
    "    lpmd_summary = []\n",
    "    names = ['chrom', 'pos1', 'pos2', 'distance', 'concordance', 'n_con', 'n_dis', 'depth', 'run']\n",
    "    for fp in tqdm(concordance_fps):\n",
    "        tmp = pd.read_csv(fp)\n",
    "        tmp = tmp.groupby('distance').agg({'n_con': 'sum', 'n_dis': 'sum', 'run': 'first'}).reset_index()\n",
    "        tmp['lpmd'] = tmp['n_dis'] / (tmp['n_dis'] + tmp['n_con'])\n",
    "\n",
    "        lpmd_summary.append(tmp)\n",
    "\n",
    "    lpmd_summary = pd.concat(lpmd_summary)\n",
    "    lpmd_summary['cell_line'] = lpmd_summary.run.map(run2cellline)\n",
    "    lpmd_summary['depmap_id'] = lpmd_summary.cell_line.map(cellline_name2depmap_id)\n",
    "\n",
    "    # Aggregate lpmd by distance (2-24bp)\n",
    "    d = lpmd_summary[lpmd_summary.distance <= MAX_DISTANCE].groupby('cell_line').agg({'n_con': 'sum', 'n_dis': 'sum'}).reset_index()\n",
    "    d['lpmd'] = d.n_dis / (d.n_dis + d.n_con)\n",
    "\n",
    "    ctrp_concordance_map = {r.cell_line.replace('-', ''):r.lpmd for r in d.to_records() if pd.notnull(r.cell_line)}\n",
    "    ctrp_curves['lpmd'] = ctrp_curves.ccl_name.map(ctrp_concordance_map)\n",
    "    ctrp_curves_aml = ctrp_curves[ctrp_curves.ccl_name.isin(ctrp_ccl_names)].copy()\n",
    "\n",
    "    ctrp_result = defaultdict(list)\n",
    "\n",
    "    ctrp_curves_aml['log_apparent_ec50_umol'] = np.log2(ctrp_curves_aml.apparent_ec50_umol + 1)\n",
    "    ctrp_curves_aml['log_area_under_curve'] = np.log2(ctrp_curves_aml.area_under_curve + 1)\n",
    "    ctrp_curves_aml['response'] = (ctrp_curves_aml.p4_baseline < 0.3)\n",
    "    ctrp_curves_aml['area_under_curve_clipped'] = ctrp_curves_aml.area_under_curve.clip(lower=0, upper=15)\n",
    "\n",
    "    d = ctrp_curves_aml[ctrp_curves_aml.cpd_name.isin(drugs)].drop_duplicates(['ccl_name', 'cpd_name'])[['ccl_name', 'cpd_name', 'lpmd', 'area_under_curve']]\n",
    "    d['context'] = context\n",
    "    data.append(d)\n",
    "    \n",
    "data = pd.concat(data)"
   ]
  },
  {
   "cell_type": "code",
   "execution_count": 48,
   "id": "revised-planner",
   "metadata": {},
   "outputs": [],
   "source": [
    "data.to_csv('source_data/ccle_hma_response.csv', index=False)"
   ]
  },
  {
   "cell_type": "code",
   "execution_count": 55,
   "id": "comprehensive-investigator",
   "metadata": {},
   "outputs": [],
   "source": [
    "drugs = [\n",
    "    'RG-108',\n",
    "    'decitabine',\n",
    "    'decitabine:navitoclax (2:1 mol/mol)',\n",
    "    'decitabine:carboplatin (1:1 mol/mol)',\n",
    "    'selumetinib:decitabine (4:1 mol/mol)', \n",
    "    'azacitidine'\n",
    "]\n",
    "\n",
    "drugs_short = [\n",
    "    'RG108',\n",
    "    'decitabine',\n",
    "    'decitabine_navitoclax_2_1',\n",
    "    'decitabine_carboplatin_1_1',\n",
    "    'selumetinib_decitabine_4_1',\n",
    "    'azacitidine'\n",
    "]\n",
    "drugs_title = [\n",
    "    'RG-108',\n",
    "    'Decitabine',\n",
    "    'Decitabine+Navitoclax\\n(2:1 mol/mol)',\n",
    "    'Decitabine+Carboplatin\\n(1:1 mol/mol)',\n",
    "#         'Selumetinib+Decitabine (4:1 mol/mol)',\n",
    "#         'Azacitidine',\n",
    "]\n"
   ]
  },
  {
   "cell_type": "code",
   "execution_count": 132,
   "id": "portuguese-reminder",
   "metadata": {},
   "outputs": [
    {
     "data": {
      "text/plain": [
       "<Figure size 900x180 with 0 Axes>"
      ]
     },
     "metadata": {},
     "output_type": "display_data"
    },
    {
     "data": {
      "text/plain": [
       "<Figure size 900x180 with 0 Axes>"
      ]
     },
     "metadata": {},
     "output_type": "display_data"
    },
    {
     "data": {
      "text/plain": [
       "<Figure size 900x180 with 0 Axes>"
      ]
     },
     "metadata": {},
     "output_type": "display_data"
    },
    {
     "data": {
      "text/plain": [
       "<Figure size 900x180 with 0 Axes>"
      ]
     },
     "metadata": {},
     "output_type": "display_data"
    },
    {
     "data": {
      "text/plain": [
       "<Figure size 900x180 with 0 Axes>"
      ]
     },
     "metadata": {},
     "output_type": "display_data"
    },
    {
     "data": {
      "text/plain": [
       "<Figure size 900x180 with 0 Axes>"
      ]
     },
     "metadata": {},
     "output_type": "display_data"
    },
    {
     "data": {
      "text/plain": [
       "<Figure size 900x180 with 0 Axes>"
      ]
     },
     "metadata": {},
     "output_type": "display_data"
    },
    {
     "data": {
      "text/plain": [
       "<Figure size 900x180 with 0 Axes>"
      ]
     },
     "metadata": {},
     "output_type": "display_data"
    },
    {
     "data": {
      "text/plain": [
       "<Figure size 900x180 with 0 Axes>"
      ]
     },
     "metadata": {},
     "output_type": "display_data"
    },
    {
     "data": {
      "text/plain": [
       "<Figure size 900x180 with 0 Axes>"
      ]
     },
     "metadata": {},
     "output_type": "display_data"
    },
    {
     "data": {
      "text/plain": [
       "<Figure size 900x180 with 0 Axes>"
      ]
     },
     "metadata": {},
     "output_type": "display_data"
    },
    {
     "data": {
      "text/plain": [
       "<Figure size 900x180 with 0 Axes>"
      ]
     },
     "metadata": {},
     "output_type": "display_data"
    },
    {
     "data": {
      "text/plain": [
       "<Figure size 900x180 with 0 Axes>"
      ]
     },
     "metadata": {},
     "output_type": "display_data"
    },
    {
     "data": {
      "text/plain": [
       "<Figure size 900x180 with 0 Axes>"
      ]
     },
     "metadata": {},
     "output_type": "display_data"
    },
    {
     "data": {
      "text/plain": [
       "<Figure size 900x180 with 0 Axes>"
      ]
     },
     "metadata": {},
     "output_type": "display_data"
    }
   ],
   "source": [
    "data = pd.read_csv('source_data/ccle_hma_response.csv')\n",
    "\n",
    "for context, context_name in zip(contexts, context_names):\n",
    "    fig = plt.figure(figsize=(6, 1.2))\n",
    "    for i, (drug, drug_short, drug_title) in enumerate(zip(drugs, drugs_short, drugs_title)):\n",
    "        ax = fig.add_subplot(1, 4, i + 1)\n",
    "\n",
    "        d = data[(data.context == context) & (data.cpd_name == drug)]\n",
    "        sns.regplot(x=d['lpmd'], y=d['area_under_curve'], scatter_kws={'s': 3, 'color': '0.4'}, line_kws={'lw': 1, 'ls': '--', 'color': 'k'}, ax=ax)\n",
    "\n",
    "        result = linregress(d['lpmd'], d['area_under_curve'])\n",
    "        plt.text(0.05, 0.05, f'p={result.pvalue:.2g}\\nr={result.rvalue:.2g}', ha='left', transform=ax.transAxes)\n",
    "\n",
    "        ax.set_ylim([-0.5, 18])\n",
    "        ax.set_xlim([d.lpmd.min() - 3e-3, d.lpmd.max() + 3e-3])\n",
    "        \n",
    "        if context == 'bivalent_domain':\n",
    "            ax.set_xlabel('bivLPMD', fontsize=7)\n",
    "        else:\n",
    "            ax.set_xlabel(f'LPMD ({context_name})', fontsize=7)\n",
    "        if i == 0:\n",
    "            ax.set_ylabel('AUDRC', fontsize=7)\n",
    "        else:\n",
    "            ax.set_ylabel('')\n",
    "\n",
    "        ax.set_title(drug_title, pad=5, fontsize=7)\n",
    "\n",
    "    plt.subplots_adjust(wspace=0.3)\n",
    "    save_figures(f'source_data_figures/hma_response_lpmd/hma_response.lpmd.{context}')\n",
    "    plt.clf()"
   ]
  },
  {
   "cell_type": "markdown",
   "id": "boolean-coral",
   "metadata": {},
   "source": [
    "### Draw curves for THP1 (exp_id 387) and HEL9217 (exp_id 700)"
   ]
  },
  {
   "cell_type": "code",
   "execution_count": 70,
   "id": "increased-observation",
   "metadata": {},
   "outputs": [],
   "source": [
    "ctrp_raw = pd.read_csv('../note2/results/CCLE/v20.data.per_cpd_well.txt', sep='\\t')"
   ]
  },
  {
   "cell_type": "code",
   "execution_count": 72,
   "id": "referenced-revelation",
   "metadata": {},
   "outputs": [],
   "source": [
    "master_ccl_id2ccl_name = {r.master_ccl_id:r.ccl_name for r in ctrp_cell_lines.to_records()}\n",
    "master_cpd_id2cpd_name = {r.master_cpd_id:r.cpd_name for r in ctrp_compounds.to_records()}"
   ]
  },
  {
   "cell_type": "code",
   "execution_count": 73,
   "id": "addressed-naples",
   "metadata": {},
   "outputs": [],
   "source": [
    "ctrp_raw['dmso_zscore'] = 2 ** ctrp_raw.dmso_zscore_log2.values\n",
    "ctrp_raw['bsub_value'] = 2 ** ctrp_raw.bsub_value_log2.values"
   ]
  },
  {
   "cell_type": "code",
   "execution_count": 74,
   "id": "duplicate-blowing",
   "metadata": {},
   "outputs": [],
   "source": [
    "ctrp_raw['cpd_name'] = ctrp_raw.master_cpd_id.map(master_cpd_id2cpd_name)"
   ]
  },
  {
   "cell_type": "code",
   "execution_count": 75,
   "id": "corporate-bishop",
   "metadata": {},
   "outputs": [],
   "source": [
    "ctrp_experiments['ccl_name'] = ctrp_experiments.master_ccl_id.map(master_ccl_id2ccl_name)"
   ]
  },
  {
   "cell_type": "code",
   "execution_count": 76,
   "id": "emotional-helen",
   "metadata": {},
   "outputs": [],
   "source": [
    "def get_curve_params(experiment_id, cpd_name):\n",
    "    tmp = ctrp_curves_aml[(ctrp_curves_aml.experiment_id == experiment_id) & (ctrp_curves_aml.cpd_name == cpd_name)]\n",
    "    \n",
    "    p1 = 2 ** tmp.p1_center.values[0]\n",
    "    p2 = 2 ** tmp.p2_slope.values[0]\n",
    "    p3 = tmp.p3_total_decline.values[0]\n",
    "    p4 = tmp.p4_baseline.values[0]\n",
    "    \n",
    "    return p1, p2, p3, p4"
   ]
  },
  {
   "cell_type": "code",
   "execution_count": 77,
   "id": "comic-track",
   "metadata": {},
   "outputs": [],
   "source": [
    "exp2baseline = dict(zip(ctrp_experiments.experiment_id, ctrp_experiments.baseline_signal))"
   ]
  },
  {
   "cell_type": "markdown",
   "id": "better-thesis",
   "metadata": {},
   "source": [
    "### bivLPMD"
   ]
  },
  {
   "cell_type": "code",
   "execution_count": 109,
   "id": "reliable-violation",
   "metadata": {},
   "outputs": [],
   "source": [
    "low_lpmi_experiment_id = 387  # THP1\n",
    "high_lpmi_experiment_id = 700  # HEL9217\n",
    "\n",
    "data = []\n",
    "\n",
    "for i, (drug, drug_short, drug_title) in enumerate(zip(drugs, drugs_short, drugs_title)):\n",
    "# for i, (drug, drug_short, drug_title) in enumerate(zip(['RG-108'], ['RG108'], ['RG-108'])):\n",
    "\n",
    "    # High LPMI scatter\n",
    "    high_baseline = exp2baseline[high_lpmi_experiment_id]\n",
    "    high_curve_data = ctrp_raw[(ctrp_raw.experiment_id == high_lpmi_experiment_id) & (ctrp_raw.cpd_name == drug)].groupby('cpd_conc_umol').agg({'bsub_value': 'mean'}).reset_index()\n",
    "\n",
    "    # Low LPMI scatter\n",
    "    low_baseline = exp2baseline[low_lpmi_experiment_id]\n",
    "    low_curve_data = ctrp_raw[(ctrp_raw.experiment_id == low_lpmi_experiment_id) & (ctrp_raw.cpd_name == drug)].groupby('cpd_conc_umol').agg({'bsub_value': 'mean'}).reset_index()\n",
    "    \n",
    "    high_curve_data['cell_line'] = 'HEL9217'\n",
    "    low_curve_data['cell_line'] = 'THP1'\n",
    "    \n",
    "    high_curve_data['ctrp_experiment_id'] = 700\n",
    "    low_curve_data['ctrp_experiment_id'] = 387\n",
    "    \n",
    "    high_curve_data['baseline'] = high_baseline\n",
    "    low_curve_data['baseline'] = low_baseline\n",
    "    \n",
    "    d = pd.concat([high_curve_data, low_curve_data])\n",
    "    d['drug'] = drug_short\n",
    "    \n",
    "    data.append(d)\n",
    "    \n",
    "data = pd.concat(data)"
   ]
  },
  {
   "cell_type": "code",
   "execution_count": 110,
   "id": "bulgarian-mount",
   "metadata": {},
   "outputs": [],
   "source": [
    "data.to_csv('source_data/ccle_bivLPMD_high_low_scatter.csv', index=False)"
   ]
  },
  {
   "cell_type": "code",
   "execution_count": 111,
   "id": "cardiac-coordination",
   "metadata": {},
   "outputs": [
    {
     "data": {
      "text/html": [
       "<div>\n",
       "<style scoped>\n",
       "    .dataframe tbody tr th:only-of-type {\n",
       "        vertical-align: middle;\n",
       "    }\n",
       "\n",
       "    .dataframe tbody tr th {\n",
       "        vertical-align: top;\n",
       "    }\n",
       "\n",
       "    .dataframe thead th {\n",
       "        text-align: right;\n",
       "    }\n",
       "</style>\n",
       "<table border=\"1\" class=\"dataframe\">\n",
       "  <thead>\n",
       "    <tr style=\"text-align: right;\">\n",
       "      <th></th>\n",
       "      <th>cpd_conc_umol</th>\n",
       "      <th>bsub_value</th>\n",
       "      <th>cell_line</th>\n",
       "      <th>ctrp_experiment_id</th>\n",
       "      <th>baseline</th>\n",
       "      <th>drug</th>\n",
       "    </tr>\n",
       "  </thead>\n",
       "  <tbody>\n",
       "    <tr>\n",
       "      <th>0</th>\n",
       "      <td>0.0081</td>\n",
       "      <td>1.023381</td>\n",
       "      <td>HEL9217</td>\n",
       "      <td>700</td>\n",
       "      <td>0.1195</td>\n",
       "      <td>RG108</td>\n",
       "    </tr>\n",
       "    <tr>\n",
       "      <th>1</th>\n",
       "      <td>0.0160</td>\n",
       "      <td>1.070702</td>\n",
       "      <td>HEL9217</td>\n",
       "      <td>700</td>\n",
       "      <td>0.1195</td>\n",
       "      <td>RG108</td>\n",
       "    </tr>\n",
       "    <tr>\n",
       "      <th>2</th>\n",
       "      <td>0.0320</td>\n",
       "      <td>1.056284</td>\n",
       "      <td>HEL9217</td>\n",
       "      <td>700</td>\n",
       "      <td>0.1195</td>\n",
       "      <td>RG108</td>\n",
       "    </tr>\n",
       "    <tr>\n",
       "      <th>3</th>\n",
       "      <td>0.0650</td>\n",
       "      <td>1.020394</td>\n",
       "      <td>HEL9217</td>\n",
       "      <td>700</td>\n",
       "      <td>0.1195</td>\n",
       "      <td>RG108</td>\n",
       "    </tr>\n",
       "    <tr>\n",
       "      <th>4</th>\n",
       "      <td>0.1300</td>\n",
       "      <td>1.032223</td>\n",
       "      <td>HEL9217</td>\n",
       "      <td>700</td>\n",
       "      <td>0.1195</td>\n",
       "      <td>RG108</td>\n",
       "    </tr>\n",
       "    <tr>\n",
       "      <th>...</th>\n",
       "      <td>...</td>\n",
       "      <td>...</td>\n",
       "      <td>...</td>\n",
       "      <td>...</td>\n",
       "      <td>...</td>\n",
       "      <td>...</td>\n",
       "    </tr>\n",
       "    <tr>\n",
       "      <th>11</th>\n",
       "      <td>4.2000</td>\n",
       "      <td>0.628052</td>\n",
       "      <td>THP1</td>\n",
       "      <td>387</td>\n",
       "      <td>0.1195</td>\n",
       "      <td>decitabine_carboplatin_1_1</td>\n",
       "    </tr>\n",
       "    <tr>\n",
       "      <th>12</th>\n",
       "      <td>8.3000</td>\n",
       "      <td>0.731312</td>\n",
       "      <td>THP1</td>\n",
       "      <td>387</td>\n",
       "      <td>0.1195</td>\n",
       "      <td>decitabine_carboplatin_1_1</td>\n",
       "    </tr>\n",
       "    <tr>\n",
       "      <th>13</th>\n",
       "      <td>17.0000</td>\n",
       "      <td>0.772669</td>\n",
       "      <td>THP1</td>\n",
       "      <td>387</td>\n",
       "      <td>0.1195</td>\n",
       "      <td>decitabine_carboplatin_1_1</td>\n",
       "    </tr>\n",
       "    <tr>\n",
       "      <th>14</th>\n",
       "      <td>33.0000</td>\n",
       "      <td>0.647282</td>\n",
       "      <td>THP1</td>\n",
       "      <td>387</td>\n",
       "      <td>0.1195</td>\n",
       "      <td>decitabine_carboplatin_1_1</td>\n",
       "    </tr>\n",
       "    <tr>\n",
       "      <th>15</th>\n",
       "      <td>66.0000</td>\n",
       "      <td>0.650752</td>\n",
       "      <td>THP1</td>\n",
       "      <td>387</td>\n",
       "      <td>0.1195</td>\n",
       "      <td>decitabine_carboplatin_1_1</td>\n",
       "    </tr>\n",
       "  </tbody>\n",
       "</table>\n",
       "<p>128 rows × 6 columns</p>\n",
       "</div>"
      ],
      "text/plain": [
       "    cpd_conc_umol  bsub_value cell_line  ctrp_experiment_id  baseline  \\\n",
       "0          0.0081    1.023381   HEL9217                 700    0.1195   \n",
       "1          0.0160    1.070702   HEL9217                 700    0.1195   \n",
       "2          0.0320    1.056284   HEL9217                 700    0.1195   \n",
       "3          0.0650    1.020394   HEL9217                 700    0.1195   \n",
       "4          0.1300    1.032223   HEL9217                 700    0.1195   \n",
       "..            ...         ...       ...                 ...       ...   \n",
       "11         4.2000    0.628052      THP1                 387    0.1195   \n",
       "12         8.3000    0.731312      THP1                 387    0.1195   \n",
       "13        17.0000    0.772669      THP1                 387    0.1195   \n",
       "14        33.0000    0.647282      THP1                 387    0.1195   \n",
       "15        66.0000    0.650752      THP1                 387    0.1195   \n",
       "\n",
       "                          drug  \n",
       "0                        RG108  \n",
       "1                        RG108  \n",
       "2                        RG108  \n",
       "3                        RG108  \n",
       "4                        RG108  \n",
       "..                         ...  \n",
       "11  decitabine_carboplatin_1_1  \n",
       "12  decitabine_carboplatin_1_1  \n",
       "13  decitabine_carboplatin_1_1  \n",
       "14  decitabine_carboplatin_1_1  \n",
       "15  decitabine_carboplatin_1_1  \n",
       "\n",
       "[128 rows x 6 columns]"
      ]
     },
     "execution_count": 111,
     "metadata": {},
     "output_type": "execute_result"
    }
   ],
   "source": [
    "data"
   ]
  },
  {
   "cell_type": "code",
   "execution_count": 129,
   "id": "impaired-tenant",
   "metadata": {},
   "outputs": [
    {
     "data": {
      "image/png": "[encoded data removed]",
      "text/plain": [
       "<Figure size 187.5x187.5 with 1 Axes>"
      ]
     },
     "metadata": {
      "needs_background": "light"
     },
     "output_type": "display_data"
    },
    {
     "data": {
      "text/plain": [
       "<Figure size 225x225 with 0 Axes>"
      ]
     },
     "metadata": {},
     "output_type": "display_data"
    },
    {
     "data": {
      "image/png": "[encoded data removed]",
      "text/plain": [
       "<Figure size 187.5x187.5 with 1 Axes>"
      ]
     },
     "metadata": {
      "needs_background": "light"
     },
     "output_type": "display_data"
    },
    {
     "data": {
      "text/plain": [
       "<Figure size 225x225 with 0 Axes>"
      ]
     },
     "metadata": {},
     "output_type": "display_data"
    },
    {
     "data": {
      "image/png": "[encoded data removed]",
      "text/plain": [
       "<Figure size 187.5x187.5 with 1 Axes>"
      ]
     },
     "metadata": {
      "needs_background": "light"
     },
     "output_type": "display_data"
    },
    {
     "data": {
      "text/plain": [
       "<Figure size 225x225 with 0 Axes>"
      ]
     },
     "metadata": {},
     "output_type": "display_data"
    },
    {
     "data": {
      "image/png": "[encoded data removed]",
      "text/plain": [
       "<Figure size 187.5x187.5 with 1 Axes>"
      ]
     },
     "metadata": {
      "needs_background": "light"
     },
     "output_type": "display_data"
    },
    {
     "data": {
      "text/plain": [
       "<Figure size 225x225 with 0 Axes>"
      ]
     },
     "metadata": {},
     "output_type": "display_data"
    }
   ],
   "source": [
    "data = pd.read_csv('source_data/ccle_bivLPMD_high_low_scatter.csv')\n",
    "\n",
    "for i, (drug, drug_short, drug_title) in enumerate(zip(drugs, drugs_short, drugs_title)):\n",
    "    fig = plt.figure(figsize=(1.25, 1.25))\n",
    "    ax = fig.add_subplot(111)\n",
    "    \n",
    "    d = data[data.drug == drug_short]\n",
    "    \n",
    "    high_curve_data = d[d.cell_line == 'HEL9217']\n",
    "    high_experiment_id = high_curve_data.ctrp_experiment_id.values[0]\n",
    "    high_baseline = high_curve_data.baseline.values[0]\n",
    "    ax.scatter(\n",
    "        high_curve_data.cpd_conc_umol,\n",
    "        high_curve_data.bsub_value - high_baseline,\n",
    "        c='#990000',\n",
    "        s=3,\n",
    "    )\n",
    "\n",
    "    low_curve_data = d[d.cell_line == 'THP1']\n",
    "    low_experiment_id = low_curve_data.ctrp_experiment_id.values[0]\n",
    "    low_baseline = low_curve_data.baseline.values[0]\n",
    "    ax.scatter(\n",
    "        low_curve_data.cpd_conc_umol,\n",
    "        low_curve_data.bsub_value - low_baseline,\n",
    "        c='C0',\n",
    "        s=3,\n",
    "    )\n",
    "    \n",
    "    # High LPMD curve.\n",
    "    p1, p2, p3, p4 = get_curve_params(experiment_id=high_experiment_id, cpd_name=drug)\n",
    "    high_xmin, high_xmax = high_curve_data.cpd_conc_umol.min() / 10, high_curve_data.cpd_conc_umol.max() * 10\n",
    "\n",
    "    high_lpmd_x = 10 **np.linspace(np.log10(high_xmin), np.log10(high_xmax), 100)\n",
    "    high_lpmd_y = 1 + (p4 - 1) / (1 + (p1 / high_lpmi_x)**p2)\n",
    "\n",
    "    ax.plot(high_lpmd_x, high_lpmd_y, c='#990000', label='HEL9217', lw=1)\n",
    "\n",
    "    # Low LPMD curve.\n",
    "    p1, p2, p3, p4 = get_curve_params(experiment_id=low_experiment_id, cpd_name=drug)\n",
    "    low_xmin, low_xmax = low_curve_data.cpd_conc_umol.min() / 10, low_curve_data.cpd_conc_umol.max() * 10\n",
    "\n",
    "    low_lpmd_x = 10 **np.linspace(np.log10(low_xmin), np.log10(low_xmax), 100)\n",
    "    low_lpmd_y = 1 + (p4 - 1) / (1 + (p1 / low_lpmi_x)**p2)\n",
    "\n",
    "    ax.plot(low_lpmd_x, low_lpmd_y, c='C0', label='THP1', lw=1)\n",
    "    \n",
    "    ax.set_xlabel('Concentration (umol)')\n",
    "    ax.set_ylabel('Cell viability')\n",
    "    ax.set_xscale('log')\n",
    "    \n",
    "    ax.set_title(drug_title, pad=5, fontsize=7)\n",
    "#     ax.legend(frameon=False, loc='lower left')\n",
    "    ax.text(0.03, 0.15, 'THP1 (Low)', c='C0', transform=ax.transAxes, fontsize=6)\n",
    "    ax.text(0.03, 0.05, 'HEL9217 (High)', c='#990000', transform=ax.transAxes, fontsize=6)\n",
    "    \n",
    "    save_figures(f'source_data_figures/hma_response_lpmd/ccle_bivLPMD_high_low_scatter.{drug_short}')\n",
    "    \n",
    "    plt.show()\n",
    "    plt.clf()"
   ]
  },
  {
   "cell_type": "markdown",
   "id": "inside-james",
   "metadata": {},
   "source": [
    "### SINE"
   ]
  },
  {
   "cell_type": "code",
   "execution_count": 122,
   "id": "academic-receiver",
   "metadata": {},
   "outputs": [],
   "source": [
    "low_experiment_id = 576  # KASUMI1\n",
    "high_experiment_id = 694  # SIGM5\n",
    "\n",
    "data = []\n",
    "\n",
    "for i, (drug, drug_short, drug_title) in enumerate(zip(drugs, drugs_short, drugs_title)):\n",
    "# for i, (drug, drug_short, drug_title) in enumerate(zip(['RG-108'], ['RG108'], ['RG-108'])):\n",
    "\n",
    "    # High LPMI scatter\n",
    "    high_baseline = exp2baseline[high_lpmi_experiment_id]\n",
    "    high_curve_data = ctrp_raw[(ctrp_raw.experiment_id == high_experiment_id) & (ctrp_raw.cpd_name == drug)].groupby('cpd_conc_umol').agg({'bsub_value': 'mean'}).reset_index()\n",
    "\n",
    "    # Low LPMI scatter\n",
    "    low_baseline = exp2baseline[low_lpmi_experiment_id]\n",
    "    low_curve_data = ctrp_raw[(ctrp_raw.experiment_id == low_experiment_id) & (ctrp_raw.cpd_name == drug)].groupby('cpd_conc_umol').agg({'bsub_value': 'mean'}).reset_index()\n",
    "    \n",
    "    high_curve_data['cell_line'] = 'SIGM5'\n",
    "    low_curve_data['cell_line'] = 'KASUMI1'\n",
    "    \n",
    "    high_curve_data['ctrp_experiment_id'] = high_experiment_id\n",
    "    low_curve_data['ctrp_experiment_id'] = low_experiment_id\n",
    "    \n",
    "    high_curve_data['baseline'] = high_baseline\n",
    "    low_curve_data['baseline'] = low_baseline\n",
    "    \n",
    "    d = pd.concat([high_curve_data, low_curve_data])\n",
    "    d['drug'] = drug_short\n",
    "    \n",
    "    data.append(d)\n",
    "    \n",
    "data = pd.concat(data)"
   ]
  },
  {
   "cell_type": "code",
   "execution_count": 123,
   "id": "postal-algeria",
   "metadata": {},
   "outputs": [],
   "source": [
    "data.to_csv('source_data/ccle_sineLPMD_high_low_scatter.csv', index=False)"
   ]
  },
  {
   "cell_type": "code",
   "execution_count": 128,
   "id": "material-amazon",
   "metadata": {},
   "outputs": [
    {
     "data": {
      "image/png": "[encoded data removed]",
      "text/plain": [
       "<Figure size 187.5x187.5 with 1 Axes>"
      ]
     },
     "metadata": {
      "needs_background": "light"
     },
     "output_type": "display_data"
    },
    {
     "data": {
      "text/plain": [
       "<Figure size 225x225 with 0 Axes>"
      ]
     },
     "metadata": {},
     "output_type": "display_data"
    },
    {
     "data": {
      "image/png": "[encoded data removed]",
      "text/plain": [
       "<Figure size 187.5x187.5 with 1 Axes>"
      ]
     },
     "metadata": {
      "needs_background": "light"
     },
     "output_type": "display_data"
    },
    {
     "data": {
      "text/plain": [
       "<Figure size 225x225 with 0 Axes>"
      ]
     },
     "metadata": {},
     "output_type": "display_data"
    },
    {
     "data": {
      "image/png": "[encoded data removed]",
      "text/plain": [
       "<Figure size 187.5x187.5 with 1 Axes>"
      ]
     },
     "metadata": {
      "needs_background": "light"
     },
     "output_type": "display_data"
    },
    {
     "data": {
      "text/plain": [
       "<Figure size 225x225 with 0 Axes>"
      ]
     },
     "metadata": {},
     "output_type": "display_data"
    },
    {
     "data": {
      "image/png": "[encoded data removed]",
      "text/plain": [
       "<Figure size 187.5x187.5 with 1 Axes>"
      ]
     },
     "metadata": {
      "needs_background": "light"
     },
     "output_type": "display_data"
    },
    {
     "data": {
      "text/plain": [
       "<Figure size 225x225 with 0 Axes>"
      ]
     },
     "metadata": {},
     "output_type": "display_data"
    }
   ],
   "source": [
    "data = pd.read_csv('source_data/ccle_sineLPMD_high_low_scatter.csv')\n",
    "\n",
    "for i, (drug, drug_short, drug_title) in enumerate(zip(drugs, drugs_short, drugs_title)):\n",
    "    fig = plt.figure(figsize=(1.25, 1.25))\n",
    "    ax = fig.add_subplot(111)\n",
    "    \n",
    "    d = data[data.drug == drug_short]\n",
    "    \n",
    "    high_curve_data = d[d.cell_line == 'SIGM5']\n",
    "    high_experiment_id = high_curve_data.ctrp_experiment_id.values[0]\n",
    "    high_baseline = high_curve_data.baseline.values[0]\n",
    "    ax.scatter(\n",
    "        high_curve_data.cpd_conc_umol,\n",
    "        high_curve_data.bsub_value - high_baseline,\n",
    "        c='#990000',\n",
    "        s=3,\n",
    "    )\n",
    "\n",
    "    low_curve_data = d[d.cell_line == 'KASUMI1']\n",
    "    low_experiment_id = low_curve_data.ctrp_experiment_id.values[0]\n",
    "    low_baseline = low_curve_data.baseline.values[0]\n",
    "    ax.scatter(\n",
    "        low_curve_data.cpd_conc_umol,\n",
    "        low_curve_data.bsub_value - low_baseline,\n",
    "        c='C0',\n",
    "        s=3,\n",
    "    )\n",
    "    \n",
    "    # High LPMD curve.\n",
    "    p1, p2, p3, p4 = get_curve_params(experiment_id=high_experiment_id, cpd_name=drug)\n",
    "    high_xmin, high_xmax = high_curve_data.cpd_conc_umol.min() / 10, high_curve_data.cpd_conc_umol.max() * 10\n",
    "\n",
    "    high_lpmd_x = 10 **np.linspace(np.log10(high_xmin), np.log10(high_xmax), 100)\n",
    "    high_lpmd_y = 1 + (p4 - 1) / (1 + (p1 / high_lpmi_x)**p2)\n",
    "\n",
    "    ax.plot(high_lpmd_x, high_lpmd_y, c='#990000', label='HEL9217', lw=1)\n",
    "\n",
    "    # Low LPMD curve.\n",
    "    p1, p2, p3, p4 = get_curve_params(experiment_id=low_experiment_id, cpd_name=drug)\n",
    "    low_xmin, low_xmax = low_curve_data.cpd_conc_umol.min() / 10, low_curve_data.cpd_conc_umol.max() * 10\n",
    "\n",
    "    low_lpmd_x = 10 **np.linspace(np.log10(low_xmin), np.log10(low_xmax), 100)\n",
    "    low_lpmd_y = 1 + (p4 - 1) / (1 + (p1 / low_lpmi_x)**p2)\n",
    "\n",
    "    ax.plot(low_lpmd_x, low_lpmd_y, c='C0', label='THP1', lw=1)\n",
    "    \n",
    "    ax.set_xlabel('Concentration (umol)')\n",
    "    ax.set_ylabel('Cell viability')\n",
    "    ax.set_xscale('log')\n",
    "    \n",
    "    ax.set_title(drug_title, pad=5, fontsize=7)\n",
    "    ax.text(0.03, 0.15, 'KASUMI1 (Low)', c='C0', transform=ax.transAxes, fontsize=6)\n",
    "    ax.text(0.03, 0.05, 'SIGM5 (High)', c='#990000', transform=ax.transAxes, fontsize=6)\n",
    "    \n",
    "    save_figures(f'source_data_figures/hma_response_lpmd/ccle_sineLPMD_high_low_scatter.{drug_short}')\n",
    "    \n",
    "    plt.show()\n",
    "    plt.clf()"
   ]
  },
  {
   "cell_type": "code",
   "execution_count": null,
   "id": "measured-colombia",
   "metadata": {},
   "outputs": [],
   "source": []
  }
 ],
 "metadata": {
  "kernelspec": {
   "display_name": "analysis",
   "language": "python",
   "name": "dnmt3a"
  },
  "language_info": {
   "codemirror_mode": {
    "name": "ipython",
    "version": 3
   },
   "file_extension": ".py",
   "mimetype": "text/x-python",
   "name": "python",
   "nbconvert_exporter": "python",
   "pygments_lexer": "ipython3",
   "version": "3.7.6"
  }
 },
 "nbformat": 4,
 "nbformat_minor": 5
}
