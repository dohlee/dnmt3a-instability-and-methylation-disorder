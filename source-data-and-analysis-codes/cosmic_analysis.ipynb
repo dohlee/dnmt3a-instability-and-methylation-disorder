{
 "cells": [
  {
   "cell_type": "code",
   "execution_count": 1,
   "id": "painful-porter",
   "metadata": {},
   "outputs": [],
   "source": [
    "%run imports.ipynb"
   ]
  },
  {
   "cell_type": "code",
   "execution_count": 23,
   "id": "political-hopkins",
   "metadata": {},
   "outputs": [],
   "source": [
    "stability_scores = pd.read_csv('source_data/stability_scores.csv')"
   ]
  },
  {
   "cell_type": "code",
   "execution_count": 32,
   "id": "legislative-omega",
   "metadata": {},
   "outputs": [
    {
     "data": {
      "text/html": [
       "<div>\n",
       "<style scoped>\n",
       "    .dataframe tbody tr th:only-of-type {\n",
       "        vertical-align: middle;\n",
       "    }\n",
       "\n",
       "    .dataframe tbody tr th {\n",
       "        vertical-align: top;\n",
       "    }\n",
       "\n",
       "    .dataframe thead th {\n",
       "        text-align: right;\n",
       "    }\n",
       "</style>\n",
       "<table border=\"1\" class=\"dataframe\">\n",
       "  <thead>\n",
       "    <tr style=\"text-align: right;\">\n",
       "      <th></th>\n",
       "      <th>aa_position</th>\n",
       "      <th>stability_ratio_normalized_to_WT</th>\n",
       "    </tr>\n",
       "  </thead>\n",
       "  <tbody>\n",
       "    <tr>\n",
       "      <th>185</th>\n",
       "      <td>770</td>\n",
       "      <td>0.418915</td>\n",
       "    </tr>\n",
       "  </tbody>\n",
       "</table>\n",
       "</div>"
      ],
      "text/plain": [
       "     aa_position  stability_ratio_normalized_to_WT\n",
       "185          770                          0.418915"
      ]
     },
     "execution_count": 32,
     "metadata": {},
     "output_type": "execute_result"
    }
   ],
   "source": [
    "stability_scores[stability_scores.aa_position == 770]"
   ]
  },
  {
   "cell_type": "code",
   "execution_count": 20,
   "id": "suffering-clarity",
   "metadata": {},
   "outputs": [],
   "source": [
    "cosmic = pd.read_csv('source_data/DNMT3A_COSMIC_hematopoietic_and_lymphoid_tissue_Mon Nov 14 09_21_53 2022.csv')\n",
    "cosmic = cosmic[cosmic.Type.str.contains('Substitution')]\n",
    "cosmic = cosmic.groupby('Position').agg({'Count': 'sum'}).reset_index().sort_values('Count', ascending=False)\n",
    "\n",
    "# Get DNMT3A amino acid sequence.\n",
    "out = !curl -s https://rest.uniprot.org/uniprotkb/Q9Y6K1.fasta\n",
    "seq = ''.join(out[1:])\n",
    "\n",
    "cosmic['Position'] = cosmic.Position.astype(int)\n",
    "cosmic['AA'] = cosmic.Position.map(lambda x: seq[x-1])"
   ]
  },
  {
   "cell_type": "code",
   "execution_count": 62,
   "id": "handy-treat",
   "metadata": {},
   "outputs": [],
   "source": [
    "target_positions = [714, 729, 736, 749, 770, 771]"
   ]
  },
  {
   "cell_type": "code",
   "execution_count": 60,
   "id": "incorporate-divide",
   "metadata": {},
   "outputs": [
    {
     "data": {
      "text/html": [
       "<div>\n",
       "<style scoped>\n",
       "    .dataframe tbody tr th:only-of-type {\n",
       "        vertical-align: middle;\n",
       "    }\n",
       "\n",
       "    .dataframe tbody tr th {\n",
       "        vertical-align: top;\n",
       "    }\n",
       "\n",
       "    .dataframe thead th {\n",
       "        text-align: right;\n",
       "    }\n",
       "</style>\n",
       "<table border=\"1\" class=\"dataframe\">\n",
       "  <thead>\n",
       "    <tr style=\"text-align: right;\">\n",
       "      <th></th>\n",
       "      <th>Position</th>\n",
       "      <th>Count</th>\n",
       "      <th>AA</th>\n",
       "    </tr>\n",
       "  </thead>\n",
       "  <tbody>\n",
       "    <tr>\n",
       "      <th>295</th>\n",
       "      <td>882</td>\n",
       "      <td>1748</td>\n",
       "      <td>R</td>\n",
       "    </tr>\n",
       "    <tr>\n",
       "      <th>222</th>\n",
       "      <td>736</td>\n",
       "      <td>51</td>\n",
       "      <td>R</td>\n",
       "    </tr>\n",
       "    <tr>\n",
       "      <th>115</th>\n",
       "      <td>543</td>\n",
       "      <td>38</td>\n",
       "      <td>G</td>\n",
       "    </tr>\n",
       "    <tr>\n",
       "      <th>204</th>\n",
       "      <td>714</td>\n",
       "      <td>32</td>\n",
       "      <td>S</td>\n",
       "    </tr>\n",
       "    <tr>\n",
       "      <th>154</th>\n",
       "      <td>635</td>\n",
       "      <td>29</td>\n",
       "      <td>R</td>\n",
       "    </tr>\n",
       "    <tr>\n",
       "      <th>...</th>\n",
       "      <td>...</td>\n",
       "      <td>...</td>\n",
       "      <td>...</td>\n",
       "    </tr>\n",
       "    <tr>\n",
       "      <th>34</th>\n",
       "      <td>306</td>\n",
       "      <td>3</td>\n",
       "      <td>W</td>\n",
       "    </tr>\n",
       "    <tr>\n",
       "      <th>281</th>\n",
       "      <td>859</td>\n",
       "      <td>3</td>\n",
       "      <td>L</td>\n",
       "    </tr>\n",
       "    <tr>\n",
       "      <th>259</th>\n",
       "      <td>816</td>\n",
       "      <td>3</td>\n",
       "      <td>Q</td>\n",
       "    </tr>\n",
       "    <tr>\n",
       "      <th>57</th>\n",
       "      <td>366</td>\n",
       "      <td>3</td>\n",
       "      <td>R</td>\n",
       "    </tr>\n",
       "    <tr>\n",
       "      <th>94</th>\n",
       "      <td>494</td>\n",
       "      <td>3</td>\n",
       "      <td>C</td>\n",
       "    </tr>\n",
       "  </tbody>\n",
       "</table>\n",
       "<p>115 rows × 3 columns</p>\n",
       "</div>"
      ],
      "text/plain": [
       "     Position  Count AA\n",
       "295       882   1748  R\n",
       "222       736     51  R\n",
       "115       543     38  G\n",
       "204       714     32  S\n",
       "154       635     29  R\n",
       "..        ...    ... ..\n",
       "34        306      3  W\n",
       "281       859      3  L\n",
       "259       816      3  Q\n",
       "57        366      3  R\n",
       "94        494      3  C\n",
       "\n",
       "[115 rows x 3 columns]"
      ]
     },
     "execution_count": 60,
     "metadata": {},
     "output_type": "execute_result"
    }
   ],
   "source": [
    "cosmic[cosmic.Count >= 3]"
   ]
  },
  {
   "cell_type": "code",
   "execution_count": 61,
   "id": "patient-cooperation",
   "metadata": {},
   "outputs": [
    {
     "data": {
      "text/html": [
       "<div>\n",
       "<style scoped>\n",
       "    .dataframe tbody tr th:only-of-type {\n",
       "        vertical-align: middle;\n",
       "    }\n",
       "\n",
       "    .dataframe tbody tr th {\n",
       "        vertical-align: top;\n",
       "    }\n",
       "\n",
       "    .dataframe thead th {\n",
       "        text-align: right;\n",
       "    }\n",
       "</style>\n",
       "<table border=\"1\" class=\"dataframe\">\n",
       "  <thead>\n",
       "    <tr style=\"text-align: right;\">\n",
       "      <th></th>\n",
       "      <th>Position</th>\n",
       "      <th>Count</th>\n",
       "      <th>AA</th>\n",
       "    </tr>\n",
       "  </thead>\n",
       "  <tbody>\n",
       "    <tr>\n",
       "      <th>241</th>\n",
       "      <td>777</td>\n",
       "      <td>2</td>\n",
       "      <td>P</td>\n",
       "    </tr>\n",
       "  </tbody>\n",
       "</table>\n",
       "</div>"
      ],
      "text/plain": [
       "     Position  Count AA\n",
       "241       777      2  P"
      ]
     },
     "execution_count": 61,
     "metadata": {},
     "output_type": "execute_result"
    }
   ],
   "source": [
    "cosmic[cosmic.Position == 777]"
   ]
  },
  {
   "cell_type": "code",
   "execution_count": 69,
   "id": "alternate-mining",
   "metadata": {},
   "outputs": [
    {
     "data": {
      "image/png": "[encoded data removed]",
      "text/plain": [
       "<Figure size 1500x150 with 1 Axes>"
      ]
     },
     "metadata": {
      "needs_background": "light"
     },
     "output_type": "display_data"
    }
   ],
   "source": [
    "N = 60\n",
    "\n",
    "fig = plt.figure(figsize=(10, 1))\n",
    "ax = fig.add_subplot(111)\n",
    "\n",
    "d = cosmic.head(N).tail(N-1)\n",
    "\n",
    "for i, r in enumerate(d.to_records()):\n",
    "    ax.bar(i, r.Count, fc='C0' if r.Position not in target_positions else 'C3')\n",
    "    \n",
    "ax.set_xticks(range(N-1))\n",
    "ax.set_xticklabels(d.Position, rotation=90)\n",
    "\n",
    "ax.set_xlim(0-0.5, N-1-0.5)\n",
    "ax.set_ylim(0, 60)\n",
    "ax.tick_params(pad=0)\n",
    "\n",
    "ax.set_xlabel('Amino acid position')\n",
    "ax.set_ylabel('Mutation frequency')\n",
    "\n",
    "save_figures('source_data_figures/synergistic_residues_mutation_frequency_cosmic')"
   ]
  }
 ],
 "metadata": {
  "kernelspec": {
   "display_name": "analysis",
   "language": "python",
   "name": "dnmt3a"
  },
  "language_info": {
   "codemirror_mode": {
    "name": "ipython",
    "version": 3
   },
   "file_extension": ".py",
   "mimetype": "text/x-python",
   "name": "python",
   "nbconvert_exporter": "python",
   "pygments_lexer": "ipython3",
   "version": "3.7.6"
  }
 },
 "nbformat": 4,
 "nbformat_minor": 5
}
