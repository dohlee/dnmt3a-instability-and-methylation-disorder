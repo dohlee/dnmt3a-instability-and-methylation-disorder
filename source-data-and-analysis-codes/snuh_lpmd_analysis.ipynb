{
 "cells": [
  {
   "cell_type": "code",
   "execution_count": 1,
   "id": "greek-teach",
   "metadata": {},
   "outputs": [],
   "source": [
    "%run imports.ipynb"
   ]
  },
  {
   "cell_type": "code",
   "execution_count": 2,
   "id": "asian-ancient",
   "metadata": {},
   "outputs": [],
   "source": [
    "snuh_calls = pd.read_excel('source_data/variant_calls.xlsx', sheet_name='SNUH')\n",
    "snuh_calls.rename({'Name': 'name'}, axis=1).to_csv('source_data/snuh_variant_calls.csv', index=False)\n",
    "\n",
    "snuh_calls = pd.read_csv('source_data/snuh_variant_calls.csv')\n",
    "sample2status = {r.name:r.status for r in snuh_calls.to_records()}"
   ]
  },
  {
   "cell_type": "code",
   "execution_count": 11,
   "id": "medical-mitchell",
   "metadata": {},
   "outputs": [
    {
     "data": {
      "text/html": [
       "<div>\n",
       "<style scoped>\n",
       "    .dataframe tbody tr th:only-of-type {\n",
       "        vertical-align: middle;\n",
       "    }\n",
       "\n",
       "    .dataframe tbody tr th {\n",
       "        vertical-align: top;\n",
       "    }\n",
       "\n",
       "    .dataframe thead th {\n",
       "        text-align: right;\n",
       "    }\n",
       "</style>\n",
       "<table border=\"1\" class=\"dataframe\">\n",
       "  <thead>\n",
       "    <tr style=\"text-align: right;\">\n",
       "      <th></th>\n",
       "      <th>name</th>\n",
       "    </tr>\n",
       "  </thead>\n",
       "  <tbody>\n",
       "    <tr>\n",
       "      <th>0</th>\n",
       "      <td>4794</td>\n",
       "    </tr>\n",
       "    <tr>\n",
       "      <th>1</th>\n",
       "      <td>5053</td>\n",
       "    </tr>\n",
       "    <tr>\n",
       "      <th>2</th>\n",
       "      <td>5070</td>\n",
       "    </tr>\n",
       "    <tr>\n",
       "      <th>3</th>\n",
       "      <td>5160</td>\n",
       "    </tr>\n",
       "    <tr>\n",
       "      <th>4</th>\n",
       "      <td>5174</td>\n",
       "    </tr>\n",
       "    <tr>\n",
       "      <th>5</th>\n",
       "      <td>5196</td>\n",
       "    </tr>\n",
       "    <tr>\n",
       "      <th>6</th>\n",
       "      <td>5323</td>\n",
       "    </tr>\n",
       "    <tr>\n",
       "      <th>7</th>\n",
       "      <td>5347</td>\n",
       "    </tr>\n",
       "    <tr>\n",
       "      <th>8</th>\n",
       "      <td>5553</td>\n",
       "    </tr>\n",
       "    <tr>\n",
       "      <th>9</th>\n",
       "      <td>5576</td>\n",
       "    </tr>\n",
       "    <tr>\n",
       "      <th>10</th>\n",
       "      <td>5696</td>\n",
       "    </tr>\n",
       "    <tr>\n",
       "      <th>11</th>\n",
       "      <td>5763</td>\n",
       "    </tr>\n",
       "    <tr>\n",
       "      <th>12</th>\n",
       "      <td>6002</td>\n",
       "    </tr>\n",
       "    <tr>\n",
       "      <th>13</th>\n",
       "      <td>6076</td>\n",
       "    </tr>\n",
       "    <tr>\n",
       "      <th>14</th>\n",
       "      <td>6407</td>\n",
       "    </tr>\n",
       "    <tr>\n",
       "      <th>15</th>\n",
       "      <td>4939</td>\n",
       "    </tr>\n",
       "    <tr>\n",
       "      <th>16</th>\n",
       "      <td>5253</td>\n",
       "    </tr>\n",
       "    <tr>\n",
       "      <th>17</th>\n",
       "      <td>5996</td>\n",
       "    </tr>\n",
       "    <tr>\n",
       "      <th>18</th>\n",
       "      <td>5997</td>\n",
       "    </tr>\n",
       "    <tr>\n",
       "      <th>19</th>\n",
       "      <td>6446</td>\n",
       "    </tr>\n",
       "  </tbody>\n",
       "</table>\n",
       "</div>"
      ],
      "text/plain": [
       "    name\n",
       "0   4794\n",
       "1   5053\n",
       "2   5070\n",
       "3   5160\n",
       "4   5174\n",
       "5   5196\n",
       "6   5323\n",
       "7   5347\n",
       "8   5553\n",
       "9   5576\n",
       "10  5696\n",
       "11  5763\n",
       "12  6002\n",
       "13  6076\n",
       "14  6407\n",
       "15  4939\n",
       "16  5253\n",
       "17  5996\n",
       "18  5997\n",
       "19  6446"
      ]
     },
     "execution_count": 11,
     "metadata": {},
     "output_type": "execute_result"
    }
   ],
   "source": [
    "pd.DataFrame(snuh_calls.name.str[4:])"
   ]
  },
  {
   "cell_type": "code",
   "execution_count": 9,
   "id": "incorporate-haiti",
   "metadata": {},
   "outputs": [
    {
     "data": {
      "text/plain": [
       "'4794\\n5053\\n5070\\n5160\\n5174\\n5196\\n5323\\n5347\\n5553\\n5576\\n5696\\n5763\\n6002\\n6076\\n6407\\n4939\\n5253\\n5996\\n5997\\n6446'"
      ]
     },
     "execution_count": 9,
     "metadata": {},
     "output_type": "execute_result"
    }
   ],
   "source": [
    "'\\n'.join(snuh_calls.name.str[4:].values)"
   ]
  },
  {
   "cell_type": "markdown",
   "id": "activated-victory",
   "metadata": {},
   "source": [
    "## Metheor result"
   ]
  },
  {
   "cell_type": "code",
   "execution_count": 8,
   "id": "impressed-auction",
   "metadata": {},
   "outputs": [],
   "source": [
    "def read_metheor_pairs_file(f):\n",
    "    tmp = pd.read_csv(f, sep='\\t')\n",
    "    \n",
    "    tmp['distance'] = tmp.cpg2 - tmp.cpg1\n",
    "    tmp = tmp.groupby('distance').agg({'n_concordant': 'sum', 'n_discordant': 'sum'}).reset_index()\n",
    "    \n",
    "    return tmp"
   ]
  },
  {
   "cell_type": "code",
   "execution_count": 17,
   "id": "engaging-winning",
   "metadata": {},
   "outputs": [
    {
     "data": {
      "text/plain": [
       "20"
      ]
     },
     "execution_count": 17,
     "metadata": {},
     "output_type": "execute_result"
    }
   ],
   "source": [
    "metheor_results = glob.glob('/data3/project/SNUH_DNMT3A/pipelines/METHEOR/result/SNUH-RRBS/*.pairs.tsv')\n",
    "metheor_results = [f for f in metheor_results if os.path.basename(f).split('.')[0] in snuh_calls.name.str[4:].values]\n",
    "len(metheor_results)"
   ]
  },
  {
   "cell_type": "code",
   "execution_count": 18,
   "id": "center-scott",
   "metadata": {},
   "outputs": [
    {
     "name": "stderr",
     "output_type": "stream",
     "text": [
      "100%|██████████| 20/20 [02:58<00:00,  8.92s/it]\n"
     ]
    }
   ],
   "source": [
    "pairs_result = []\n",
    "\n",
    "for f in tqdm(metheor_results):\n",
    "    run = os.path.basename(f).split('.')[0]\n",
    "    \n",
    "    df = read_metheor_pairs_file(f)\n",
    "    df['name'] = 'SNUH' + run\n",
    "    \n",
    "    pairs_result.append(df)\n",
    "    \n",
    "pairs_result = pd.concat(pairs_result)"
   ]
  },
  {
   "cell_type": "code",
   "execution_count": 23,
   "id": "surprising-survey",
   "metadata": {},
   "outputs": [],
   "source": [
    "pairs_result['lpmd'] = pairs_result.n_discordant / (pairs_result.n_concordant + pairs_result.n_discordant)"
   ]
  },
  {
   "cell_type": "code",
   "execution_count": 32,
   "id": "crude-active",
   "metadata": {},
   "outputs": [],
   "source": [
    "pairs_result['name'] = pairs_result['run']"
   ]
  },
  {
   "cell_type": "code",
   "execution_count": 33,
   "id": "perfect-terror",
   "metadata": {},
   "outputs": [
    {
     "data": {
      "text/html": [
       "<div>\n",
       "<style scoped>\n",
       "    .dataframe tbody tr th:only-of-type {\n",
       "        vertical-align: middle;\n",
       "    }\n",
       "\n",
       "    .dataframe tbody tr th {\n",
       "        vertical-align: top;\n",
       "    }\n",
       "\n",
       "    .dataframe thead th {\n",
       "        text-align: right;\n",
       "    }\n",
       "</style>\n",
       "<table border=\"1\" class=\"dataframe\">\n",
       "  <thead>\n",
       "    <tr style=\"text-align: right;\">\n",
       "      <th></th>\n",
       "      <th>distance</th>\n",
       "      <th>n_concordant</th>\n",
       "      <th>n_discordant</th>\n",
       "      <th>run</th>\n",
       "      <th>lpmd</th>\n",
       "      <th>name</th>\n",
       "    </tr>\n",
       "  </thead>\n",
       "  <tbody>\n",
       "    <tr>\n",
       "      <th>0</th>\n",
       "      <td>2</td>\n",
       "      <td>4806341</td>\n",
       "      <td>209705</td>\n",
       "      <td>SNUH5553</td>\n",
       "      <td>0.041807</td>\n",
       "      <td>SNUH5553</td>\n",
       "    </tr>\n",
       "    <tr>\n",
       "      <th>1</th>\n",
       "      <td>3</td>\n",
       "      <td>3931142</td>\n",
       "      <td>222005</td>\n",
       "      <td>SNUH5553</td>\n",
       "      <td>0.053455</td>\n",
       "      <td>SNUH5553</td>\n",
       "    </tr>\n",
       "    <tr>\n",
       "      <th>2</th>\n",
       "      <td>4</td>\n",
       "      <td>3866019</td>\n",
       "      <td>242609</td>\n",
       "      <td>SNUH5553</td>\n",
       "      <td>0.059049</td>\n",
       "      <td>SNUH5553</td>\n",
       "    </tr>\n",
       "    <tr>\n",
       "      <th>3</th>\n",
       "      <td>5</td>\n",
       "      <td>3392547</td>\n",
       "      <td>195775</td>\n",
       "      <td>SNUH5553</td>\n",
       "      <td>0.054559</td>\n",
       "      <td>SNUH5553</td>\n",
       "    </tr>\n",
       "    <tr>\n",
       "      <th>4</th>\n",
       "      <td>6</td>\n",
       "      <td>4163944</td>\n",
       "      <td>235795</td>\n",
       "      <td>SNUH5553</td>\n",
       "      <td>0.053593</td>\n",
       "      <td>SNUH5553</td>\n",
       "    </tr>\n",
       "    <tr>\n",
       "      <th>...</th>\n",
       "      <td>...</td>\n",
       "      <td>...</td>\n",
       "      <td>...</td>\n",
       "      <td>...</td>\n",
       "      <td>...</td>\n",
       "      <td>...</td>\n",
       "    </tr>\n",
       "    <tr>\n",
       "      <th>23</th>\n",
       "      <td>25</td>\n",
       "      <td>866</td>\n",
       "      <td>158</td>\n",
       "      <td>SNUH4794</td>\n",
       "      <td>0.154297</td>\n",
       "      <td>SNUH4794</td>\n",
       "    </tr>\n",
       "    <tr>\n",
       "      <th>24</th>\n",
       "      <td>26</td>\n",
       "      <td>47</td>\n",
       "      <td>11</td>\n",
       "      <td>SNUH4794</td>\n",
       "      <td>0.189655</td>\n",
       "      <td>SNUH4794</td>\n",
       "    </tr>\n",
       "    <tr>\n",
       "      <th>25</th>\n",
       "      <td>27</td>\n",
       "      <td>14</td>\n",
       "      <td>3</td>\n",
       "      <td>SNUH4794</td>\n",
       "      <td>0.176471</td>\n",
       "      <td>SNUH4794</td>\n",
       "    </tr>\n",
       "    <tr>\n",
       "      <th>26</th>\n",
       "      <td>28</td>\n",
       "      <td>6</td>\n",
       "      <td>1</td>\n",
       "      <td>SNUH4794</td>\n",
       "      <td>0.142857</td>\n",
       "      <td>SNUH4794</td>\n",
       "    </tr>\n",
       "    <tr>\n",
       "      <th>27</th>\n",
       "      <td>29</td>\n",
       "      <td>10</td>\n",
       "      <td>0</td>\n",
       "      <td>SNUH4794</td>\n",
       "      <td>0.000000</td>\n",
       "      <td>SNUH4794</td>\n",
       "    </tr>\n",
       "  </tbody>\n",
       "</table>\n",
       "<p>546 rows × 6 columns</p>\n",
       "</div>"
      ],
      "text/plain": [
       "    distance  n_concordant  n_discordant       run      lpmd      name\n",
       "0          2       4806341        209705  SNUH5553  0.041807  SNUH5553\n",
       "1          3       3931142        222005  SNUH5553  0.053455  SNUH5553\n",
       "2          4       3866019        242609  SNUH5553  0.059049  SNUH5553\n",
       "3          5       3392547        195775  SNUH5553  0.054559  SNUH5553\n",
       "4          6       4163944        235795  SNUH5553  0.053593  SNUH5553\n",
       "..       ...           ...           ...       ...       ...       ...\n",
       "23        25           866           158  SNUH4794  0.154297  SNUH4794\n",
       "24        26            47            11  SNUH4794  0.189655  SNUH4794\n",
       "25        27            14             3  SNUH4794  0.176471  SNUH4794\n",
       "26        28             6             1  SNUH4794  0.142857  SNUH4794\n",
       "27        29            10             0  SNUH4794  0.000000  SNUH4794\n",
       "\n",
       "[546 rows x 6 columns]"
      ]
     },
     "execution_count": 33,
     "metadata": {},
     "output_type": "execute_result"
    }
   ],
   "source": [
    "pairs_result"
   ]
  },
  {
   "cell_type": "code",
   "execution_count": 41,
   "id": "internal-adventure",
   "metadata": {},
   "outputs": [],
   "source": [
    "pairs_result_ann = pairs_result.merge(snuh_calls, on='name')"
   ]
  },
  {
   "cell_type": "code",
   "execution_count": 42,
   "id": "graphic-cathedral",
   "metadata": {},
   "outputs": [],
   "source": [
    "pairs_result_ann = pairs_result_ann[pairs_result_ann.distance <= 24]"
   ]
  },
  {
   "cell_type": "code",
   "execution_count": 49,
   "id": "brazilian-swift",
   "metadata": {},
   "outputs": [
    {
     "data": {
      "image/png": "[encoded data removed]",
      "text/plain": [
       "<Figure size 150x225 with 1 Axes>"
      ]
     },
     "metadata": {
      "needs_background": "light"
     },
     "output_type": "display_data"
    }
   ],
   "source": [
    "line_kws = {\n",
    "    'palette': ['orange', 'C0'],\n",
    "    'lw': 0.75,\n",
    "    'ci': 68,\n",
    "}\n",
    "fig = plt.figure(figsize=(1, 1.5))\n",
    "ax = fig.add_subplot(111)\n",
    "\n",
    "ax.set_title('SNUH', pad=5, fontsize=7)\n",
    "\n",
    "d_5763 = pairs_result_ann[pairs_result_ann.name == 'SNUH5763'].sort_values('distance')\n",
    "d_5347 = pairs_result_ann[pairs_result_ann.name == 'SNUH5347'].sort_values('distance')\n",
    "\n",
    "ax.plot(d_5763.distance, d_5763.lpmd, lw=1, ls='--', c='#990000', label='R736S')\n",
    "ax.plot(d_5347.distance, d_5347.lpmd, lw=1, ls='-', c='#990000', label='L754P')\n",
    "\n",
    "sns.lineplot(data=pairs_result_ann[pairs_result_ann.status != 'INS'], x='distance', y='lpmd', hue='status', ax=ax, **line_kws)\n",
    "\n",
    "handles, labels = ax.get_legend_handles_labels()\n",
    "ax.legend(handles, ['SNUH5763 (R736S)', 'SNUH5347 (L754P)', 'WT (n=14)', 'R882 (n=4)'], frameon=False, fontsize=6, bbox_to_anchor=(1.01, 0.5), loc='center left')\n",
    "ax.set_xticks([2, 10, 20])\n",
    "ax.set_xlabel('Distance (bp)')\n",
    "ax.set_ylabel('LPMD (Genomewide)')\n",
    "\n",
    "# for d in ['top', 'right']:\n",
    "#     ax.spines[d].set_visible(False)\n",
    "    \n",
    "save_figures('source_data_figures/snuh_lpmd/snuh_lpmd')"
   ]
  }
 ],
 "metadata": {
  "kernelspec": {
   "display_name": "analysis",
   "language": "python",
   "name": "dnmt3a"
  },
  "language_info": {
   "codemirror_mode": {
    "name": "ipython",
    "version": 3
   },
   "file_extension": ".py",
   "mimetype": "text/x-python",
   "name": "python",
   "nbconvert_exporter": "python",
   "pygments_lexer": "ipython3",
   "version": "3.7.6"
  }
 },
 "nbformat": 4,
 "nbformat_minor": 5
}
